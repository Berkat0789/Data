{
 "cells": [
  {
   "cell_type": "markdown",
   "metadata": {},
   "source": [
    "#### A Brain tumor is considered as one of the aggressive diseases, among children and adults. Brain tumors account for 85 to 90 percent of all primary Central Nervous System(CNS) tumors. Every year, around 11,700 people are diagnosed with a brain tumor. The 5-year survival rate for people with a cancerous brain or CNS tumor is approximately 34 percent for men and36 percent for women. Brain Tumors are classified as: Benign Tumor, Malignant Tumor, Pituitary Tumor, etc. Proper treatment, planning, and accurate diagnostics should be implemented to improve the life expectancy of the patients. The best technique to detect brain tumors is Magnetic Resonance Imaging (MRI). A huge amount of image data is generated through the scans. These images are examined by the radiologist. A manual examination can be error-prone due to the level of complexities involved in brain tumors and their properties. Application of automated classification techniques using Machine Learning(ML) and Artificial Intelligence(AI)has consistently shown higher accuracy than manual classification. Hence, proposing a system performing detection and classification by using Deep Learning Algorithms using ConvolutionNeural Network (CNN), Artificial Neural Network (ANN), and TransferLearning (TL) would be helpful to doctors all around the world."
   ]
  },
  {
   "cell_type": "markdown",
   "metadata": {},
   "source": [
    "### Acknowledgements for Dataset.\n",
    "- Navoneel Chakrabarty\n",
    "- Swati Kanchan"
   ]
  },
  {
   "cell_type": "markdown",
   "metadata": {},
   "source": [
    "#### https://www.kaggle.com/sartajbhuvaji/brain-tumor-classification-mri"
   ]
  },
  {
   "cell_type": "markdown",
   "metadata": {},
   "source": [
    "### Project Overview \n",
    "- You are assigned to assist doctors in classifying 3 different types of brain tumors using a Computer Vision(CNN)\n",
    "- Create a model that will provide a satifying prediciton for each tumor image \n",
    "- Remember that this is a critical diagnostic so your model should have good probabilitiy assignments in predictions for the doctors to consider it a valid model"
   ]
  },
  {
   "cell_type": "markdown",
   "metadata": {},
   "source": [
    "### Importing Libraries"
   ]
  },
  {
   "cell_type": "code",
   "execution_count": 3,
   "metadata": {},
   "outputs": [],
   "source": [
    "import os \n",
    "import matplotlib.pyplot as plt\n",
    "from matplotlib.image import imread\n",
    "import seaborn as sns\n",
    "import numpy as np"
   ]
  },
  {
   "cell_type": "code",
   "execution_count": 4,
   "metadata": {},
   "outputs": [],
   "source": [
    "from tensorflow.keras.preprocessing import image\n",
    "from tensorflow.keras.models import Sequential\n",
    "from tensorflow.keras.layers import Conv2D, MaxPool2D, Dense, Dropout, Flatten\n",
    "from tensorflow.keras.callbacks import EarlyStopping"
   ]
  },
  {
   "cell_type": "markdown",
   "metadata": {},
   "source": [
    "### Loading Data \n",
    "- load data from local path to prevent lage files issues with Git\n",
    "- The model will most likely be trained on an AWS EC2 instance to speed up training \n",
    "- This is due to CNN taking a much longer time to train"
   ]
  },
  {
   "cell_type": "code",
   "execution_count": 5,
   "metadata": {},
   "outputs": [],
   "source": [
    "data_dir = \"/Users/berkatbhatti/Desktop/DataFiles/Images/brainTumor/\""
   ]
  },
  {
   "cell_type": "code",
   "execution_count": 6,
   "metadata": {},
   "outputs": [
    {
     "data": {
      "text/plain": [
       "['Training', 'Testing']"
      ]
     },
     "execution_count": 6,
     "metadata": {},
     "output_type": "execute_result"
    }
   ],
   "source": [
    "os.listdir(data_dir)"
   ]
  },
  {
   "cell_type": "markdown",
   "metadata": {},
   "source": [
    "### Training Dir\n",
    "- Path to the training images"
   ]
  },
  {
   "cell_type": "code",
   "execution_count": 7,
   "metadata": {},
   "outputs": [],
   "source": [
    "train_dir = data_dir+\"Training\""
   ]
  },
  {
   "cell_type": "code",
   "execution_count": 8,
   "metadata": {},
   "outputs": [
    {
     "data": {
      "text/plain": [
       "['no_tumor', 'meningioma_tumor', 'glioma_tumor', 'pituitary_tumor']"
      ]
     },
     "execution_count": 8,
     "metadata": {},
     "output_type": "execute_result"
    }
   ],
   "source": [
    "os.listdir(train_dir)"
   ]
  },
  {
   "cell_type": "markdown",
   "metadata": {},
   "source": [
    "### Testing Dir \n",
    "- Path to testing images "
   ]
  },
  {
   "cell_type": "code",
   "execution_count": 9,
   "metadata": {},
   "outputs": [],
   "source": [
    "test_dir = data_dir+\"Testing\""
   ]
  },
  {
   "cell_type": "code",
   "execution_count": 10,
   "metadata": {},
   "outputs": [
    {
     "data": {
      "text/plain": [
       "['no_tumor', 'meningioma_tumor', 'glioma_tumor', 'pituitary_tumor']"
      ]
     },
     "execution_count": 10,
     "metadata": {},
     "output_type": "execute_result"
    }
   ],
   "source": [
    "os.listdir(test_dir)"
   ]
  },
  {
   "cell_type": "markdown",
   "metadata": {},
   "source": [
    "#### Taking a look at each type of Tumor"
   ]
  },
  {
   "cell_type": "markdown",
   "metadata": {},
   "source": [
    "## meningioma_tumor"
   ]
  },
  {
   "cell_type": "code",
   "execution_count": 11,
   "metadata": {},
   "outputs": [
    {
     "data": {
      "text/plain": [
       "['p (477).jpg',\n",
       " 'p (162).jpg',\n",
       " 'p (498).jpg',\n",
       " 'p (532).jpg',\n",
       " 'p (75).jpg',\n",
       " 'p (420).jpg',\n",
       " 'p (565).jpg',\n",
       " 'p (135).jpg',\n",
       " 'p (22).jpg',\n",
       " 'p (359).jpg',\n",
       " 'p (709).jpg',\n",
       " 'p (436).jpg',\n",
       " 'p (820).jpg',\n",
       " 'p (123).jpg',\n",
       " 'p (573).jpg',\n",
       " 'p (8).jpg',\n",
       " 'p (34).jpg',\n",
       " 'p (461).jpg',\n",
       " 'p (524).jpg',\n",
       " 'p (174).jpg',\n",
       " 'p (63).jpg',\n",
       " 'p (318).jpg',\n",
       " 'p (748).jpg',\n",
       " 'p (363).jpg',\n",
       " 'p (699).jpg',\n",
       " 'p (733).jpg',\n",
       " 'p (226).jpg',\n",
       " 'p (676).jpg',\n",
       " 'p (18).jpg',\n",
       " 'p (158).jpg',\n",
       " 'p (508).jpg',\n",
       " 'p (764).jpg',\n",
       " 'p (334).jpg',\n",
       " 'p (621).jpg',\n",
       " 'p (271).jpg',\n",
       " 'p (322).jpg',\n",
       " 'p (772).jpg',\n",
       " 'p (288).jpg',\n",
       " 'p (267).jpg',\n",
       " 'p (637).jpg',\n",
       " 'p (59).jpg',\n",
       " 'p (119).jpg',\n",
       " 'p (549).jpg',\n",
       " 'p (725).jpg',\n",
       " 'p (375).jpg',\n",
       " 'p (660).jpg',\n",
       " 'p (230).jpg',\n",
       " 'p (247).jpg',\n",
       " 'p (617).jpg',\n",
       " 'p (79).jpg',\n",
       " 'p (96).jpg',\n",
       " 'p (302).jpg',\n",
       " 'p (752).jpg',\n",
       " 'p (181).jpg',\n",
       " 'p (494).jpg',\n",
       " 'p (640).jpg',\n",
       " 'p (210).jpg',\n",
       " 'p (705).jpg',\n",
       " 'p (355).jpg',\n",
       " 'p (586).jpg',\n",
       " 'p (139).jpg',\n",
       " 'p (569).jpg',\n",
       " 'p (206).jpg',\n",
       " 'p (656).jpg',\n",
       " 'p (38).jpg',\n",
       " 'p (343).jpg',\n",
       " 'p (713).jpg',\n",
       " 'p (590).jpg',\n",
       " 'p (4).jpg',\n",
       " 'p (601).jpg',\n",
       " 'p (251).jpg',\n",
       " 'p (744).jpg',\n",
       " 'p (314).jpg',\n",
       " 'p (80).jpg',\n",
       " 'p (197).jpg',\n",
       " 'p (178).jpg',\n",
       " 'p (482).jpg',\n",
       " 'p (528).jpg',\n",
       " 'p (695).jpg',\n",
       " 'p (14).jpg',\n",
       " 'p (380).jpg',\n",
       " 'p (800).jpg',\n",
       " 'p (103).jpg',\n",
       " 'p (553).jpg',\n",
       " 'p (416).jpg',\n",
       " 'p (338).jpg',\n",
       " 'p (768).jpg',\n",
       " 'p (292).jpg',\n",
       " 'p (787).jpg',\n",
       " 'p (43).jpg',\n",
       " 'p (504).jpg',\n",
       " 'p (154).jpg',\n",
       " 'p (441).jpg',\n",
       " 'p (284).jpg',\n",
       " 'p (55).jpg',\n",
       " 'p (791).jpg',\n",
       " 'p (142).jpg',\n",
       " 'p (512).jpg',\n",
       " 'p (457).jpg',\n",
       " 'p (379).jpg',\n",
       " 'p (683).jpg',\n",
       " 'p (729).jpg',\n",
       " 'p (396).jpg',\n",
       " 'p (545).jpg',\n",
       " 'p (115).jpg',\n",
       " 'p (816).jpg',\n",
       " 'p (400).jpg',\n",
       " 'p (544).jpg',\n",
       " 'p (114).jpg',\n",
       " 'p (817).jpg',\n",
       " 'p (401).jpg',\n",
       " 'p (378).jpg',\n",
       " 'p (682).jpg',\n",
       " 'p (728).jpg',\n",
       " 'p (397).jpg',\n",
       " 'p (143).jpg',\n",
       " 'p (513).jpg',\n",
       " 'p (456).jpg',\n",
       " 'p (285).jpg',\n",
       " 'p (54).jpg',\n",
       " 'p (790).jpg',\n",
       " 'p (505).jpg',\n",
       " 'p (155).jpg',\n",
       " 'p (440).jpg',\n",
       " 'p (339).jpg',\n",
       " 'p (769).jpg',\n",
       " 'p (293).jpg',\n",
       " 'p (786).jpg',\n",
       " 'p (42).jpg',\n",
       " 'p (801).jpg',\n",
       " 'p (102).jpg',\n",
       " 'p (552).jpg',\n",
       " 'p (417).jpg',\n",
       " 'p (694).jpg',\n",
       " 'p (15).jpg',\n",
       " 'p (381).jpg',\n",
       " 'p (196).jpg',\n",
       " 'p (179).jpg',\n",
       " 'p (483).jpg',\n",
       " 'p (529).jpg',\n",
       " 'p (600).jpg',\n",
       " 'p (250).jpg',\n",
       " 'p (745).jpg',\n",
       " 'p (315).jpg',\n",
       " 'p (81).jpg',\n",
       " 'p (591).jpg',\n",
       " 'p (5).jpg',\n",
       " 'p (207).jpg',\n",
       " 'p (657).jpg',\n",
       " 'p (39).jpg',\n",
       " 'p (342).jpg',\n",
       " 'p (712).jpg',\n",
       " 'p (587).jpg',\n",
       " 'p (138).jpg',\n",
       " 'p (568).jpg',\n",
       " 'p (641).jpg',\n",
       " 'p (211).jpg',\n",
       " 'p (704).jpg',\n",
       " 'p (354).jpg',\n",
       " 'p (180).jpg',\n",
       " 'p (495).jpg',\n",
       " 'p (246).jpg',\n",
       " 'p (616).jpg',\n",
       " 'p (78).jpg',\n",
       " 'p (97).jpg',\n",
       " 'p (303).jpg',\n",
       " 'p (753).jpg',\n",
       " 'p (724).jpg',\n",
       " 'p (374).jpg',\n",
       " 'p (661).jpg',\n",
       " 'p (231).jpg',\n",
       " 'p (118).jpg',\n",
       " 'p (548).jpg',\n",
       " 'p (323).jpg',\n",
       " 'p (773).jpg',\n",
       " 'p (289).jpg',\n",
       " 'p (266).jpg',\n",
       " 'p (636).jpg',\n",
       " 'p (58).jpg',\n",
       " 'p (765).jpg',\n",
       " 'p (335).jpg',\n",
       " 'p (620).jpg',\n",
       " 'p (270).jpg',\n",
       " 'p (159).jpg',\n",
       " 'p (509).jpg',\n",
       " 'p (362).jpg',\n",
       " 'p (698).jpg',\n",
       " 'p (732).jpg',\n",
       " 'p (227).jpg',\n",
       " 'p (677).jpg',\n",
       " 'p (19).jpg',\n",
       " 'p (62).jpg',\n",
       " 'p (319).jpg',\n",
       " 'p (749).jpg',\n",
       " 'p (460).jpg',\n",
       " 'p (525).jpg',\n",
       " 'p (175).jpg',\n",
       " 'p (35).jpg',\n",
       " 'p (437).jpg',\n",
       " 'p (821).jpg',\n",
       " 'p (122).jpg',\n",
       " 'p (572).jpg',\n",
       " 'p (9).jpg',\n",
       " 'p (23).jpg',\n",
       " 'p (358).jpg',\n",
       " 'p (708).jpg',\n",
       " 'p (421).jpg',\n",
       " 'p (564).jpg',\n",
       " 'p (134).jpg',\n",
       " 'p (74).jpg',\n",
       " 'p (476).jpg',\n",
       " 'p (163).jpg',\n",
       " 'p (499).jpg',\n",
       " 'p (533).jpg',\n",
       " 'p (241).jpg',\n",
       " 'p (611).jpg',\n",
       " 'p (304).jpg',\n",
       " 'p (754).jpg',\n",
       " 'p (90).jpg',\n",
       " 'p (187).jpg',\n",
       " 'p (538).jpg',\n",
       " 'p (168).jpg',\n",
       " 'p (492).jpg',\n",
       " 'p (646).jpg',\n",
       " 'p (216).jpg',\n",
       " 'p (28).jpg',\n",
       " 'p (703).jpg',\n",
       " 'p (353).jpg',\n",
       " 'p (580).jpg',\n",
       " 'p (200).jpg',\n",
       " 'p (650).jpg',\n",
       " 'p (345).jpg',\n",
       " 'p (715).jpg',\n",
       " 'p (596).jpg',\n",
       " 'p (579).jpg',\n",
       " 'p (2).jpg',\n",
       " 'p (129).jpg',\n",
       " 'p (607).jpg',\n",
       " 'p (257).jpg',\n",
       " 'p (69).jpg',\n",
       " 'p (86).jpg',\n",
       " 'p (742).jpg',\n",
       " 'p (312).jpg',\n",
       " 'p (191).jpg',\n",
       " 'p (484).jpg',\n",
       " 'p (739).jpg',\n",
       " 'p (369).jpg',\n",
       " 'p (693).jpg',\n",
       " 'p (386).jpg',\n",
       " 'p (12).jpg',\n",
       " 'p (105).jpg',\n",
       " 'p (555).jpg',\n",
       " 'p (806).jpg',\n",
       " 'p (410).jpg',\n",
       " 'p (294).jpg',\n",
       " 'p (45).jpg',\n",
       " 'p (781).jpg',\n",
       " 'p (502).jpg',\n",
       " 'p (152).jpg',\n",
       " 'p (447).jpg',\n",
       " 'p (778).jpg',\n",
       " 'p (282).jpg',\n",
       " 'p (328).jpg',\n",
       " 'p (797).jpg',\n",
       " 'p (53).jpg',\n",
       " 'p (144).jpg',\n",
       " 'p (514).jpg',\n",
       " 'p (451).jpg',\n",
       " 'p (685).jpg',\n",
       " 'p (390).jpg',\n",
       " 'p (810).jpg',\n",
       " 'p (543).jpg',\n",
       " 'p (113).jpg',\n",
       " 'p (406).jpg',\n",
       " 'p (471).jpg',\n",
       " 'p (164).jpg',\n",
       " 'p (534).jpg',\n",
       " 'p (73).jpg',\n",
       " 'p (758).jpg',\n",
       " 'p (308).jpg',\n",
       " 'p (426).jpg',\n",
       " 'p (563).jpg',\n",
       " 'p (133).jpg',\n",
       " 'p (24).jpg',\n",
       " 'p (430).jpg',\n",
       " 'p (125).jpg',\n",
       " 'p (575).jpg',\n",
       " 'p (826).jpg',\n",
       " 'p (32).jpg',\n",
       " 'p (719).jpg',\n",
       " 'p (349).jpg',\n",
       " 'p (467).jpg',\n",
       " 'p (522).jpg',\n",
       " 'p (172).jpg',\n",
       " 'p (488).jpg',\n",
       " 'p (65).jpg',\n",
       " 'p (559).jpg',\n",
       " 'p (109).jpg',\n",
       " 'p (365).jpg',\n",
       " 'p (735).jpg',\n",
       " 'p (220).jpg',\n",
       " 'p (670).jpg',\n",
       " 'p (762).jpg',\n",
       " 'p (298).jpg',\n",
       " 'p (332).jpg',\n",
       " 'p (627).jpg',\n",
       " 'p (277).jpg',\n",
       " 'p (49).jpg',\n",
       " 'p (518).jpg',\n",
       " 'p (148).jpg',\n",
       " 'p (324).jpg',\n",
       " 'p (774).jpg',\n",
       " 'p (261).jpg',\n",
       " 'p (631).jpg',\n",
       " 'p (723).jpg',\n",
       " 'p (373).jpg',\n",
       " 'p (689).jpg',\n",
       " 'p (666).jpg',\n",
       " 'p (236).jpg',\n",
       " 'p (722).jpg',\n",
       " 'p (372).jpg',\n",
       " 'p (688).jpg',\n",
       " 'p (667).jpg',\n",
       " 'p (237).jpg',\n",
       " 'p (325).jpg',\n",
       " 'p (775).jpg',\n",
       " 'p (260).jpg',\n",
       " 'p (630).jpg',\n",
       " 'p (519).jpg',\n",
       " 'p (149).jpg',\n",
       " 'p (763).jpg',\n",
       " 'p (299).jpg',\n",
       " 'p (333).jpg',\n",
       " 'p (626).jpg',\n",
       " 'p (276).jpg',\n",
       " 'p (48).jpg',\n",
       " 'p (364).jpg',\n",
       " 'p (734).jpg',\n",
       " 'p (221).jpg',\n",
       " 'p (671).jpg',\n",
       " 'p (558).jpg',\n",
       " 'p (108).jpg',\n",
       " 'p (64).jpg',\n",
       " 'p (466).jpg',\n",
       " 'p (523).jpg',\n",
       " 'p (173).jpg',\n",
       " 'p (489).jpg',\n",
       " 'p (33).jpg',\n",
       " 'p (718).jpg',\n",
       " 'p (348).jpg',\n",
       " 'p (431).jpg',\n",
       " 'p (124).jpg',\n",
       " 'p (574).jpg',\n",
       " 'p (827).jpg',\n",
       " 'p (25).jpg',\n",
       " 'p (427).jpg',\n",
       " 'p (562).jpg',\n",
       " 'p (132).jpg',\n",
       " 'p (72).jpg',\n",
       " 'p (759).jpg',\n",
       " 'p (309).jpg',\n",
       " 'p (470).jpg',\n",
       " 'p (165).jpg',\n",
       " 'p (535).jpg',\n",
       " 'p (811).jpg',\n",
       " 'p (542).jpg',\n",
       " 'p (112).jpg',\n",
       " 'p (407).jpg',\n",
       " 'p (684).jpg',\n",
       " 'p (391).jpg',\n",
       " 'p (145).jpg',\n",
       " 'p (515).jpg',\n",
       " 'p (450).jpg',\n",
       " 'p (779).jpg',\n",
       " 'p (283).jpg',\n",
       " 'p (329).jpg',\n",
       " 'p (796).jpg',\n",
       " 'p (52).jpg',\n",
       " 'p (503).jpg',\n",
       " 'p (153).jpg',\n",
       " 'p (446).jpg',\n",
       " 'p (295).jpg',\n",
       " 'p (44).jpg',\n",
       " 'p (780).jpg',\n",
       " 'p (104).jpg',\n",
       " 'p (554).jpg',\n",
       " 'p (807).jpg',\n",
       " 'p (411).jpg',\n",
       " 'p (738).jpg',\n",
       " 'p (368).jpg',\n",
       " 'p (692).jpg',\n",
       " 'p (387).jpg',\n",
       " 'p (13).jpg',\n",
       " 'p (190).jpg',\n",
       " 'p (485).jpg',\n",
       " 'p (606).jpg',\n",
       " 'p (256).jpg',\n",
       " 'p (68).jpg',\n",
       " 'p (87).jpg',\n",
       " 'p (743).jpg',\n",
       " 'p (313).jpg',\n",
       " 'p (597).jpg',\n",
       " 'p (578).jpg',\n",
       " 'p (3).jpg',\n",
       " 'p (128).jpg',\n",
       " 'p (201).jpg',\n",
       " 'p (651).jpg',\n",
       " 'p (344).jpg',\n",
       " 'p (714).jpg',\n",
       " 'p (581).jpg',\n",
       " 'p (647).jpg',\n",
       " 'p (217).jpg',\n",
       " 'p (29).jpg',\n",
       " 'p (702).jpg',\n",
       " 'p (352).jpg',\n",
       " 'p (186).jpg',\n",
       " 'p (539).jpg',\n",
       " 'p (169).jpg',\n",
       " 'p (493).jpg',\n",
       " 'p (240).jpg',\n",
       " 'p (610).jpg',\n",
       " 'p (305).jpg',\n",
       " 'p (755).jpg',\n",
       " 'p (91).jpg',\n",
       " 'p (404).jpg',\n",
       " 'p (541).jpg',\n",
       " 'p (111).jpg',\n",
       " 'p (812).jpg',\n",
       " 'p (238).jpg',\n",
       " 'p (668).jpg',\n",
       " 'p (392).jpg',\n",
       " 'p (687).jpg',\n",
       " 'p (453).jpg',\n",
       " 'p (146).jpg',\n",
       " 'p (516).jpg',\n",
       " 'p (51).jpg',\n",
       " 'p (795).jpg',\n",
       " 'p (280).jpg',\n",
       " 'p (445).jpg',\n",
       " 'p (500).jpg',\n",
       " 'p (150).jpg',\n",
       " 'p (279).jpg',\n",
       " 'p (783).jpg',\n",
       " 'p (629).jpg',\n",
       " 'p (47).jpg',\n",
       " 'p (296).jpg',\n",
       " 'p (412).jpg',\n",
       " 'p (804).jpg',\n",
       " 'p (107).jpg',\n",
       " 'p (557).jpg',\n",
       " 'p (10).jpg',\n",
       " 'p (384).jpg',\n",
       " 'p (691).jpg',\n",
       " 'p (486).jpg',\n",
       " 'p (469).jpg',\n",
       " 'p (193).jpg',\n",
       " 'p (740).jpg',\n",
       " 'p (310).jpg',\n",
       " 'p (84).jpg',\n",
       " 'p (605).jpg',\n",
       " 'p (255).jpg',\n",
       " 'p (594).jpg',\n",
       " 'p (347).jpg',\n",
       " 'p (717).jpg',\n",
       " 'p (202).jpg',\n",
       " 'p (652).jpg',\n",
       " 'p (582).jpg',\n",
       " 'p (428).jpg',\n",
       " 'p (701).jpg',\n",
       " 'p (351).jpg',\n",
       " 'p (644).jpg',\n",
       " 'p (214).jpg',\n",
       " 'p (490).jpg',\n",
       " 'p (185).jpg',\n",
       " 'p (92).jpg',\n",
       " 'p (306).jpg',\n",
       " 'p (756).jpg',\n",
       " 'p (243).jpg',\n",
       " 'p (613).jpg',\n",
       " 'p (664).jpg',\n",
       " 'p (234).jpg',\n",
       " 'p (721).jpg',\n",
       " 'p (371).jpg',\n",
       " 'p (408).jpg',\n",
       " 'p (263).jpg',\n",
       " 'p (799).jpg',\n",
       " 'p (633).jpg',\n",
       " 'p (326).jpg',\n",
       " 'p (776).jpg',\n",
       " 'p (625).jpg',\n",
       " 'p (275).jpg',\n",
       " 'p (760).jpg',\n",
       " 'p (330).jpg',\n",
       " 'p (449).jpg',\n",
       " 'p (222).jpg',\n",
       " 'p (672).jpg',\n",
       " 'p (388).jpg',\n",
       " 'p (367).jpg',\n",
       " 'p (737).jpg',\n",
       " 'p (808).jpg',\n",
       " 'p (88).jpg',\n",
       " 'p (259).jpg',\n",
       " 'p (609).jpg',\n",
       " 'p (67).jpg',\n",
       " 'p (520).jpg',\n",
       " 'p (170).jpg',\n",
       " 'p (465).jpg',\n",
       " 'p (30).jpg',\n",
       " 'p (824).jpg',\n",
       " 'p (127).jpg',\n",
       " 'p (577).jpg',\n",
       " 'p (598).jpg',\n",
       " 'p (432).jpg',\n",
       " 'p (218).jpg',\n",
       " 'p (648).jpg',\n",
       " 'p (26).jpg',\n",
       " 'p (561).jpg',\n",
       " 'p (131).jpg',\n",
       " 'p (424).jpg',\n",
       " 'p (71).jpg',\n",
       " 'p (166).jpg',\n",
       " 'p (536).jpg',\n",
       " 'p (473).jpg',\n",
       " 'p (189).jpg',\n",
       " 'p (167).jpg',\n",
       " 'p (537).jpg',\n",
       " 'p (472).jpg',\n",
       " 'p (188).jpg',\n",
       " 'p (70).jpg',\n",
       " 'p (560).jpg',\n",
       " 'p (130).jpg',\n",
       " 'p (425).jpg',\n",
       " 'p (219).jpg',\n",
       " 'p (649).jpg',\n",
       " 'p (27).jpg',\n",
       " 'p (825).jpg',\n",
       " 'p (126).jpg',\n",
       " 'p (576).jpg',\n",
       " 'p (599).jpg',\n",
       " 'p (433).jpg',\n",
       " 'p (31).jpg',\n",
       " 'p (521).jpg',\n",
       " 'p (171).jpg',\n",
       " 'p (464).jpg',\n",
       " 'p (89).jpg',\n",
       " 'p (258).jpg',\n",
       " 'p (608).jpg',\n",
       " 'p (66).jpg',\n",
       " 'p (809).jpg',\n",
       " 'p (223).jpg',\n",
       " 'p (673).jpg',\n",
       " 'p (389).jpg',\n",
       " 'p (366).jpg',\n",
       " 'p (736).jpg',\n",
       " 'p (448).jpg',\n",
       " 'p (624).jpg',\n",
       " 'p (274).jpg',\n",
       " 'p (761).jpg',\n",
       " 'p (331).jpg',\n",
       " 'p (262).jpg',\n",
       " 'p (798).jpg',\n",
       " 'p (632).jpg',\n",
       " 'p (327).jpg',\n",
       " 'p (777).jpg',\n",
       " 'p (409).jpg',\n",
       " 'p (665).jpg',\n",
       " 'p (235).jpg',\n",
       " 'p (720).jpg',\n",
       " 'p (370).jpg',\n",
       " 'p (93).jpg',\n",
       " 'p (307).jpg',\n",
       " 'p (757).jpg',\n",
       " 'p (242).jpg',\n",
       " 'p (612).jpg',\n",
       " 'p (491).jpg',\n",
       " 'p (184).jpg',\n",
       " 'p (700).jpg',\n",
       " 'p (350).jpg',\n",
       " 'p (645).jpg',\n",
       " 'p (215).jpg',\n",
       " 'p (583).jpg',\n",
       " 'p (429).jpg',\n",
       " 'p (346).jpg',\n",
       " 'p (716).jpg',\n",
       " 'p (203).jpg',\n",
       " 'p (653).jpg',\n",
       " 'p (1).jpg',\n",
       " 'p (595).jpg',\n",
       " 'p (741).jpg',\n",
       " 'p (311).jpg',\n",
       " 'p (85).jpg',\n",
       " 'p (604).jpg',\n",
       " 'p (254).jpg',\n",
       " 'p (487).jpg',\n",
       " 'p (468).jpg',\n",
       " 'p (192).jpg',\n",
       " 'p (11).jpg',\n",
       " 'p (385).jpg',\n",
       " 'p (690).jpg',\n",
       " 'p (413).jpg',\n",
       " 'p (805).jpg',\n",
       " 'p (106).jpg',\n",
       " 'p (556).jpg',\n",
       " 'p (278).jpg',\n",
       " 'p (782).jpg',\n",
       " 'p (628).jpg',\n",
       " 'p (46).jpg',\n",
       " 'p (297).jpg',\n",
       " 'p (444).jpg',\n",
       " 'p (501).jpg',\n",
       " 'p (151).jpg',\n",
       " 'p (50).jpg',\n",
       " 'p (794).jpg',\n",
       " 'p (281).jpg',\n",
       " 'p (452).jpg',\n",
       " 'p (147).jpg',\n",
       " 'p (517).jpg',\n",
       " 'p (239).jpg',\n",
       " 'p (669).jpg',\n",
       " 'p (393).jpg',\n",
       " 'p (686).jpg',\n",
       " 'p (405).jpg',\n",
       " 'p (540).jpg',\n",
       " 'p (110).jpg',\n",
       " 'p (813).jpg',\n",
       " 'p (662).jpg',\n",
       " 'p (398).jpg',\n",
       " 'p (232).jpg',\n",
       " 'p (727).jpg',\n",
       " 'p (377).jpg',\n",
       " 'p (818).jpg',\n",
       " 'p (265).jpg',\n",
       " 'p (635).jpg',\n",
       " 'p (320).jpg',\n",
       " 'p (770).jpg',\n",
       " 'p (459).jpg',\n",
       " 'p (623).jpg',\n",
       " 'p (273).jpg',\n",
       " 'p (789).jpg',\n",
       " 'p (766).jpg',\n",
       " 'p (336).jpg',\n",
       " 'p (224).jpg',\n",
       " 'p (674).jpg',\n",
       " 'p (361).jpg',\n",
       " 'p (731).jpg',\n",
       " 'p (418).jpg',\n",
       " 'p (61).jpg',\n",
       " 'p (526).jpg',\n",
       " 'p (176).jpg',\n",
       " 'p (463).jpg',\n",
       " 'p (199).jpg',\n",
       " 'p (658).jpg',\n",
       " 'p (208).jpg',\n",
       " 'p (36).jpg',\n",
       " 'p (121).jpg',\n",
       " 'p (571).jpg',\n",
       " 'p (822).jpg',\n",
       " 'p (434).jpg',\n",
       " 'p (20).jpg',\n",
       " 'p (567).jpg',\n",
       " 'p (137).jpg',\n",
       " 'p (422).jpg',\n",
       " 'p (588).jpg',\n",
       " 'p (98).jpg',\n",
       " 'p (619).jpg',\n",
       " 'p (249).jpg',\n",
       " 'p (77).jpg',\n",
       " 'p (160).jpg',\n",
       " 'p (530).jpg',\n",
       " 'p (475).jpg',\n",
       " 'p (402).jpg',\n",
       " 'p (814).jpg',\n",
       " 'p (547).jpg',\n",
       " 'p (117).jpg',\n",
       " 'p (394).jpg',\n",
       " 'p (681).jpg',\n",
       " 'p (455).jpg',\n",
       " 'p (140).jpg',\n",
       " 'p (510).jpg',\n",
       " 'p (639).jpg',\n",
       " 'p (269).jpg',\n",
       " 'p (793).jpg',\n",
       " 'p (57).jpg',\n",
       " 'p (286).jpg',\n",
       " 'p (443).jpg',\n",
       " 'p (506).jpg',\n",
       " 'p (156).jpg',\n",
       " 'p (41).jpg',\n",
       " 'p (785).jpg',\n",
       " 'p (290).jpg',\n",
       " 'p (414).jpg',\n",
       " 'p (101).jpg',\n",
       " 'p (551).jpg',\n",
       " 'p (802).jpg',\n",
       " 'p (678).jpg',\n",
       " 'p (382).jpg',\n",
       " 'p (228).jpg',\n",
       " 'p (16).jpg',\n",
       " 'p (697).jpg',\n",
       " 'p (480).jpg',\n",
       " 'p (195).jpg',\n",
       " 'p (82).jpg',\n",
       " 'p (746).jpg',\n",
       " 'p (316).jpg',\n",
       " 'p (603).jpg',\n",
       " 'p (253).jpg',\n",
       " 'p (6).jpg',\n",
       " 'p (438).jpg',\n",
       " 'p (592).jpg',\n",
       " 'p (341).jpg',\n",
       " 'p (711).jpg',\n",
       " 'p (204).jpg',\n",
       " 'p (654).jpg',\n",
       " 'p (584).jpg',\n",
       " 'p (707).jpg',\n",
       " 'p (357).jpg',\n",
       " 'p (642).jpg',\n",
       " 'p (212).jpg',\n",
       " 'p (496).jpg',\n",
       " 'p (479).jpg',\n",
       " 'p (183).jpg',\n",
       " 'p (300).jpg',\n",
       " 'p (750).jpg',\n",
       " 'p (94).jpg',\n",
       " 'p (245).jpg',\n",
       " 'p (615).jpg',\n",
       " 'p (301).jpg',\n",
       " 'p (751).jpg',\n",
       " 'p (95).jpg',\n",
       " 'p (244).jpg',\n",
       " 'p (614).jpg',\n",
       " 'p (497).jpg',\n",
       " 'p (478).jpg',\n",
       " 'p (182).jpg',\n",
       " 'p (706).jpg',\n",
       " 'p (356).jpg',\n",
       " 'p (643).jpg',\n",
       " 'p (213).jpg',\n",
       " 'p (585).jpg',\n",
       " 'p (340).jpg',\n",
       " 'p (710).jpg',\n",
       " 'p (205).jpg',\n",
       " 'p (655).jpg',\n",
       " 'p (7).jpg',\n",
       " 'p (439).jpg',\n",
       " 'p (593).jpg',\n",
       " 'p (83).jpg',\n",
       " 'p (747).jpg',\n",
       " 'p (317).jpg',\n",
       " 'p (602).jpg',\n",
       " 'p (252).jpg',\n",
       " 'p (481).jpg',\n",
       " 'p (194).jpg',\n",
       " 'p (679).jpg',\n",
       " 'p (383).jpg',\n",
       " 'p (229).jpg',\n",
       " 'p (17).jpg',\n",
       " 'p (696).jpg',\n",
       " 'p (415).jpg',\n",
       " 'p (100).jpg',\n",
       " 'p (550).jpg',\n",
       " 'p (803).jpg',\n",
       " 'p (40).jpg',\n",
       " 'p (784).jpg',\n",
       " 'p (291).jpg',\n",
       " 'p (442).jpg',\n",
       " 'p (507).jpg',\n",
       " 'p (157).jpg',\n",
       " 'p (638).jpg',\n",
       " 'p (268).jpg',\n",
       " 'p (792).jpg',\n",
       " 'p (56).jpg',\n",
       " 'p (287).jpg',\n",
       " 'p (454).jpg',\n",
       " 'p (141).jpg',\n",
       " 'p (511).jpg',\n",
       " 'p (395).jpg',\n",
       " 'p (680).jpg',\n",
       " 'p (403).jpg',\n",
       " 'p (815).jpg',\n",
       " 'p (546).jpg',\n",
       " 'p (116).jpg',\n",
       " 'p (161).jpg',\n",
       " 'p (531).jpg',\n",
       " 'p (474).jpg',\n",
       " 'p (99).jpg',\n",
       " 'p (618).jpg',\n",
       " 'p (248).jpg',\n",
       " 'p (76).jpg',\n",
       " 'p (566).jpg',\n",
       " 'p (136).jpg',\n",
       " 'p (423).jpg',\n",
       " 'p (589).jpg',\n",
       " 'p (21).jpg',\n",
       " 'p (120).jpg',\n",
       " 'p (570).jpg',\n",
       " 'p (823).jpg',\n",
       " 'p (435).jpg',\n",
       " 'p (659).jpg',\n",
       " 'p (209).jpg',\n",
       " 'p (37).jpg',\n",
       " 'p (527).jpg',\n",
       " 'p (177).jpg',\n",
       " 'p (462).jpg',\n",
       " 'p (198).jpg',\n",
       " 'p (60).jpg',\n",
       " 'p (419).jpg',\n",
       " 'p (225).jpg',\n",
       " 'p (675).jpg',\n",
       " 'p (360).jpg',\n",
       " 'p (730).jpg',\n",
       " 'p (622).jpg',\n",
       " 'p (272).jpg',\n",
       " 'p (788).jpg',\n",
       " 'p (767).jpg',\n",
       " 'p (337).jpg',\n",
       " 'p (458).jpg',\n",
       " 'p (264).jpg',\n",
       " 'p (634).jpg',\n",
       " 'p (321).jpg',\n",
       " 'p (771).jpg',\n",
       " 'p (819).jpg',\n",
       " 'p (663).jpg',\n",
       " 'p (399).jpg',\n",
       " 'p (233).jpg',\n",
       " 'p (726).jpg',\n",
       " 'p (376).jpg']"
      ]
     },
     "execution_count": 11,
     "metadata": {},
     "output_type": "execute_result"
    }
   ],
   "source": [
    "os.listdir(train_dir+\"/pituitary_tumor\")"
   ]
  },
  {
   "cell_type": "code",
   "execution_count": 12,
   "metadata": {},
   "outputs": [],
   "source": [
    "meningioma_tumor_path = train_dir+\"/meningioma_tumor/\"+\"m3 (126).jpg\""
   ]
  },
  {
   "cell_type": "code",
   "execution_count": 13,
   "metadata": {},
   "outputs": [
    {
     "data": {
      "text/plain": [
       "<matplotlib.image.AxesImage at 0x7f8369472670>"
      ]
     },
     "execution_count": 13,
     "metadata": {},
     "output_type": "execute_result"
    },
    {
     "data": {
      "image/png": "[encoded data removed]",
      "text/plain": [
       "<Figure size 432x288 with 1 Axes>"
      ]
     },
     "metadata": {
      "needs_background": "light"
     },
     "output_type": "display_data"
    }
   ],
   "source": [
    "plt.imshow(imread(meningioma_tumor_path))"
   ]
  },
  {
   "cell_type": "code",
   "execution_count": 14,
   "metadata": {},
   "outputs": [],
   "source": [
    "glioma_tumor_path = train_dir+\"/glioma_tumor/\"+\"gg (698).jpg\""
   ]
  },
  {
   "cell_type": "code",
   "execution_count": 15,
   "metadata": {},
   "outputs": [
    {
     "data": {
      "text/plain": [
       "<matplotlib.image.AxesImage at 0x7f8370d581c0>"
      ]
     },
     "execution_count": 15,
     "metadata": {},
     "output_type": "execute_result"
    },
    {
     "data": {
      "image/png": "[encoded data removed]",
      "text/plain": [
       "<Figure size 432x288 with 1 Axes>"
      ]
     },
     "metadata": {
      "needs_background": "light"
     },
     "output_type": "display_data"
    }
   ],
   "source": [
    "plt.imshow(imread(glioma_tumor_path))"
   ]
  },
  {
   "cell_type": "code",
   "execution_count": 16,
   "metadata": {},
   "outputs": [],
   "source": [
    "pituitary_tumor_path = train_dir+\"/pituitary_tumor/\"+\"p (359).jpg\""
   ]
  },
  {
   "cell_type": "code",
   "execution_count": 17,
   "metadata": {},
   "outputs": [
    {
     "data": {
      "text/plain": [
       "<matplotlib.image.AxesImage at 0x7f8370d68fd0>"
      ]
     },
     "execution_count": 17,
     "metadata": {},
     "output_type": "execute_result"
    },
    {
     "data": {
      "image/png": "[encoded data removed]",
      "text/plain": [
       "<Figure size 432x288 with 1 Axes>"
      ]
     },
     "metadata": {
      "needs_background": "light"
     },
     "output_type": "display_data"
    }
   ],
   "source": [
    "plt.imshow(imread(pituitary_tumor_path))"
   ]
  },
  {
   "cell_type": "markdown",
   "metadata": {},
   "source": [
    "### Dimension of the images "
   ]
  },
  {
   "cell_type": "code",
   "execution_count": 18,
   "metadata": {},
   "outputs": [
    {
     "data": {
      "text/plain": [
       "(512, 512, 3)"
      ]
     },
     "execution_count": 18,
     "metadata": {},
     "output_type": "execute_result"
    }
   ],
   "source": [
    "imread(pituitary_tumor_path).shape"
   ]
  },
  {
   "cell_type": "code",
   "execution_count": 19,
   "metadata": {},
   "outputs": [
    {
     "data": {
      "text/plain": [
       "(512, 512, 3)"
      ]
     },
     "execution_count": 19,
     "metadata": {},
     "output_type": "execute_result"
    }
   ],
   "source": [
    "imread(glioma_tumor_path).shape"
   ]
  },
  {
   "cell_type": "code",
   "execution_count": 20,
   "metadata": {},
   "outputs": [
    {
     "data": {
      "text/plain": [
       "(512, 512, 3)"
      ]
     },
     "execution_count": 20,
     "metadata": {},
     "output_type": "execute_result"
    }
   ],
   "source": [
    "imread(meningioma_tumor_path).shape"
   ]
  },
  {
   "cell_type": "markdown",
   "metadata": {},
   "source": [
    "### Average Image Size \n",
    "- Appears that all of the images are 500 X 500 but lets do a check \n",
    "- The model will need a set image size to train on "
   ]
  },
  {
   "cell_type": "code",
   "execution_count": 21,
   "metadata": {},
   "outputs": [],
   "source": [
    "dim1 = []\n",
    "dim2 = []\n",
    "for image_name in os.listdir(train_dir+\"/glioma_tumor\"):\n",
    "    img = imread(train_dir+\"/glioma_tumor/\"+image_name)\n",
    "    d1, d2,c = img.shape\n",
    "    dim1.append(d1)\n",
    "    dim2.append(d2)"
   ]
  },
  {
   "cell_type": "markdown",
   "metadata": {},
   "source": [
    "### Getting the average size for the images \n",
    "- used a random tumor classification to get a sense of the sizes "
   ]
  },
  {
   "cell_type": "code",
   "execution_count": 22,
   "metadata": {},
   "outputs": [
    {
     "data": {
      "text/plain": [
       "<matplotlib.collections.PathCollection at 0x7f8370e12fa0>"
      ]
     },
     "execution_count": 22,
     "metadata": {},
     "output_type": "execute_result"
    },
    {
     "data": {
      "image/png": "[encoded data removed]",
      "text/plain": [
       "<Figure size 432x288 with 1 Axes>"
      ]
     },
     "metadata": {
      "needs_background": "light"
     },
     "output_type": "display_data"
    }
   ],
   "source": [
    "plt.scatter(dim1,dim2)"
   ]
  },
  {
   "cell_type": "markdown",
   "metadata": {},
   "source": [
    "## Average image size \n",
    "- looking at sizes 510,510\n",
    "- Will decrease to decrease training time\n",
    "- The images were 3 dimentional so need to add the RGB layer also \n",
    "- To decrease training time we will decrease the dimansion of the image 80X80"
   ]
  },
  {
   "cell_type": "code",
   "execution_count": 23,
   "metadata": {},
   "outputs": [],
   "source": [
    "avg_img_size = (80,80,3)"
   ]
  },
  {
   "cell_type": "markdown",
   "metadata": {},
   "source": [
    "### Creating an image generartor\n",
    "- A generator is used in this sense to minipulate the images as they are processed \n",
    "- This allows the model learn much better by transforming the images as training progresses"
   ]
  },
  {
   "cell_type": "code",
   "execution_count": 24,
   "metadata": {},
   "outputs": [],
   "source": [
    "from tensorflow.keras.preprocessing.image import ImageDataGenerator"
   ]
  },
  {
   "cell_type": "code",
   "execution_count": 25,
   "metadata": {},
   "outputs": [],
   "source": [
    "generator = ImageDataGenerator(\n",
    " featurewise_center=False,\n",
    "    rotation_range=0.2,\n",
    "    width_shift_range=0.3,\n",
    "    height_shift_range=0.3,\n",
    "    shear_range=0.2,\n",
    "    zoom_range=0.2,\n",
    "    fill_mode='nearest',\n",
    "    horizontal_flip=True,\n",
    "    vertical_flip=True,\n",
    "    rescale=1/255\n",
    ")"
   ]
  },
  {
   "cell_type": "markdown",
   "metadata": {},
   "source": [
    "### Applying the generator to a sample image "
   ]
  },
  {
   "cell_type": "code",
   "execution_count": 26,
   "metadata": {},
   "outputs": [],
   "source": [
    "transformed_image = generator.random_transform(imread(meningioma_tumor_path))"
   ]
  },
  {
   "cell_type": "code",
   "execution_count": 27,
   "metadata": {},
   "outputs": [
    {
     "data": {
      "text/plain": [
       "<matplotlib.image.AxesImage at 0x7f83711d0dc0>"
      ]
     },
     "execution_count": 27,
     "metadata": {},
     "output_type": "execute_result"
    },
    {
     "data": {
      "image/png": "[encoded data removed]",
      "text/plain": [
       "<Figure size 432x288 with 1 Axes>"
      ]
     },
     "metadata": {
      "needs_background": "light"
     },
     "output_type": "display_data"
    }
   ],
   "source": [
    "plt.imshow(transformed_image)"
   ]
  },
  {
   "cell_type": "markdown",
   "metadata": {},
   "source": [
    "### Checking Classes assigned by directories\n",
    "- The generator should assign the classes of each tumor form the directory\n",
    "- appears the generator recognized the lasses for each tumor including no tumor"
   ]
  },
  {
   "cell_type": "code",
   "execution_count": 28,
   "metadata": {},
   "outputs": [
    {
     "name": "stdout",
     "output_type": "stream",
     "text": [
      "Found 2870 images belonging to 4 classes.\n"
     ]
    },
    {
     "data": {
      "text/plain": [
       "<tensorflow.python.keras.preprocessing.image.DirectoryIterator at 0x7f8371200040>"
      ]
     },
     "execution_count": 28,
     "metadata": {},
     "output_type": "execute_result"
    }
   ],
   "source": [
    "generator.flow_from_directory(train_dir)"
   ]
  },
  {
   "cell_type": "code",
   "execution_count": 29,
   "metadata": {},
   "outputs": [
    {
     "name": "stdout",
     "output_type": "stream",
     "text": [
      "Found 394 images belonging to 4 classes.\n"
     ]
    },
    {
     "data": {
      "text/plain": [
       "<tensorflow.python.keras.preprocessing.image.DirectoryIterator at 0x7f83711eff70>"
      ]
     },
     "execution_count": 29,
     "metadata": {},
     "output_type": "execute_result"
    }
   ],
   "source": [
    "generator.flow_from_directory(test_dir)"
   ]
  },
  {
   "cell_type": "markdown",
   "metadata": {},
   "source": [
    "### Training and testing Generator\n",
    "- Will need to create a training and testing generator for the data "
   ]
  },
  {
   "cell_type": "code",
   "execution_count": 30,
   "metadata": {},
   "outputs": [
    {
     "name": "stdout",
     "output_type": "stream",
     "text": [
      "Found 2870 images belonging to 4 classes.\n"
     ]
    }
   ],
   "source": [
    "train_generator = generator.flow_from_directory(\n",
    "    train_dir,\n",
    "    target_size=avg_img_size[:2],\n",
    "    color_mode='rgb',\n",
    "    class_mode='categorical',\n",
    "    batch_size=321,\n",
    "    shuffle=True,\n",
    ")"
   ]
  },
  {
   "cell_type": "markdown",
   "metadata": {},
   "source": [
    "## Shuffle\n",
    "- The testing data should not be shuffled. This will shuffle the labels also \n",
    "- Ths should only be done with the training data for better accuracy"
   ]
  },
  {
   "cell_type": "code",
   "execution_count": 31,
   "metadata": {},
   "outputs": [
    {
     "name": "stdout",
     "output_type": "stream",
     "text": [
      "Found 2870 images belonging to 4 classes.\n"
     ]
    }
   ],
   "source": [
    "test_generator = generator.flow_from_directory(\n",
    "    train_dir,\n",
    "    target_size=avg_img_size[:2],\n",
    "    color_mode='rgb',\n",
    "    class_mode='categorical',\n",
    "    batch_size=321,\n",
    "    shuffle=False,\n",
    ")"
   ]
  },
  {
   "cell_type": "markdown",
   "metadata": {},
   "source": [
    "### Creating the model\n",
    "- Will create the model that will fit to the generator\n",
    "- This model will be trained on an EC2 instance for memory capicity"
   ]
  },
  {
   "cell_type": "markdown",
   "metadata": {},
   "source": [
    "### Importing Model \n",
    "- Model was trained in an AWS EC2 instance for faster training \n",
    "- Model was trained with 150 epochs and resulted in a 77% accuracy"
   ]
  },
  {
   "cell_type": "code",
   "execution_count": 32,
   "metadata": {},
   "outputs": [],
   "source": [
    "from tensorflow.keras.models import load_model"
   ]
  },
  {
   "cell_type": "code",
   "execution_count": 33,
   "metadata": {},
   "outputs": [],
   "source": [
    "model = load_model(\"model/brainTumorv1_77+.h5\")"
   ]
  },
  {
   "cell_type": "code",
   "execution_count": null,
   "metadata": {},
   "outputs": [],
   "source": []
  },
  {
   "cell_type": "code",
   "execution_count": 34,
   "metadata": {},
   "outputs": [],
   "source": [
    "#model = Sequential()\n",
    "#model.add(Conv2D(filters = 40, kernel_size = (2,2), strides = (1,1), padding = \"same\", activation = \"relu\",\n",
    "             #    input_shape = avg_img_size))\n",
    "#model.add(MaxPool2D(pool_size = (2,2)))\n",
    "#model.add(Conv2D(filters = 40, kernel_size = (2,2), strides = (1,1), padding = \"same\", activation = \"relu\",\n",
    "          #       input_shape = avg_img_size))\n",
    "#model.add(MaxPool2D(pool_size = (2,2)))\n",
    "#model.add(Flatten())\n",
    "#model.add(Dense(units = 200, activation = \"relu\"))\n",
    "#model.add(Dense(units = 60, activation = \"relu\"))\n",
    "#model.add(Dense(units = 4, activation = \"softmax\"))\n",
    "#model.compile(loss = \"categorical_crossentropy\", optimizer = \"adam\", metrics = [\"accuracy\"])"
   ]
  },
  {
   "cell_type": "code",
   "execution_count": 34,
   "metadata": {},
   "outputs": [
    {
     "name": "stdout",
     "output_type": "stream",
     "text": [
      "Model: \"sequential\"\n",
      "_________________________________________________________________\n",
      "Layer (type)                 Output Shape              Param #   \n",
      "=================================================================\n",
      "conv2d (Conv2D)              (None, 80, 80, 40)        520       \n",
      "_________________________________________________________________\n",
      "max_pooling2d (MaxPooling2D) (None, 40, 40, 40)        0         \n",
      "_________________________________________________________________\n",
      "conv2d_1 (Conv2D)            (None, 40, 40, 40)        6440      \n",
      "_________________________________________________________________\n",
      "max_pooling2d_1 (MaxPooling2 (None, 20, 20, 40)        0         \n",
      "_________________________________________________________________\n",
      "flatten (Flatten)            (None, 16000)             0         \n",
      "_________________________________________________________________\n",
      "dense (Dense)                (None, 200)               3200200   \n",
      "_________________________________________________________________\n",
      "dense_1 (Dense)              (None, 60)                12060     \n",
      "_________________________________________________________________\n",
      "dense_2 (Dense)              (None, 4)                 244       \n",
      "=================================================================\n",
      "Total params: 3,219,464\n",
      "Trainable params: 3,219,464\n",
      "Non-trainable params: 0\n",
      "_________________________________________________________________\n"
     ]
    }
   ],
   "source": [
    "model.summary()"
   ]
  },
  {
   "cell_type": "code",
   "execution_count": 35,
   "metadata": {},
   "outputs": [],
   "source": [
    "import pandas as pd"
   ]
  },
  {
   "cell_type": "code",
   "execution_count": 37,
   "metadata": {},
   "outputs": [],
   "source": [
    "history = pd.read_csv(\"model/model_history77.csv\")"
   ]
  },
  {
   "cell_type": "code",
   "execution_count": 38,
   "metadata": {},
   "outputs": [
    {
     "data": {
      "text/plain": [
       "<matplotlib.axes._subplots.AxesSubplot at 0x7f83730a9e20>"
      ]
     },
     "execution_count": 38,
     "metadata": {},
     "output_type": "execute_result"
    },
    {
     "data": {
      "image/png": "[encoded data removed]",
      "text/plain": [
       "<Figure size 1152x432 with 1 Axes>"
      ]
     },
     "metadata": {
      "needs_background": "light"
     },
     "output_type": "display_data"
    }
   ],
   "source": [
    "history[[\"accuracy\", \"val_accuracy\"]].plot(figsize = (16,6), marker = \"o\")"
   ]
  },
  {
   "cell_type": "code",
   "execution_count": 39,
   "metadata": {},
   "outputs": [
    {
     "data": {
      "text/plain": [
       "<matplotlib.axes._subplots.AxesSubplot at 0x7f83730e3fd0>"
      ]
     },
     "execution_count": 39,
     "metadata": {},
     "output_type": "execute_result"
    },
    {
     "data": {
      "image/png": "[encoded data removed]",
      "text/plain": [
       "<Figure size 1152x432 with 1 Axes>"
      ]
     },
     "metadata": {
      "needs_background": "light"
     },
     "output_type": "display_data"
    }
   ],
   "source": [
    "history[[\"loss\", \"val_loss\"]].plot(figsize = (16,6), marker = \"o\")"
   ]
  },
  {
   "cell_type": "markdown",
   "metadata": {},
   "source": [
    "### Making Predicitons"
   ]
  },
  {
   "cell_type": "code",
   "execution_count": 41,
   "metadata": {},
   "outputs": [],
   "source": [
    "predictions = model.predict(test_generator)"
   ]
  },
  {
   "cell_type": "code",
   "execution_count": 42,
   "metadata": {},
   "outputs": [
    {
     "data": {
      "text/plain": [
       "array([[8.2669038e-01, 1.0725608e-01, 1.1089020e-02, 5.4964513e-02],\n",
       "       [1.9773138e-01, 5.0531006e-01, 5.2810904e-02, 2.4414764e-01],\n",
       "       [3.2559049e-01, 6.6599268e-01, 2.2546845e-03, 6.1622155e-03],\n",
       "       ...,\n",
       "       [2.5692482e-03, 3.3983946e-02, 1.7985196e-03, 9.6164829e-01],\n",
       "       [1.6752128e-02, 7.3684201e-02, 1.4016308e-03, 9.0816200e-01],\n",
       "       [6.3228735e-04, 3.9798301e-02, 4.9681487e-03, 9.5460123e-01]],\n",
       "      dtype=float32)"
      ]
     },
     "execution_count": 42,
     "metadata": {},
     "output_type": "execute_result"
    }
   ],
   "source": [
    "predictions"
   ]
  },
  {
   "cell_type": "code",
   "execution_count": 47,
   "metadata": {},
   "outputs": [],
   "source": [
    "#pd.DataFrame(predictions).to_csv(\"predicitons_v1.csv\")"
   ]
  },
  {
   "cell_type": "code",
   "execution_count": 43,
   "metadata": {},
   "outputs": [],
   "source": [
    "pred = np.argmax(predictions, axis=1)"
   ]
  },
  {
   "cell_type": "code",
   "execution_count": 44,
   "metadata": {},
   "outputs": [
    {
     "data": {
      "text/plain": [
       "array([0, 1, 1, ..., 3, 3, 3])"
      ]
     },
     "execution_count": 44,
     "metadata": {},
     "output_type": "execute_result"
    }
   ],
   "source": [
    "pred"
   ]
  },
  {
   "cell_type": "code",
   "execution_count": 45,
   "metadata": {},
   "outputs": [],
   "source": [
    "#pd.DataFrame(pred).to_csv(\"prediction_classes.csv\")"
   ]
  },
  {
   "cell_type": "markdown",
   "metadata": {},
   "source": [
    "### Predictions vs Training classes\n",
    "- appears the model is having a harder time with 0 and 1 classifications"
   ]
  },
  {
   "cell_type": "code",
   "execution_count": 48,
   "metadata": {},
   "outputs": [],
   "source": [
    "from sklearn.metrics import classification_report, confusion_matrix, explained_variance_score"
   ]
  },
  {
   "cell_type": "code",
   "execution_count": 49,
   "metadata": {},
   "outputs": [
    {
     "name": "stdout",
     "output_type": "stream",
     "text": [
      "              precision    recall  f1-score   support\n",
      "\n",
      "           0       0.58      0.95      0.72       498\n",
      "           1       0.79      0.63      0.70      1019\n",
      "           2       0.86      0.82      0.84       410\n",
      "           3       0.93      0.81      0.87       943\n",
      "\n",
      "    accuracy                           0.78      2870\n",
      "   macro avg       0.79      0.81      0.78      2870\n",
      "weighted avg       0.81      0.78      0.78      2870\n",
      "\n"
     ]
    }
   ],
   "source": [
    "print(classification_report(pred, test_generator.classes))"
   ]
  },
  {
   "cell_type": "code",
   "execution_count": 50,
   "metadata": {},
   "outputs": [
    {
     "name": "stdout",
     "output_type": "stream",
     "text": [
      "[[475  11   5   7]\n",
      " [298 646  30  45]\n",
      " [  4  61 338   7]\n",
      " [ 49 104  22 768]]\n"
     ]
    }
   ],
   "source": [
    "print(confusion_matrix(pred, test_generator.classes))"
   ]
  },
  {
   "cell_type": "markdown",
   "metadata": {},
   "source": [
    "### Variance\n",
    "- Approximately 60% of the variance can be explained by the model"
   ]
  },
  {
   "cell_type": "code",
   "execution_count": 51,
   "metadata": {},
   "outputs": [
    {
     "name": "stdout",
     "output_type": "stream",
     "text": [
      "0.5920180185974893\n"
     ]
    }
   ],
   "source": [
    "print(explained_variance_score(pred, test_generator.classes))"
   ]
  },
  {
   "cell_type": "markdown",
   "metadata": {},
   "source": [
    "## Testing The Model\n",
    "- Since we do not new images to test, the approach will be to take random images from the validation folder that we created\n",
    "- This folder consists of a mixture of all the classes assigned to each image\n",
    "- This will provide a better understanding of how the model will perform with a new image when it is available \n",
    "- THe down side to this is that the model would have seen this image before but there is a possibility that the model would have seen an image like the new one also when passed in."
   ]
  },
  {
   "cell_type": "markdown",
   "metadata": {},
   "source": [
    "### Validation Directory"
   ]
  },
  {
   "cell_type": "code",
   "execution_count": 54,
   "metadata": {},
   "outputs": [],
   "source": [
    "val_dir = \"/Users/berkatbhatti/Desktop/DataFiles/Images/brainTumor/Validation/Images/\""
   ]
  },
  {
   "cell_type": "code",
   "execution_count": 56,
   "metadata": {},
   "outputs": [
    {
     "data": {
      "text/plain": [
       "91"
      ]
     },
     "execution_count": 56,
     "metadata": {},
     "output_type": "execute_result"
    }
   ],
   "source": [
    "len(os.listdir(val_dir))"
   ]
  },
  {
   "cell_type": "markdown",
   "metadata": {},
   "source": [
    "### Randomly  selecting an image \n",
    "- Lets go though each image in the validation set and grab one randomly \n",
    "- Will select a random class of tumor from our class_indicies"
   ]
  },
  {
   "cell_type": "code",
   "execution_count": 495,
   "metadata": {},
   "outputs": [],
   "source": [
    "from random import randint"
   ]
  },
  {
   "cell_type": "code",
   "execution_count": 560,
   "metadata": {},
   "outputs": [],
   "source": [
    "classes = list(train_generator.class_indices.keys())"
   ]
  },
  {
   "cell_type": "code",
   "execution_count": 576,
   "metadata": {},
   "outputs": [
    {
     "data": {
      "text/plain": [
       "['glioma_tumor', 'meningioma_tumor', 'no_tumor', 'pituitary_tumor']"
      ]
     },
     "execution_count": 576,
     "metadata": {},
     "output_type": "execute_result"
    }
   ],
   "source": [
    "classes"
   ]
  },
  {
   "cell_type": "code",
   "execution_count": 598,
   "metadata": {},
   "outputs": [],
   "source": [
    "random_class_name = classes[randint(0, len(classes) -1)]"
   ]
  },
  {
   "cell_type": "code",
   "execution_count": 599,
   "metadata": {},
   "outputs": [
    {
     "data": {
      "text/plain": [
       "'meningioma_tumor'"
      ]
     },
     "execution_count": 599,
     "metadata": {},
     "output_type": "execute_result"
    }
   ],
   "source": [
    "random_class_name"
   ]
  },
  {
   "cell_type": "code",
   "execution_count": 649,
   "metadata": {},
   "outputs": [],
   "source": [
    "random_index = randint(0, len(os.listdir(train_dir+\"/pituitary_tumor\")))\n",
    "random_image_name = os.listdir(train_dir +\"/pituitary_tumor\")[random_index]"
   ]
  },
  {
   "cell_type": "markdown",
   "metadata": {},
   "source": [
    "### Random image path"
   ]
  },
  {
   "cell_type": "code",
   "execution_count": 650,
   "metadata": {},
   "outputs": [],
   "source": [
    "rand_img_pth = train_dir+\"/pituitary_tumor\"+\"/\"+random_image_name"
   ]
  },
  {
   "cell_type": "code",
   "execution_count": 651,
   "metadata": {},
   "outputs": [],
   "source": [
    "val_image = image.load_img(rand_img_pth, target_size= avg_img_size)"
   ]
  },
  {
   "cell_type": "code",
   "execution_count": 652,
   "metadata": {},
   "outputs": [
    {
     "data": {
      "image/png": "[encoded data removed]",
      "text/plain": [
       "<PIL.Image.Image image mode=RGB size=80x80 at 0x7F82F70C1A90>"
      ]
     },
     "execution_count": 652,
     "metadata": {},
     "output_type": "execute_result"
    }
   ],
   "source": [
    "val_image"
   ]
  },
  {
   "cell_type": "code",
   "execution_count": 653,
   "metadata": {},
   "outputs": [],
   "source": [
    "val_image_array = image.img_to_array(val_image)"
   ]
  },
  {
   "cell_type": "code",
   "execution_count": 654,
   "metadata": {},
   "outputs": [],
   "source": [
    "val_image_array = val_image_array/255"
   ]
  },
  {
   "cell_type": "code",
   "execution_count": 655,
   "metadata": {},
   "outputs": [
    {
     "data": {
      "text/plain": [
       "(80, 80, 3)"
      ]
     },
     "execution_count": 655,
     "metadata": {},
     "output_type": "execute_result"
    }
   ],
   "source": [
    "val_image_array.shape"
   ]
  },
  {
   "cell_type": "markdown",
   "metadata": {},
   "source": [
    "### Dimansions \n",
    "- Update the dimansion of the image \n",
    "- need to have the count dimansion for the model to follow\n",
    "- 1,80,80,3"
   ]
  },
  {
   "cell_type": "code",
   "execution_count": 656,
   "metadata": {},
   "outputs": [],
   "source": [
    "val_image_to_use=np.expand_dims(val_image_array, axis=0)"
   ]
  },
  {
   "cell_type": "code",
   "execution_count": 657,
   "metadata": {},
   "outputs": [
    {
     "data": {
      "text/plain": [
       "(1, 80, 80, 3)"
      ]
     },
     "execution_count": 657,
     "metadata": {},
     "output_type": "execute_result"
    }
   ],
   "source": [
    "val_image_to_use.shape"
   ]
  },
  {
   "cell_type": "code",
   "execution_count": null,
   "metadata": {},
   "outputs": [],
   "source": []
  },
  {
   "cell_type": "markdown",
   "metadata": {},
   "source": [
    "### Checking predicitons on the image"
   ]
  },
  {
   "cell_type": "code",
   "execution_count": 658,
   "metadata": {},
   "outputs": [
    {
     "data": {
      "text/plain": [
       "array([3])"
      ]
     },
     "execution_count": 658,
     "metadata": {},
     "output_type": "execute_result"
    }
   ],
   "source": [
    "np.argmax(model.predict(val_image_to_use), axis=1)"
   ]
  },
  {
   "cell_type": "markdown",
   "metadata": {},
   "source": [
    "### True Value"
   ]
  },
  {
   "cell_type": "code",
   "execution_count": 659,
   "metadata": {},
   "outputs": [
    {
     "data": {
      "text/plain": [
       "{'glioma_tumor': 0, 'meningioma_tumor': 1, 'no_tumor': 2, 'pituitary_tumor': 3}"
      ]
     },
     "execution_count": 659,
     "metadata": {},
     "output_type": "execute_result"
    }
   ],
   "source": [
    "test_generator.class_indices"
   ]
  },
  {
   "cell_type": "code",
   "execution_count": 660,
   "metadata": {},
   "outputs": [
    {
     "data": {
      "text/plain": [
       "'/Users/berkatbhatti/Desktop/DataFiles/Images/brainTumor/Training/pituitary_tumor/p (457).jpg'"
      ]
     },
     "execution_count": 660,
     "metadata": {},
     "output_type": "execute_result"
    }
   ],
   "source": [
    "rand_img_pth"
   ]
  },
  {
   "cell_type": "code",
   "execution_count": null,
   "metadata": {},
   "outputs": [],
   "source": []
  },
  {
   "cell_type": "code",
   "execution_count": null,
   "metadata": {},
   "outputs": [],
   "source": []
  }
 ],
 "metadata": {
  "kernelspec": {
   "display_name": "Python 3",
   "language": "python",
   "name": "python3"
  },
  "language_info": {
   "codemirror_mode": {
    "name": "ipython",
    "version": 3
   },
   "file_extension": ".py",
   "mimetype": "text/x-python",
   "name": "python",
   "nbconvert_exporter": "python",
   "pygments_lexer": "ipython3",
   "version": "3.8.3"
  }
 },
 "nbformat": 4,
 "nbformat_minor": 4
}
