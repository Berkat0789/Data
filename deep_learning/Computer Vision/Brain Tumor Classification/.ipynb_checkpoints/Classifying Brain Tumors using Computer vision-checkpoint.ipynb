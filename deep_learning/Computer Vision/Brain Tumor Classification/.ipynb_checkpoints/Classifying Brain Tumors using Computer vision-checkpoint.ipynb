{
 "cells": [
  {
   "cell_type": "markdown",
   "metadata": {},
   "source": [
    "#### A Brain tumor is considered as one of the aggressive diseases, among children and adults. Brain tumors account for 85 to 90 percent of all primary Central Nervous System(CNS) tumors. Every year, around 11,700 people are diagnosed with a brain tumor. The 5-year survival rate for people with a cancerous brain or CNS tumor is approximately 34 percent for men and36 percent for women. Brain Tumors are classified as: Benign Tumor, Malignant Tumor, Pituitary Tumor, etc. Proper treatment, planning, and accurate diagnostics should be implemented to improve the life expectancy of the patients. The best technique to detect brain tumors is Magnetic Resonance Imaging (MRI). A huge amount of image data is generated through the scans. These images are examined by the radiologist. A manual examination can be error-prone due to the level of complexities involved in brain tumors and their properties. Application of automated classification techniques using Machine Learning(ML) and Artificial Intelligence(AI)has consistently shown higher accuracy than manual classification. Hence, proposing a system performing detection and classification by using Deep Learning Algorithms using ConvolutionNeural Network (CNN), Artificial Neural Network (ANN), and TransferLearning (TL) would be helpful to doctors all around the world."
   ]
  },
  {
   "cell_type": "markdown",
   "metadata": {},
   "source": [
    "### Acknowledgements for Dataset.\n",
    "- Navoneel Chakrabarty\n",
    "- Swati Kanchan"
   ]
  },
  {
   "cell_type": "markdown",
   "metadata": {},
   "source": [
    "#### https://www.kaggle.com/sartajbhuvaji/brain-tumor-classification-mri"
   ]
  },
  {
   "cell_type": "markdown",
   "metadata": {},
   "source": [
    "### Project Overview \n",
    "- You are assigned to assist doctors in classifying 3 different types of brain tumors using a Computer Vision(CNN)\n",
    "- Create a model that will provide a satifying prediciton for each tumor image \n",
    "- Remember that this is a critical diagnostic so your model should have good probabilitiy assignments in predictions for the doctors to consider it a valid model"
   ]
  },
  {
   "cell_type": "markdown",
   "metadata": {},
   "source": [
    "### Importing Libraries"
   ]
  },
  {
   "cell_type": "code",
   "execution_count": 3,
   "metadata": {},
   "outputs": [],
   "source": [
    "import os \n",
    "import matplotlib.pyplot as plt\n",
    "from matplotlib.image import imread\n",
    "import seaborn as sns\n",
    "import numpy as np"
   ]
  },
  {
   "cell_type": "code",
   "execution_count": 4,
   "metadata": {},
   "outputs": [],
   "source": [
    "from tensorflow.keras.preprocessing import image\n",
    "from tensorflow.keras.models import Sequential\n",
    "from tensorflow.keras.layers import Conv2D, MaxPool2D, Dense, Dropout, Flatten\n",
    "from tensorflow.keras.callbacks import EarlyStopping"
   ]
  },
  {
   "cell_type": "markdown",
   "metadata": {},
   "source": [
    "### Loading Data \n",
    "- load data from local path to prevent lage files issues with Git\n",
    "- The model will most likely be trained on an AWS EC2 instance to speed up training \n",
    "- This is due to CNN taking a much longer time to train"
   ]
  },
  {
   "cell_type": "code",
   "execution_count": 6,
   "metadata": {},
   "outputs": [],
   "source": [
    "import zipfile"
   ]
  },
  {
   "cell_type": "code",
   "execution_count": 2,
   "metadata": {},
   "outputs": [],
   "source": [
    "#zip_obj = zipfile.ZipFile(\"resources/brainTumor.zip\", mode=\"r\")"
   ]
  },
  {
   "cell_type": "code",
   "execution_count": 3,
   "metadata": {},
   "outputs": [],
   "source": [
    "#zip_obj.extractall(\"resources/\")"
   ]
  },
  {
   "cell_type": "code",
   "execution_count": 1,
   "metadata": {},
   "outputs": [],
   "source": [
    "data_dir = \"/Users/berkatbhatti/Desktop/DataFiles/Images/brainTumor/\""
   ]
  },
  {
   "cell_type": "code",
   "execution_count": 2,
   "metadata": {},
   "outputs": [
    {
     "ename": "NameError",
     "evalue": "name 'os' is not defined",
     "output_type": "error",
     "traceback": [
      "\u001b[0;31m---------------------------------------------------------------------------\u001b[0m",
      "\u001b[0;31mNameError\u001b[0m                                 Traceback (most recent call last)",
      "\u001b[0;32m<ipython-input-2-b6beaae69e2b>\u001b[0m in \u001b[0;36m<module>\u001b[0;34m\u001b[0m\n\u001b[0;32m----> 1\u001b[0;31m \u001b[0mos\u001b[0m\u001b[0;34m.\u001b[0m\u001b[0mlistdir\u001b[0m\u001b[0;34m(\u001b[0m\u001b[0mdata_dir\u001b[0m\u001b[0;34m)\u001b[0m\u001b[0;34m\u001b[0m\u001b[0;34m\u001b[0m\u001b[0m\n\u001b[0m",
      "\u001b[0;31mNameError\u001b[0m: name 'os' is not defined"
     ]
    }
   ],
   "source": [
    "os.listdir(data_dir)"
   ]
  },
  {
   "cell_type": "markdown",
   "metadata": {},
   "source": [
    "### Training Dir\n",
    "- Path to the training images"
   ]
  },
  {
   "cell_type": "code",
   "execution_count": 9,
   "metadata": {},
   "outputs": [],
   "source": [
    "train_dir = data_dir+\"Training\""
   ]
  },
  {
   "cell_type": "code",
   "execution_count": 10,
   "metadata": {},
   "outputs": [
    {
     "data": {
      "text/plain": [
       "['glioma_tumor', 'no_tumor', 'pituitary_tumor', 'meningioma_tumor']"
      ]
     },
     "execution_count": 10,
     "metadata": {},
     "output_type": "execute_result"
    }
   ],
   "source": [
    "os.listdir(train_dir)"
   ]
  },
  {
   "cell_type": "markdown",
   "metadata": {},
   "source": [
    "### Testing Dir \n",
    "- Path to testing images "
   ]
  },
  {
   "cell_type": "code",
   "execution_count": 11,
   "metadata": {},
   "outputs": [],
   "source": [
    "test_dir = data_dir+\"Testing\""
   ]
  },
  {
   "cell_type": "code",
   "execution_count": 12,
   "metadata": {},
   "outputs": [
    {
     "data": {
      "text/plain": [
       "['glioma_tumor', 'no_tumor', 'pituitary_tumor', 'meningioma_tumor']"
      ]
     },
     "execution_count": 12,
     "metadata": {},
     "output_type": "execute_result"
    }
   ],
   "source": [
    "os.listdir(test_dir)"
   ]
  },
  {
   "cell_type": "markdown",
   "metadata": {},
   "source": [
    "#### Taking a look at each type of Tumor"
   ]
  },
  {
   "cell_type": "markdown",
   "metadata": {},
   "source": [
    "## meningioma_tumor"
   ]
  },
  {
   "cell_type": "code",
   "execution_count": 13,
   "metadata": {},
   "outputs": [
    {
     "data": {
      "text/plain": [
       "['p (374).jpg',\n",
       " 'p (515).jpg',\n",
       " 'p (7).jpg',\n",
       " 'p (642).jpg',\n",
       " 'p (774).jpg',\n",
       " 'p (122).jpg',\n",
       " 'p (306).jpg',\n",
       " 'p (396).jpg',\n",
       " 'p (786).jpg',\n",
       " 'p (714).jpg',\n",
       " 'p (21).jpg',\n",
       " 'p (548).jpg',\n",
       " 'p (770).jpg',\n",
       " 'p (68).jpg',\n",
       " 'p (57).jpg',\n",
       " 'p (136).jpg',\n",
       " 'p (2).jpg',\n",
       " 'p (313).jpg',\n",
       " 'p (797).jpg',\n",
       " 'p (5).jpg',\n",
       " 'p (158).jpg',\n",
       " 'p (221).jpg',\n",
       " 'p (454).jpg',\n",
       " 'p (719).jpg',\n",
       " 'p (74).jpg',\n",
       " 'p (780).jpg',\n",
       " 'p (541).jpg',\n",
       " 'p (547).jpg',\n",
       " 'p (720).jpg',\n",
       " 'p (759).jpg',\n",
       " 'p (575).jpg',\n",
       " 'p (393).jpg',\n",
       " 'p (66).jpg',\n",
       " 'p (510).jpg',\n",
       " 'p (190).jpg',\n",
       " 'p (662).jpg',\n",
       " 'p (34).jpg',\n",
       " 'p (212).jpg',\n",
       " 'p (101).jpg',\n",
       " 'p (263).jpg',\n",
       " 'p (706).jpg',\n",
       " 'p (59).jpg',\n",
       " 'p (532).jpg',\n",
       " 'p (590).jpg',\n",
       " 'p (292).jpg',\n",
       " 'p (92).jpg',\n",
       " 'p (788).jpg',\n",
       " 'p (673).jpg',\n",
       " 'p (205).jpg',\n",
       " 'p (202).jpg',\n",
       " 'p (591).jpg',\n",
       " 'p (38).jpg',\n",
       " 'p (359).jpg',\n",
       " 'p (388).jpg',\n",
       " 'p (162).jpg',\n",
       " 'p (336).jpg',\n",
       " 'p (16).jpg',\n",
       " 'p (709).jpg',\n",
       " 'p (269).jpg',\n",
       " 'p (475).jpg',\n",
       " 'p (458).jpg',\n",
       " 'p (155).jpg',\n",
       " 'p (711).jpg',\n",
       " 'p (428).jpg',\n",
       " 'p (51).jpg',\n",
       " 'p (530).jpg',\n",
       " 'p (531).jpg',\n",
       " 'p (73).jpg',\n",
       " 'p (149).jpg',\n",
       " 'p (317).jpg',\n",
       " 'p (58).jpg',\n",
       " 'p (401).jpg',\n",
       " 'p (342).jpg',\n",
       " 'p (615).jpg',\n",
       " 'p (339).jpg',\n",
       " 'p (775).jpg',\n",
       " 'p (675).jpg',\n",
       " 'p (47).jpg',\n",
       " 'p (14).jpg',\n",
       " 'p (718).jpg',\n",
       " 'p (189).jpg',\n",
       " 'p (503).jpg',\n",
       " 'p (670).jpg',\n",
       " 'p (319).jpg',\n",
       " 'p (725).jpg',\n",
       " 'p (3).jpg',\n",
       " 'p (601).jpg',\n",
       " 'p (509).jpg',\n",
       " 'p (213).jpg',\n",
       " 'p (156).jpg',\n",
       " 'p (488).jpg',\n",
       " 'p (49).jpg',\n",
       " 'p (321).jpg',\n",
       " 'p (610).jpg',\n",
       " 'p (114).jpg',\n",
       " 'p (94).jpg',\n",
       " 'p (644).jpg',\n",
       " 'p (61).jpg',\n",
       " 'p (741).jpg',\n",
       " 'p (471).jpg',\n",
       " 'p (602).jpg',\n",
       " 'p (649).jpg',\n",
       " 'p (90).jpg',\n",
       " 'p (502).jpg',\n",
       " 'p (459).jpg',\n",
       " 'p (462).jpg',\n",
       " 'p (17).jpg',\n",
       " 'p (476).jpg',\n",
       " 'p (238).jpg',\n",
       " 'p (274).jpg',\n",
       " 'p (658).jpg',\n",
       " 'p (742).jpg',\n",
       " 'p (409).jpg',\n",
       " 'p (230).jpg',\n",
       " 'p (54).jpg',\n",
       " 'p (499).jpg',\n",
       " 'p (640).jpg',\n",
       " 'p (727).jpg',\n",
       " 'p (168).jpg',\n",
       " 'p (257).jpg',\n",
       " 'p (18).jpg',\n",
       " 'p (110).jpg',\n",
       " 'p (297).jpg',\n",
       " 'p (102).jpg',\n",
       " 'p (808).jpg',\n",
       " 'p (790).jpg',\n",
       " 'p (625).jpg',\n",
       " 'p (688).jpg',\n",
       " 'p (480).jpg',\n",
       " 'p (13).jpg',\n",
       " 'p (141).jpg',\n",
       " 'p (421).jpg',\n",
       " 'p (653).jpg',\n",
       " 'p (812).jpg',\n",
       " 'p (315).jpg',\n",
       " 'p (497).jpg',\n",
       " 'p (561).jpg',\n",
       " 'p (415).jpg',\n",
       " 'p (376).jpg',\n",
       " 'p (408).jpg',\n",
       " 'p (508).jpg',\n",
       " 'p (335).jpg',\n",
       " 'p (538).jpg',\n",
       " 'p (375).jpg',\n",
       " 'p (120).jpg',\n",
       " 'p (791).jpg',\n",
       " 'p (781).jpg',\n",
       " 'p (521).jpg',\n",
       " 'p (414).jpg',\n",
       " 'p (800).jpg',\n",
       " 'p (386).jpg',\n",
       " 'p (484).jpg',\n",
       " 'p (803).jpg',\n",
       " 'p (180).jpg',\n",
       " 'p (620).jpg',\n",
       " 'p (109).jpg',\n",
       " 'p (93).jpg',\n",
       " 'p (262).jpg',\n",
       " 'p (460).jpg',\n",
       " 'p (464).jpg',\n",
       " 'p (245).jpg',\n",
       " 'p (558).jpg',\n",
       " 'p (172).jpg',\n",
       " 'p (72).jpg',\n",
       " 'p (233).jpg',\n",
       " 'p (702).jpg',\n",
       " 'p (398).jpg',\n",
       " 'p (487).jpg',\n",
       " 'p (184).jpg',\n",
       " 'p (695).jpg',\n",
       " 'p (654).jpg',\n",
       " 'p (400).jpg',\n",
       " 'p (40).jpg',\n",
       " 'p (452).jpg',\n",
       " 'p (579).jpg',\n",
       " 'p (676).jpg',\n",
       " 'p (52).jpg',\n",
       " 'p (84).jpg',\n",
       " 'p (111).jpg',\n",
       " 'p (406).jpg',\n",
       " 'p (691).jpg',\n",
       " 'p (119).jpg',\n",
       " 'p (623).jpg',\n",
       " 'p (248).jpg',\n",
       " 'p (256).jpg',\n",
       " 'p (814).jpg',\n",
       " 'p (211).jpg',\n",
       " 'p (666).jpg',\n",
       " 'p (717).jpg',\n",
       " 'p (35).jpg',\n",
       " 'p (712).jpg',\n",
       " 'p (506).jpg',\n",
       " 'p (116).jpg',\n",
       " 'p (118).jpg',\n",
       " 'p (392).jpg',\n",
       " 'p (603).jpg',\n",
       " 'p (643).jpg',\n",
       " 'p (98).jpg',\n",
       " 'p (331).jpg',\n",
       " 'p (693).jpg',\n",
       " 'p (595).jpg',\n",
       " 'p (766).jpg',\n",
       " 'p (399).jpg',\n",
       " 'p (384).jpg',\n",
       " 'p (435).jpg',\n",
       " 'p (395).jpg',\n",
       " 'p (722).jpg',\n",
       " 'p (553).jpg',\n",
       " 'p (397).jpg',\n",
       " 'p (166).jpg',\n",
       " 'p (240).jpg',\n",
       " 'p (199).jpg',\n",
       " 'p (762).jpg',\n",
       " 'p (433).jpg',\n",
       " 'p (535).jpg',\n",
       " 'p (582).jpg',\n",
       " 'p (756).jpg',\n",
       " 'p (407).jpg',\n",
       " 'p (139).jpg',\n",
       " 'p (629).jpg',\n",
       " 'p (605).jpg',\n",
       " 'p (587).jpg',\n",
       " 'p (795).jpg',\n",
       " 'p (277).jpg',\n",
       " 'p (529).jpg',\n",
       " 'p (694).jpg',\n",
       " 'p (661).jpg',\n",
       " 'p (492).jpg',\n",
       " 'p (311).jpg',\n",
       " 'p (224).jpg',\n",
       " 'p (564).jpg',\n",
       " 'p (214).jpg',\n",
       " 'p (208).jpg',\n",
       " 'p (504).jpg',\n",
       " 'p (108).jpg',\n",
       " 'p (216).jpg',\n",
       " 'p (432).jpg',\n",
       " 'p (267).jpg',\n",
       " 'p (358).jpg',\n",
       " 'p (659).jpg',\n",
       " 'p (473).jpg',\n",
       " 'p (782).jpg',\n",
       " 'p (373).jpg',\n",
       " 'p (247).jpg',\n",
       " 'p (495).jpg',\n",
       " 'p (153).jpg',\n",
       " 'p (792).jpg',\n",
       " 'p (557).jpg',\n",
       " 'p (789).jpg',\n",
       " 'p (236).jpg',\n",
       " 'p (229).jpg',\n",
       " 'p (533).jpg',\n",
       " 'p (186).jpg',\n",
       " 'p (544).jpg',\n",
       " 'p (796).jpg',\n",
       " 'p (170).jpg',\n",
       " 'p (730).jpg',\n",
       " 'p (182).jpg',\n",
       " 'p (483).jpg',\n",
       " 'p (330).jpg',\n",
       " 'p (148).jpg',\n",
       " 'p (201).jpg',\n",
       " 'p (188).jpg',\n",
       " 'p (167).jpg',\n",
       " 'p (562).jpg',\n",
       " 'p (672).jpg',\n",
       " 'p (704).jpg',\n",
       " 'p (667).jpg',\n",
       " 'p (128).jpg',\n",
       " 'p (467).jpg',\n",
       " 'p (210).jpg',\n",
       " 'p (29).jpg',\n",
       " 'p (75).jpg',\n",
       " 'p (799).jpg',\n",
       " 'p (112).jpg',\n",
       " 'p (333).jpg',\n",
       " 'p (137).jpg',\n",
       " 'p (611).jpg',\n",
       " 'p (571).jpg',\n",
       " 'p (194).jpg',\n",
       " 'p (650).jpg',\n",
       " 'p (469).jpg',\n",
       " 'p (327).jpg',\n",
       " 'p (252).jpg',\n",
       " 'p (291).jpg',\n",
       " 'p (26).jpg',\n",
       " 'p (50).jpg',\n",
       " 'p (53).jpg',\n",
       " 'p (129).jpg',\n",
       " 'p (365).jpg',\n",
       " 'p (613).jpg',\n",
       " 'p (391).jpg',\n",
       " 'p (1).jpg',\n",
       " 'p (96).jpg',\n",
       " 'p (731).jpg',\n",
       " 'p (175).jpg',\n",
       " 'p (107).jpg',\n",
       " 'p (235).jpg',\n",
       " 'p (703).jpg',\n",
       " 'p (550).jpg',\n",
       " 'p (150).jpg',\n",
       " 'p (638).jpg',\n",
       " 'p (804).jpg',\n",
       " 'p (125).jpg',\n",
       " 'p (328).jpg',\n",
       " 'p (732).jpg',\n",
       " 'p (511).jpg',\n",
       " 'p (97).jpg',\n",
       " 'p (113).jpg',\n",
       " 'p (771).jpg',\n",
       " 'p (554).jpg',\n",
       " 'p (259).jpg',\n",
       " 'p (570).jpg',\n",
       " 'p (700).jpg',\n",
       " 'p (699).jpg',\n",
       " 'p (472).jpg',\n",
       " 'p (27).jpg',\n",
       " 'p (383).jpg',\n",
       " 'p (368).jpg',\n",
       " 'p (206).jpg',\n",
       " 'p (697).jpg',\n",
       " 'p (332).jpg',\n",
       " 'p (663).jpg',\n",
       " 'p (195).jpg',\n",
       " 'p (225).jpg',\n",
       " 'p (540).jpg',\n",
       " 'p (447).jpg',\n",
       " 'p (451).jpg',\n",
       " 'p (434).jpg',\n",
       " 'p (142).jpg',\n",
       " 'p (299).jpg',\n",
       " 'p (427).jpg',\n",
       " 'p (456).jpg',\n",
       " 'p (25).jpg',\n",
       " 'p (438).jpg',\n",
       " 'p (249).jpg',\n",
       " 'p (441).jpg',\n",
       " 'p (692).jpg',\n",
       " 'p (105).jpg',\n",
       " 'p (696).jpg',\n",
       " 'p (265).jpg',\n",
       " 'p (477).jpg',\n",
       " 'p (626).jpg',\n",
       " 'p (524).jpg',\n",
       " 'p (440).jpg',\n",
       " 'p (20).jpg',\n",
       " 'p (126).jpg',\n",
       " 'p (589).jpg',\n",
       " 'p (312).jpg',\n",
       " 'p (651).jpg',\n",
       " 'p (552).jpg',\n",
       " 'p (381).jpg',\n",
       " 'p (567).jpg',\n",
       " 'p (132).jpg',\n",
       " 'p (772).jpg',\n",
       " 'p (43).jpg',\n",
       " 'p (764).jpg',\n",
       " 'p (143).jpg',\n",
       " 'p (660).jpg',\n",
       " 'p (745).jpg',\n",
       " 'p (145).jpg',\n",
       " 'p (192).jpg',\n",
       " 'p (272).jpg',\n",
       " 'p (505).jpg',\n",
       " 'p (598).jpg',\n",
       " 'p (255).jpg',\n",
       " 'p (657).jpg',\n",
       " 'p (345).jpg',\n",
       " 'p (431).jpg',\n",
       " 'p (776).jpg',\n",
       " 'p (583).jpg',\n",
       " 'p (466).jpg',\n",
       " 'p (360).jpg',\n",
       " 'p (344).jpg',\n",
       " 'p (379).jpg',\n",
       " 'p (733).jpg',\n",
       " 'p (65).jpg',\n",
       " 'p (30).jpg',\n",
       " 'p (608).jpg',\n",
       " 'p (261).jpg',\n",
       " 'p (684).jpg',\n",
       " 'p (19).jpg',\n",
       " 'p (133).jpg',\n",
       " 'p (78).jpg',\n",
       " 'p (825).jpg',\n",
       " 'p (165).jpg',\n",
       " 'p (445).jpg',\n",
       " 'p (356).jpg',\n",
       " 'p (390).jpg',\n",
       " 'p (207).jpg',\n",
       " 'p (131).jpg',\n",
       " 'p (326).jpg',\n",
       " 'p (686).jpg',\n",
       " 'p (647).jpg',\n",
       " 'p (48).jpg',\n",
       " 'p (612).jpg',\n",
       " 'p (817).jpg',\n",
       " 'p (266).jpg',\n",
       " 'p (516).jpg',\n",
       " 'p (543).jpg',\n",
       " 'p (635).jpg',\n",
       " 'p (279).jpg',\n",
       " 'p (340).jpg',\n",
       " 'p (536).jpg',\n",
       " 'p (744).jpg',\n",
       " 'p (287).jpg',\n",
       " 'p (104).jpg',\n",
       " 'p (83).jpg',\n",
       " 'p (572).jpg',\n",
       " 'p (426).jpg',\n",
       " 'p (616).jpg',\n",
       " 'p (455).jpg',\n",
       " 'p (494).jpg',\n",
       " 'p (757).jpg',\n",
       " 'p (754).jpg',\n",
       " 'p (513).jpg',\n",
       " 'p (636).jpg',\n",
       " 'p (369).jpg',\n",
       " 'p (385).jpg',\n",
       " 'p (648).jpg',\n",
       " 'p (752).jpg',\n",
       " 'p (588).jpg',\n",
       " 'p (377).jpg',\n",
       " 'p (349).jpg',\n",
       " 'p (809).jpg',\n",
       " 'p (743).jpg',\n",
       " 'p (525).jpg',\n",
       " 'p (449).jpg',\n",
       " 'p (821).jpg',\n",
       " 'p (489).jpg',\n",
       " 'p (37).jpg',\n",
       " 'p (283).jpg',\n",
       " 'p (4).jpg',\n",
       " 'p (645).jpg',\n",
       " 'p (89).jpg',\n",
       " 'p (215).jpg',\n",
       " 'p (446).jpg',\n",
       " 'p (282).jpg',\n",
       " 'p (632).jpg',\n",
       " 'p (69).jpg',\n",
       " 'p (273).jpg',\n",
       " 'p (372).jpg',\n",
       " 'p (404).jpg',\n",
       " 'p (444).jpg',\n",
       " 'p (569).jpg',\n",
       " 'p (46).jpg',\n",
       " 'p (539).jpg',\n",
       " 'p (411).jpg',\n",
       " 'p (753).jpg',\n",
       " 'p (783).jpg',\n",
       " 'p (751).jpg',\n",
       " 'p (545).jpg',\n",
       " 'p (624).jpg',\n",
       " 'p (280).jpg',\n",
       " 'p (362).jpg',\n",
       " 'p (140).jpg',\n",
       " 'p (721).jpg',\n",
       " 'p (707).jpg',\n",
       " 'p (787).jpg',\n",
       " 'p (23).jpg',\n",
       " 'p (634).jpg',\n",
       " 'p (196).jpg',\n",
       " 'p (350).jpg',\n",
       " 'p (361).jpg',\n",
       " 'p (32).jpg',\n",
       " 'p (785).jpg',\n",
       " 'p (633).jpg',\n",
       " 'p (618).jpg',\n",
       " 'p (275).jpg',\n",
       " 'p (55).jpg',\n",
       " 'p (219).jpg',\n",
       " 'p (578).jpg',\n",
       " 'p (135).jpg',\n",
       " 'p (493).jpg',\n",
       " 'p (45).jpg',\n",
       " 'p (15).jpg',\n",
       " 'p (586).jpg',\n",
       " 'p (264).jpg',\n",
       " 'p (436).jpg',\n",
       " 'p (42).jpg',\n",
       " 'p (169).jpg',\n",
       " 'p (816).jpg',\n",
       " 'p (77).jpg',\n",
       " 'p (478).jpg',\n",
       " 'p (526).jpg',\n",
       " 'p (218).jpg',\n",
       " 'p (405).jpg',\n",
       " 'p (779).jpg',\n",
       " 'p (320).jpg',\n",
       " 'p (665).jpg',\n",
       " 'p (748).jpg',\n",
       " 'p (323).jpg',\n",
       " 'p (537).jpg',\n",
       " 'p (735).jpg',\n",
       " 'p (9).jpg',\n",
       " 'p (584).jpg',\n",
       " 'p (117).jpg',\n",
       " 'p (286).jpg',\n",
       " 'p (740).jpg',\n",
       " 'p (352).jpg',\n",
       " 'p (71).jpg',\n",
       " 'p (726).jpg',\n",
       " 'p (402).jpg',\n",
       " 'p (527).jpg',\n",
       " 'p (241).jpg',\n",
       " 'p (716).jpg',\n",
       " 'p (798).jpg',\n",
       " 'p (179).jpg',\n",
       " 'p (260).jpg',\n",
       " 'p (465).jpg',\n",
       " 'p (316).jpg',\n",
       " 'p (784).jpg',\n",
       " 'p (183).jpg',\n",
       " 'p (251).jpg',\n",
       " 'p (341).jpg',\n",
       " 'p (289).jpg',\n",
       " 'p (600).jpg',\n",
       " 'p (144).jpg',\n",
       " 'p (823).jpg',\n",
       " 'p (200).jpg',\n",
       " 'p (152).jpg',\n",
       " 'p (298).jpg',\n",
       " 'p (773).jpg',\n",
       " 'p (28).jpg',\n",
       " 'p (31).jpg',\n",
       " 'p (290).jpg',\n",
       " 'p (176).jpg',\n",
       " 'p (95).jpg',\n",
       " 'p (63).jpg',\n",
       " 'p (389).jpg',\n",
       " 'p (437).jpg',\n",
       " 'p (151).jpg',\n",
       " 'p (646).jpg',\n",
       " 'p (448).jpg',\n",
       " 'p (442).jpg',\n",
       " 'p (555).jpg',\n",
       " 'p (220).jpg',\n",
       " 'p (801).jpg',\n",
       " 'p (239).jpg',\n",
       " 'p (366).jpg',\n",
       " 'p (566).jpg',\n",
       " 'p (683).jpg',\n",
       " 'p (689).jpg',\n",
       " 'p (565).jpg',\n",
       " 'p (520).jpg',\n",
       " 'p (296).jpg',\n",
       " 'p (232).jpg',\n",
       " 'p (22).jpg',\n",
       " 'p (305).jpg',\n",
       " 'p (496).jpg',\n",
       " 'p (457).jpg',\n",
       " 'p (60).jpg',\n",
       " 'p (474).jpg',\n",
       " 'p (198).jpg',\n",
       " 'p (268).jpg',\n",
       " 'p (301).jpg',\n",
       " 'p (811).jpg',\n",
       " 'p (285).jpg',\n",
       " 'p (641).jpg',\n",
       " 'p (597).jpg',\n",
       " 'p (490).jpg',\n",
       " 'p (517).jpg',\n",
       " 'p (100).jpg',\n",
       " 'p (500).jpg',\n",
       " 'p (682).jpg',\n",
       " 'p (171).jpg',\n",
       " 'p (820).jpg',\n",
       " 'p (581).jpg',\n",
       " 'p (430).jpg',\n",
       " 'p (680).jpg',\n",
       " 'p (103).jpg',\n",
       " 'p (86).jpg',\n",
       " 'p (815).jpg',\n",
       " 'p (308).jpg',\n",
       " 'p (106).jpg',\n",
       " 'p (417).jpg',\n",
       " 'p (802).jpg',\n",
       " 'p (8).jpg',\n",
       " 'p (209).jpg',\n",
       " 'p (549).jpg',\n",
       " 'p (713).jpg',\n",
       " 'p (99).jpg',\n",
       " 'p (769).jpg',\n",
       " 'p (134).jpg',\n",
       " 'p (491).jpg',\n",
       " 'p (154).jpg',\n",
       " 'p (423).jpg',\n",
       " 'p (157).jpg',\n",
       " 'p (739).jpg',\n",
       " 'p (652).jpg',\n",
       " 'p (599).jpg',\n",
       " 'p (822).jpg',\n",
       " 'p (747).jpg',\n",
       " 'p (91).jpg',\n",
       " 'p (371).jpg',\n",
       " 'p (631).jpg',\n",
       " 'p (351).jpg',\n",
       " 'p (303).jpg',\n",
       " 'p (346).jpg',\n",
       " 'p (664).jpg',\n",
       " 'p (250).jpg',\n",
       " 'p (577).jpg',\n",
       " 'p (826).jpg',\n",
       " 'p (203).jpg',\n",
       " 'p (761).jpg',\n",
       " 'p (387).jpg',\n",
       " 'p (760).jpg',\n",
       " 'p (146).jpg',\n",
       " 'p (85).jpg',\n",
       " 'p (39).jpg',\n",
       " 'p (181).jpg',\n",
       " 'p (507).jpg',\n",
       " 'p (614).jpg',\n",
       " 'p (546).jpg',\n",
       " 'p (6).jpg',\n",
       " 'p (656).jpg',\n",
       " 'p (755).jpg',\n",
       " 'p (479).jpg',\n",
       " 'p (67).jpg',\n",
       " 'p (62).jpg',\n",
       " 'p (187).jpg',\n",
       " 'p (295).jpg',\n",
       " 'p (556).jpg',\n",
       " 'p (217).jpg',\n",
       " 'p (310).jpg',\n",
       " 'p (485).jpg',\n",
       " 'p (604).jpg',\n",
       " 'p (768).jpg',\n",
       " 'p (123).jpg',\n",
       " 'p (288).jpg',\n",
       " 'p (159).jpg',\n",
       " 'p (307).jpg',\n",
       " 'p (746).jpg',\n",
       " 'p (619).jpg',\n",
       " 'p (382).jpg',\n",
       " 'p (551).jpg',\n",
       " 'p (609).jpg',\n",
       " 'p (518).jpg',\n",
       " 'p (573).jpg',\n",
       " 'p (364).jpg',\n",
       " 'p (767).jpg',\n",
       " 'p (231).jpg',\n",
       " 'p (729).jpg',\n",
       " 'p (501).jpg',\n",
       " 'p (204).jpg',\n",
       " 'p (622).jpg',\n",
       " 'p (758).jpg',\n",
       " 'p (425).jpg',\n",
       " 'p (763).jpg',\n",
       " 'p (197).jpg',\n",
       " 'p (12).jpg',\n",
       " 'p (380).jpg',\n",
       " 'p (681).jpg',\n",
       " 'p (585).jpg',\n",
       " 'p (304).jpg',\n",
       " 'p (343).jpg',\n",
       " 'p (222).jpg',\n",
       " 'p (191).jpg',\n",
       " 'p (242).jpg',\n",
       " 'p (254).jpg',\n",
       " 'p (258).jpg',\n",
       " 'p (738).jpg',\n",
       " 'p (450).jpg',\n",
       " 'p (512).jpg',\n",
       " 'p (56).jpg',\n",
       " 'p (314).jpg',\n",
       " 'p (422).jpg',\n",
       " 'p (354).jpg',\n",
       " 'p (793).jpg',\n",
       " 'p (677).jpg',\n",
       " 'p (559).jpg',\n",
       " 'p (443).jpg',\n",
       " 'p (481).jpg',\n",
       " 'p (246).jpg',\n",
       " 'p (353).jpg',\n",
       " 'p (121).jpg',\n",
       " 'p (560).jpg',\n",
       " 'p (115).jpg',\n",
       " 'p (348).jpg',\n",
       " 'p (178).jpg',\n",
       " 'p (302).jpg',\n",
       " 'p (10).jpg',\n",
       " 'p (24).jpg',\n",
       " 'p (329).jpg',\n",
       " 'p (810).jpg',\n",
       " 'p (523).jpg',\n",
       " 'p (728).jpg',\n",
       " 'p (227).jpg',\n",
       " 'p (522).jpg',\n",
       " 'p (309).jpg',\n",
       " 'p (160).jpg',\n",
       " 'p (11).jpg',\n",
       " 'p (394).jpg',\n",
       " 'p (338).jpg',\n",
       " 'p (161).jpg',\n",
       " 'p (418).jpg',\n",
       " 'p (737).jpg',\n",
       " 'p (519).jpg',\n",
       " 'p (439).jpg',\n",
       " 'p (574).jpg',\n",
       " 'p (243).jpg',\n",
       " 'p (592).jpg',\n",
       " 'p (234).jpg',\n",
       " 'p (355).jpg',\n",
       " 'p (193).jpg',\n",
       " 'p (253).jpg',\n",
       " 'p (429).jpg',\n",
       " 'p (367).jpg',\n",
       " 'p (325).jpg',\n",
       " 'p (412).jpg',\n",
       " 'p (271).jpg',\n",
       " 'p (794).jpg',\n",
       " 'p (300).jpg',\n",
       " 'p (416).jpg',\n",
       " 'p (44).jpg',\n",
       " 'p (278).jpg',\n",
       " 'p (818).jpg',\n",
       " 'p (334).jpg',\n",
       " 'p (777).jpg',\n",
       " 'p (88).jpg',\n",
       " 'p (36).jpg',\n",
       " 'p (463).jpg',\n",
       " 'p (138).jpg',\n",
       " 'p (64).jpg',\n",
       " 'p (76).jpg',\n",
       " 'p (563).jpg',\n",
       " 'p (357).jpg',\n",
       " 'p (41).jpg',\n",
       " 'p (671).jpg',\n",
       " 'p (237).jpg',\n",
       " 'p (778).jpg',\n",
       " 'p (410).jpg',\n",
       " 'p (163).jpg',\n",
       " 'p (294).jpg',\n",
       " 'p (701).jpg',\n",
       " 'p (806).jpg',\n",
       " 'p (468).jpg',\n",
       " 'p (87).jpg',\n",
       " 'p (81).jpg',\n",
       " 'p (685).jpg',\n",
       " 'p (453).jpg',\n",
       " 'p (284).jpg',\n",
       " 'p (715).jpg',\n",
       " 'p (724).jpg',\n",
       " 'p (594).jpg',\n",
       " 'p (606).jpg',\n",
       " 'p (534).jpg',\n",
       " 'p (765).jpg',\n",
       " 'p (813).jpg',\n",
       " 'p (827).jpg',\n",
       " 'p (542).jpg',\n",
       " 'p (80).jpg',\n",
       " 'p (127).jpg',\n",
       " 'p (419).jpg',\n",
       " 'p (223).jpg',\n",
       " 'p (723).jpg',\n",
       " 'p (413).jpg',\n",
       " 'p (576).jpg',\n",
       " 'p (420).jpg',\n",
       " 'p (678).jpg',\n",
       " 'p (322).jpg',\n",
       " 'p (318).jpg',\n",
       " 'p (378).jpg',\n",
       " 'p (690).jpg',\n",
       " 'p (627).jpg',\n",
       " 'p (708).jpg',\n",
       " 'p (734).jpg',\n",
       " 'p (514).jpg',\n",
       " 'p (528).jpg',\n",
       " 'p (819).jpg',\n",
       " 'p (147).jpg',\n",
       " 'p (637).jpg',\n",
       " 'p (655).jpg',\n",
       " 'p (639).jpg',\n",
       " 'p (621).jpg',\n",
       " 'p (580).jpg',\n",
       " 'p (710).jpg',\n",
       " 'p (79).jpg',\n",
       " 'p (630).jpg',\n",
       " 'p (164).jpg',\n",
       " 'p (687).jpg',\n",
       " 'p (124).jpg',\n",
       " 'p (347).jpg',\n",
       " 'p (270).jpg',\n",
       " 'p (244).jpg',\n",
       " 'p (824).jpg',\n",
       " 'p (177).jpg',\n",
       " 'p (698).jpg',\n",
       " 'p (33).jpg',\n",
       " 'p (403).jpg',\n",
       " 'p (596).jpg',\n",
       " 'p (593).jpg',\n",
       " 'p (674).jpg',\n",
       " 'p (498).jpg',\n",
       " 'p (482).jpg',\n",
       " 'p (370).jpg',\n",
       " 'p (173).jpg',\n",
       " 'p (461).jpg',\n",
       " 'p (668).jpg',\n",
       " 'p (807).jpg',\n",
       " 'p (470).jpg',\n",
       " 'p (130).jpg',\n",
       " 'p (617).jpg',\n",
       " 'p (293).jpg',\n",
       " 'p (337).jpg',\n",
       " 'p (736).jpg',\n",
       " 'p (70).jpg',\n",
       " 'p (226).jpg',\n",
       " 'p (363).jpg',\n",
       " 'p (749).jpg',\n",
       " 'p (281).jpg',\n",
       " 'p (679).jpg',\n",
       " 'p (750).jpg',\n",
       " 'p (805).jpg',\n",
       " 'p (607).jpg',\n",
       " 'p (276).jpg',\n",
       " 'p (174).jpg',\n",
       " 'p (669).jpg',\n",
       " 'p (486).jpg',\n",
       " 'p (228).jpg',\n",
       " 'p (568).jpg',\n",
       " 'p (82).jpg',\n",
       " 'p (705).jpg',\n",
       " 'p (324).jpg',\n",
       " 'p (424).jpg',\n",
       " 'p (628).jpg',\n",
       " 'p (185).jpg']"
      ]
     },
     "execution_count": 13,
     "metadata": {},
     "output_type": "execute_result"
    }
   ],
   "source": [
    "os.listdir(train_dir+\"/pituitary_tumor\")"
   ]
  },
  {
   "cell_type": "code",
   "execution_count": 14,
   "metadata": {},
   "outputs": [],
   "source": [
    "meningioma_tumor_path = train_dir+\"/meningioma_tumor/\"+\"m3 (126).jpg\""
   ]
  },
  {
   "cell_type": "code",
   "execution_count": 15,
   "metadata": {},
   "outputs": [
    {
     "data": {
      "text/plain": [
       "<matplotlib.image.AxesImage at 0x7ff74ea41c50>"
      ]
     },
     "execution_count": 15,
     "metadata": {},
     "output_type": "execute_result"
    },
    {
     "data": {
      "image/png": "[encoded data removed]",
      "text/plain": [
       "<Figure size 432x288 with 1 Axes>"
      ]
     },
     "metadata": {
      "needs_background": "light"
     },
     "output_type": "display_data"
    }
   ],
   "source": [
    "plt.imshow(imread(meningioma_tumor_path))"
   ]
  },
  {
   "cell_type": "code",
   "execution_count": 16,
   "metadata": {},
   "outputs": [],
   "source": [
    "glioma_tumor_path = train_dir+\"/glioma_tumor/\"+\"gg (698).jpg\""
   ]
  },
  {
   "cell_type": "code",
   "execution_count": 17,
   "metadata": {},
   "outputs": [
    {
     "data": {
      "text/plain": [
       "<matplotlib.image.AxesImage at 0x7ff74ea41f10>"
      ]
     },
     "execution_count": 17,
     "metadata": {},
     "output_type": "execute_result"
    },
    {
     "data": {
      "image/png": "[encoded data removed]",
      "text/plain": [
       "<Figure size 432x288 with 1 Axes>"
      ]
     },
     "metadata": {
      "needs_background": "light"
     },
     "output_type": "display_data"
    }
   ],
   "source": [
    "plt.imshow(imread(glioma_tumor_path))"
   ]
  },
  {
   "cell_type": "code",
   "execution_count": 18,
   "metadata": {},
   "outputs": [],
   "source": [
    "pituitary_tumor_path = train_dir+\"/pituitary_tumor/\"+\"p (359).jpg\""
   ]
  },
  {
   "cell_type": "code",
   "execution_count": 19,
   "metadata": {},
   "outputs": [
    {
     "data": {
      "text/plain": [
       "<matplotlib.image.AxesImage at 0x7ff74e95cf90>"
      ]
     },
     "execution_count": 19,
     "metadata": {},
     "output_type": "execute_result"
    },
    {
     "data": {
      "image/png": "[encoded data removed]",
      "text/plain": [
       "<Figure size 432x288 with 1 Axes>"
      ]
     },
     "metadata": {
      "needs_background": "light"
     },
     "output_type": "display_data"
    }
   ],
   "source": [
    "plt.imshow(imread(pituitary_tumor_path))"
   ]
  },
  {
   "cell_type": "markdown",
   "metadata": {},
   "source": [
    "### Dimension of the images "
   ]
  },
  {
   "cell_type": "code",
   "execution_count": 20,
   "metadata": {},
   "outputs": [
    {
     "data": {
      "text/plain": [
       "(512, 512, 3)"
      ]
     },
     "execution_count": 20,
     "metadata": {},
     "output_type": "execute_result"
    }
   ],
   "source": [
    "imread(pituitary_tumor_path).shape"
   ]
  },
  {
   "cell_type": "code",
   "execution_count": 21,
   "metadata": {},
   "outputs": [
    {
     "data": {
      "text/plain": [
       "(512, 512, 3)"
      ]
     },
     "execution_count": 21,
     "metadata": {},
     "output_type": "execute_result"
    }
   ],
   "source": [
    "imread(glioma_tumor_path).shape"
   ]
  },
  {
   "cell_type": "code",
   "execution_count": 22,
   "metadata": {},
   "outputs": [
    {
     "data": {
      "text/plain": [
       "(512, 512, 3)"
      ]
     },
     "execution_count": 22,
     "metadata": {},
     "output_type": "execute_result"
    }
   ],
   "source": [
    "imread(meningioma_tumor_path).shape"
   ]
  },
  {
   "cell_type": "markdown",
   "metadata": {},
   "source": [
    "### Average Image Size \n",
    "- Appears that all of the images are 500 X 500 but lets do a check \n",
    "- The model will need a set image size to train on "
   ]
  },
  {
   "cell_type": "code",
   "execution_count": 23,
   "metadata": {},
   "outputs": [],
   "source": [
    "dim1 = []\n",
    "dim2 = []\n",
    "for image_name in os.listdir(train_dir+\"/glioma_tumor\"):\n",
    "    img = imread(train_dir+\"/glioma_tumor/\"+image_name)\n",
    "    d1, d2,c = img.shape\n",
    "    dim1.append(d1)\n",
    "    dim2.append(d2)"
   ]
  },
  {
   "cell_type": "markdown",
   "metadata": {},
   "source": [
    "### Getting the average size for the images \n",
    "- used a random tumor classification to get a sense of the sizes "
   ]
  },
  {
   "cell_type": "code",
   "execution_count": 24,
   "metadata": {},
   "outputs": [
    {
     "data": {
      "text/plain": [
       "<matplotlib.collections.PathCollection at 0x7ff74e8f2850>"
      ]
     },
     "execution_count": 24,
     "metadata": {},
     "output_type": "execute_result"
    },
    {
     "data": {
      "image/png": "[encoded data removed]",
      "text/plain": [
       "<Figure size 432x288 with 1 Axes>"
      ]
     },
     "metadata": {
      "needs_background": "light"
     },
     "output_type": "display_data"
    }
   ],
   "source": [
    "plt.scatter(dim1,dim2)"
   ]
  },
  {
   "cell_type": "markdown",
   "metadata": {},
   "source": [
    "## Average image size \n",
    "- looking at sizes 510,510\n",
    "- Will decrease to decrease training time\n",
    "- The images were 3 dimentional so need to add the RGB layer also \n",
    "- To decrease training time we will decrease the dimansion of the image 80X80"
   ]
  },
  {
   "cell_type": "code",
   "execution_count": 25,
   "metadata": {},
   "outputs": [],
   "source": [
    "avg_img_size = (80,80,3)"
   ]
  },
  {
   "cell_type": "markdown",
   "metadata": {},
   "source": [
    "### Creating an image generartor\n",
    "- A generator is used in this sense to minipulate the images as they are processed \n",
    "- This allows the model learn much better by transforming the images as training progresses"
   ]
  },
  {
   "cell_type": "code",
   "execution_count": 26,
   "metadata": {},
   "outputs": [],
   "source": [
    "from tensorflow.keras.preprocessing.image import ImageDataGenerator"
   ]
  },
  {
   "cell_type": "code",
   "execution_count": 27,
   "metadata": {},
   "outputs": [],
   "source": [
    "generator = ImageDataGenerator(\n",
    " featurewise_center=False,\n",
    "    rotation_range=0.2,\n",
    "    width_shift_range=0.3,\n",
    "    height_shift_range=0.3,\n",
    "    shear_range=0.2,\n",
    "    zoom_range=0.2,\n",
    "    fill_mode='nearest',\n",
    "    horizontal_flip=True,\n",
    "    vertical_flip=True,\n",
    "    rescale=1/255\n",
    ")"
   ]
  },
  {
   "cell_type": "markdown",
   "metadata": {},
   "source": [
    "### Applying the generator to a sample image "
   ]
  },
  {
   "cell_type": "code",
   "execution_count": 28,
   "metadata": {},
   "outputs": [],
   "source": [
    "transformed_image = generator.random_transform(imread(meningioma_tumor_path))"
   ]
  },
  {
   "cell_type": "code",
   "execution_count": 29,
   "metadata": {},
   "outputs": [
    {
     "data": {
      "text/plain": [
       "<matplotlib.image.AxesImage at 0x7ff74d04a490>"
      ]
     },
     "execution_count": 29,
     "metadata": {},
     "output_type": "execute_result"
    },
    {
     "data": {
      "image/png": "[encoded data removed]",
      "text/plain": [
       "<Figure size 432x288 with 1 Axes>"
      ]
     },
     "metadata": {
      "needs_background": "light"
     },
     "output_type": "display_data"
    }
   ],
   "source": [
    "plt.imshow(transformed_image)"
   ]
  },
  {
   "cell_type": "markdown",
   "metadata": {},
   "source": [
    "### Checking Classes assigned by directories\n",
    "- The generator should assign the classes of each tumor form the directory\n",
    "- appears the generator recognized the lasses for each tumor including no tumor"
   ]
  },
  {
   "cell_type": "code",
   "execution_count": 30,
   "metadata": {},
   "outputs": [
    {
     "name": "stdout",
     "output_type": "stream",
     "text": [
      "Found 2870 images belonging to 4 classes.\n"
     ]
    },
    {
     "data": {
      "text/plain": [
       "<keras_preprocessing.image.directory_iterator.DirectoryIterator at 0x7ff74d003a10>"
      ]
     },
     "execution_count": 30,
     "metadata": {},
     "output_type": "execute_result"
    }
   ],
   "source": [
    "generator.flow_from_directory(train_dir)"
   ]
  },
  {
   "cell_type": "code",
   "execution_count": 31,
   "metadata": {},
   "outputs": [
    {
     "name": "stdout",
     "output_type": "stream",
     "text": [
      "Found 394 images belonging to 4 classes.\n"
     ]
    },
    {
     "data": {
      "text/plain": [
       "<keras_preprocessing.image.directory_iterator.DirectoryIterator at 0x7ff74cfd92d0>"
      ]
     },
     "execution_count": 31,
     "metadata": {},
     "output_type": "execute_result"
    }
   ],
   "source": [
    "generator.flow_from_directory(test_dir)"
   ]
  },
  {
   "cell_type": "markdown",
   "metadata": {},
   "source": [
    "### Training and testing Generator\n",
    "- Will need to create a training and testing generator for the data "
   ]
  },
  {
   "cell_type": "code",
   "execution_count": 32,
   "metadata": {},
   "outputs": [
    {
     "name": "stdout",
     "output_type": "stream",
     "text": [
      "Found 2870 images belonging to 4 classes.\n"
     ]
    }
   ],
   "source": [
    "train_generator = generator.flow_from_directory(\n",
    "    train_dir,\n",
    "    target_size=avg_img_size[:2],\n",
    "    color_mode='rgb',\n",
    "    class_mode='categorical',\n",
    "    batch_size=321,\n",
    "    shuffle=True,\n",
    ")"
   ]
  },
  {
   "cell_type": "markdown",
   "metadata": {},
   "source": [
    "## Shuffle\n",
    "- The testing data should not be shuffled. This will shuffle the labels also \n",
    "- Ths should only be done with the training data for better accuracy"
   ]
  },
  {
   "cell_type": "code",
   "execution_count": 33,
   "metadata": {},
   "outputs": [
    {
     "name": "stdout",
     "output_type": "stream",
     "text": [
      "Found 2870 images belonging to 4 classes.\n"
     ]
    }
   ],
   "source": [
    "test_generator = generator.flow_from_directory(\n",
    "    train_dir,\n",
    "    target_size=avg_img_size[:2],\n",
    "    color_mode='rgb',\n",
    "    class_mode='categorical',\n",
    "    batch_size=321,\n",
    "    shuffle=False,\n",
    ")"
   ]
  },
  {
   "cell_type": "markdown",
   "metadata": {},
   "source": [
    "### Creating the model\n",
    "- Will create the model that will fit to the generator\n",
    "- This model will be trained on an EC2 instance for memory capicity"
   ]
  },
  {
   "cell_type": "code",
   "execution_count": null,
   "metadata": {},
   "outputs": [],
   "source": []
  },
  {
   "cell_type": "code",
   "execution_count": 34,
   "metadata": {},
   "outputs": [],
   "source": [
    "model = Sequential()\n",
    "model.add(Conv2D(filters = 40, kernel_size = (2,2), strides = (1,1), padding = \"same\", activation = \"relu\",\n",
    "                 input_shape = avg_img_size))\n",
    "model.add(MaxPool2D(pool_size = (2,2)))\n",
    "model.add(Conv2D(filters = 40, kernel_size = (2,2), strides = (1,1), padding = \"same\", activation = \"relu\",\n",
    "                 input_shape = avg_img_size))\n",
    "model.add(MaxPool2D(pool_size = (2,2)))\n",
    "model.add(Flatten())\n",
    "model.add(Dense(units = 200, activation = \"relu\"))\n",
    "model.add(Dense(units = 60, activation = \"relu\"))\n",
    "model.add(Dense(units = 4, activation = \"softmax\"))\n",
    "model.compile(loss = \"categorical_crossentropy\", optimizer = \"adam\", metrics = [\"accuracy\"])"
   ]
  },
  {
   "cell_type": "code",
   "execution_count": 35,
   "metadata": {},
   "outputs": [
    {
     "name": "stdout",
     "output_type": "stream",
     "text": [
      "Model: \"sequential\"\n",
      "_________________________________________________________________\n",
      "Layer (type)                 Output Shape              Param #   \n",
      "=================================================================\n",
      "conv2d (Conv2D)              (None, 80, 80, 40)        520       \n",
      "_________________________________________________________________\n",
      "max_pooling2d (MaxPooling2D) (None, 40, 40, 40)        0         \n",
      "_________________________________________________________________\n",
      "conv2d_1 (Conv2D)            (None, 40, 40, 40)        6440      \n",
      "_________________________________________________________________\n",
      "max_pooling2d_1 (MaxPooling2 (None, 20, 20, 40)        0         \n",
      "_________________________________________________________________\n",
      "flatten (Flatten)            (None, 16000)             0         \n",
      "_________________________________________________________________\n",
      "dense (Dense)                (None, 200)               3200200   \n",
      "_________________________________________________________________\n",
      "dense_1 (Dense)              (None, 60)                12060     \n",
      "_________________________________________________________________\n",
      "dense_2 (Dense)              (None, 4)                 244       \n",
      "=================================================================\n",
      "Total params: 3,219,464\n",
      "Trainable params: 3,219,464\n",
      "Non-trainable params: 0\n",
      "_________________________________________________________________\n"
     ]
    }
   ],
   "source": [
    "model.summary()"
   ]
  },
  {
   "cell_type": "code",
   "execution_count": 32,
   "metadata": {},
   "outputs": [],
   "source": [
    "stop = EarlyStopping(monitor= \"val_loss\", mode=\"min\", patience=50)"
   ]
  },
  {
   "cell_type": "markdown",
   "metadata": {},
   "source": [
    "### Fitting the generator"
   ]
  },
  {
   "cell_type": "code",
   "execution_count": 36,
   "metadata": {},
   "outputs": [
    {
     "name": "stdout",
     "output_type": "stream",
     "text": [
      "Epoch 1/150\n",
      "9/9 [==============================] - 47s 5s/step - loss: 1.3979 - accuracy: 0.3220 - val_loss: 1.3384 - val_accuracy: 0.3812\n",
      "Epoch 2/150\n",
      "9/9 [==============================] - 39s 4s/step - loss: 1.3306 - accuracy: 0.3662 - val_loss: 1.3087 - val_accuracy: 0.4084\n",
      "Epoch 3/150\n",
      "9/9 [==============================] - 40s 4s/step - loss: 1.2983 - accuracy: 0.4108 - val_loss: 1.2845 - val_accuracy: 0.4188\n",
      "Epoch 4/150\n",
      "9/9 [==============================] - 39s 4s/step - loss: 1.2740 - accuracy: 0.4164 - val_loss: 1.2656 - val_accuracy: 0.4014\n",
      "Epoch 5/150\n",
      "9/9 [==============================] - 40s 4s/step - loss: 1.2532 - accuracy: 0.4220 - val_loss: 1.2136 - val_accuracy: 0.4589\n",
      "Epoch 6/150\n",
      "9/9 [==============================] - 39s 4s/step - loss: 1.2113 - accuracy: 0.4300 - val_loss: 1.2050 - val_accuracy: 0.4463\n",
      "Epoch 7/150\n",
      "9/9 [==============================] - 39s 4s/step - loss: 1.1744 - accuracy: 0.4777 - val_loss: 1.1466 - val_accuracy: 0.5056\n",
      "Epoch 8/150\n",
      "9/9 [==============================] - 39s 4s/step - loss: 1.1357 - accuracy: 0.4969 - val_loss: 1.1280 - val_accuracy: 0.5143\n",
      "Epoch 9/150\n",
      "9/9 [==============================] - 39s 4s/step - loss: 1.1130 - accuracy: 0.5084 - val_loss: 1.0737 - val_accuracy: 0.5279\n",
      "Epoch 10/150\n",
      "9/9 [==============================] - 39s 4s/step - loss: 1.0648 - accuracy: 0.5359 - val_loss: 1.0607 - val_accuracy: 0.5341\n",
      "Epoch 11/150\n",
      "9/9 [==============================] - 39s 4s/step - loss: 1.0395 - accuracy: 0.5470 - val_loss: 1.0151 - val_accuracy: 0.5801\n",
      "Epoch 12/150\n",
      "9/9 [==============================] - 39s 4s/step - loss: 1.0051 - accuracy: 0.5735 - val_loss: 0.9712 - val_accuracy: 0.5868\n",
      "Epoch 13/150\n",
      "9/9 [==============================] - 39s 4s/step - loss: 0.9745 - accuracy: 0.5833 - val_loss: 0.9598 - val_accuracy: 0.5861\n",
      "Epoch 14/150\n",
      "9/9 [==============================] - 39s 4s/step - loss: 0.9534 - accuracy: 0.6111 - val_loss: 0.9801 - val_accuracy: 0.5578\n",
      "Epoch 15/150\n",
      "9/9 [==============================] - 39s 4s/step - loss: 0.9337 - accuracy: 0.6073 - val_loss: 0.9217 - val_accuracy: 0.6118\n",
      "Epoch 16/150\n",
      "9/9 [==============================] - 39s 4s/step - loss: 0.9253 - accuracy: 0.6052 - val_loss: 0.9621 - val_accuracy: 0.5847\n",
      "Epoch 17/150\n",
      "9/9 [==============================] - 39s 4s/step - loss: 0.9252 - accuracy: 0.6125 - val_loss: 0.8990 - val_accuracy: 0.6098\n",
      "Epoch 18/150\n",
      "9/9 [==============================] - 39s 4s/step - loss: 0.9060 - accuracy: 0.6199 - val_loss: 0.9362 - val_accuracy: 0.6000\n",
      "Epoch 19/150\n",
      "9/9 [==============================] - 40s 4s/step - loss: 0.9284 - accuracy: 0.6153 - val_loss: 0.9241 - val_accuracy: 0.6031\n",
      "Epoch 20/150\n",
      "9/9 [==============================] - 39s 4s/step - loss: 0.9053 - accuracy: 0.6108 - val_loss: 0.8818 - val_accuracy: 0.6446\n",
      "Epoch 21/150\n",
      "9/9 [==============================] - 39s 4s/step - loss: 0.8965 - accuracy: 0.6220 - val_loss: 0.8640 - val_accuracy: 0.6401\n",
      "Epoch 22/150\n",
      "9/9 [==============================] - 40s 4s/step - loss: 0.8695 - accuracy: 0.6286 - val_loss: 0.8947 - val_accuracy: 0.6167\n",
      "Epoch 23/150\n",
      "9/9 [==============================] - 39s 4s/step - loss: 0.8941 - accuracy: 0.6209 - val_loss: 0.8485 - val_accuracy: 0.6397\n",
      "Epoch 24/150\n",
      "9/9 [==============================] - 39s 4s/step - loss: 0.8542 - accuracy: 0.6397 - val_loss: 0.8403 - val_accuracy: 0.6429\n",
      "Epoch 25/150\n",
      "9/9 [==============================] - 39s 4s/step - loss: 0.8445 - accuracy: 0.6488 - val_loss: 0.8613 - val_accuracy: 0.6359\n",
      "Epoch 26/150\n",
      "9/9 [==============================] - 39s 4s/step - loss: 0.8413 - accuracy: 0.6554 - val_loss: 0.8345 - val_accuracy: 0.6422\n",
      "Epoch 27/150\n",
      "9/9 [==============================] - 39s 4s/step - loss: 0.8422 - accuracy: 0.6328 - val_loss: 0.8381 - val_accuracy: 0.6488\n",
      "Epoch 28/150\n",
      "9/9 [==============================] - 39s 4s/step - loss: 0.8576 - accuracy: 0.6352 - val_loss: 0.8300 - val_accuracy: 0.6376\n",
      "Epoch 29/150\n",
      "9/9 [==============================] - 39s 4s/step - loss: 0.8606 - accuracy: 0.6265 - val_loss: 0.8449 - val_accuracy: 0.6334\n",
      "Epoch 30/150\n",
      "9/9 [==============================] - 39s 4s/step - loss: 0.8417 - accuracy: 0.6470 - val_loss: 0.8419 - val_accuracy: 0.6537\n",
      "Epoch 31/150\n",
      "9/9 [==============================] - 39s 4s/step - loss: 0.8218 - accuracy: 0.6533 - val_loss: 0.8124 - val_accuracy: 0.6578\n",
      "Epoch 32/150\n",
      "9/9 [==============================] - 39s 4s/step - loss: 0.8168 - accuracy: 0.6648 - val_loss: 0.8114 - val_accuracy: 0.6456\n",
      "Epoch 33/150\n",
      "9/9 [==============================] - 39s 4s/step - loss: 0.8145 - accuracy: 0.6537 - val_loss: 0.7797 - val_accuracy: 0.6707\n",
      "Epoch 34/150\n",
      "9/9 [==============================] - 39s 4s/step - loss: 0.8131 - accuracy: 0.6467 - val_loss: 0.8466 - val_accuracy: 0.6467\n",
      "Epoch 35/150\n",
      "9/9 [==============================] - 39s 4s/step - loss: 0.8217 - accuracy: 0.6564 - val_loss: 0.8007 - val_accuracy: 0.6603\n",
      "Epoch 36/150\n",
      "9/9 [==============================] - 39s 4s/step - loss: 0.7989 - accuracy: 0.6620 - val_loss: 0.7965 - val_accuracy: 0.6568\n",
      "Epoch 37/150\n",
      "9/9 [==============================] - 39s 4s/step - loss: 0.8018 - accuracy: 0.6627 - val_loss: 0.7778 - val_accuracy: 0.6725\n",
      "Epoch 38/150\n",
      "9/9 [==============================] - 39s 4s/step - loss: 0.7881 - accuracy: 0.6645 - val_loss: 0.7976 - val_accuracy: 0.6578\n",
      "Epoch 39/150\n",
      "9/9 [==============================] - 39s 4s/step - loss: 0.8161 - accuracy: 0.6613 - val_loss: 0.8488 - val_accuracy: 0.6498\n",
      "Epoch 40/150\n",
      "9/9 [==============================] - 39s 4s/step - loss: 0.8433 - accuracy: 0.6404 - val_loss: 0.8466 - val_accuracy: 0.6491\n",
      "Epoch 41/150\n",
      "9/9 [==============================] - 39s 4s/step - loss: 0.7972 - accuracy: 0.6641 - val_loss: 0.7793 - val_accuracy: 0.6686\n",
      "Epoch 42/150\n",
      "9/9 [==============================] - 40s 4s/step - loss: 0.8001 - accuracy: 0.6596 - val_loss: 0.7791 - val_accuracy: 0.6690\n",
      "Epoch 43/150\n",
      "9/9 [==============================] - 39s 4s/step - loss: 0.7798 - accuracy: 0.6735 - val_loss: 0.7673 - val_accuracy: 0.6690\n",
      "Epoch 44/150\n",
      "9/9 [==============================] - 40s 4s/step - loss: 0.7536 - accuracy: 0.6826 - val_loss: 0.7768 - val_accuracy: 0.6683\n",
      "Epoch 45/150\n",
      "9/9 [==============================] - 39s 4s/step - loss: 0.7690 - accuracy: 0.6746 - val_loss: 0.7620 - val_accuracy: 0.6732\n",
      "Epoch 46/150\n",
      "9/9 [==============================] - 39s 4s/step - loss: 0.7670 - accuracy: 0.6780 - val_loss: 0.7713 - val_accuracy: 0.6697\n",
      "Epoch 47/150\n",
      "9/9 [==============================] - 39s 4s/step - loss: 0.7788 - accuracy: 0.6693 - val_loss: 0.7549 - val_accuracy: 0.6767\n",
      "Epoch 48/150\n",
      "9/9 [==============================] - 40s 4s/step - loss: 0.7478 - accuracy: 0.6826 - val_loss: 0.7497 - val_accuracy: 0.6819\n",
      "Epoch 49/150\n",
      "9/9 [==============================] - 39s 4s/step - loss: 0.7420 - accuracy: 0.6857 - val_loss: 0.7419 - val_accuracy: 0.6815\n",
      "Epoch 50/150\n",
      "9/9 [==============================] - 39s 4s/step - loss: 0.7613 - accuracy: 0.6829 - val_loss: 0.7464 - val_accuracy: 0.6902\n",
      "Epoch 51/150\n",
      "9/9 [==============================] - 39s 4s/step - loss: 0.7480 - accuracy: 0.6794 - val_loss: 0.7311 - val_accuracy: 0.6895\n",
      "Epoch 52/150\n",
      "9/9 [==============================] - 39s 4s/step - loss: 0.7413 - accuracy: 0.6784 - val_loss: 0.7595 - val_accuracy: 0.6603\n",
      "Epoch 53/150\n",
      "9/9 [==============================] - 39s 4s/step - loss: 0.7654 - accuracy: 0.6718 - val_loss: 0.7781 - val_accuracy: 0.6627\n",
      "Epoch 54/150\n",
      "9/9 [==============================] - 39s 4s/step - loss: 0.7375 - accuracy: 0.6847 - val_loss: 0.7229 - val_accuracy: 0.7010\n",
      "Epoch 55/150\n",
      "9/9 [==============================] - 39s 4s/step - loss: 0.7254 - accuracy: 0.6895 - val_loss: 0.7383 - val_accuracy: 0.6889\n",
      "Epoch 56/150\n",
      "9/9 [==============================] - 39s 4s/step - loss: 0.7405 - accuracy: 0.6861 - val_loss: 0.7182 - val_accuracy: 0.6875\n",
      "Epoch 57/150\n",
      "9/9 [==============================] - 39s 4s/step - loss: 0.7155 - accuracy: 0.6913 - val_loss: 0.7311 - val_accuracy: 0.6871\n",
      "Epoch 58/150\n",
      "9/9 [==============================] - 39s 4s/step - loss: 0.7402 - accuracy: 0.6840 - val_loss: 0.7382 - val_accuracy: 0.6812\n",
      "Epoch 59/150\n",
      "9/9 [==============================] - 39s 4s/step - loss: 0.7469 - accuracy: 0.6784 - val_loss: 0.7390 - val_accuracy: 0.6787\n",
      "Epoch 60/150\n",
      "9/9 [==============================] - 39s 4s/step - loss: 0.7569 - accuracy: 0.6693 - val_loss: 0.7035 - val_accuracy: 0.7035\n",
      "Epoch 61/150\n",
      "9/9 [==============================] - 39s 4s/step - loss: 0.7206 - accuracy: 0.6850 - val_loss: 0.7187 - val_accuracy: 0.6826\n",
      "Epoch 62/150\n",
      "9/9 [==============================] - 39s 4s/step - loss: 0.7243 - accuracy: 0.6871 - val_loss: 0.7377 - val_accuracy: 0.6617\n",
      "Epoch 63/150\n",
      "9/9 [==============================] - 39s 4s/step - loss: 0.7355 - accuracy: 0.6767 - val_loss: 0.7350 - val_accuracy: 0.6843\n",
      "Epoch 64/150\n",
      "9/9 [==============================] - 39s 4s/step - loss: 0.7466 - accuracy: 0.6780 - val_loss: 0.7074 - val_accuracy: 0.7024\n",
      "Epoch 65/150\n",
      "9/9 [==============================] - 39s 4s/step - loss: 0.7298 - accuracy: 0.6833 - val_loss: 0.7149 - val_accuracy: 0.6913\n",
      "Epoch 66/150\n",
      "9/9 [==============================] - 39s 4s/step - loss: 0.7065 - accuracy: 0.6944 - val_loss: 0.7456 - val_accuracy: 0.6854\n",
      "Epoch 67/150\n",
      "9/9 [==============================] - 39s 4s/step - loss: 0.7321 - accuracy: 0.6826 - val_loss: 0.7064 - val_accuracy: 0.6930\n",
      "Epoch 68/150\n",
      "9/9 [==============================] - 39s 4s/step - loss: 0.7082 - accuracy: 0.6997 - val_loss: 0.6911 - val_accuracy: 0.7091\n",
      "Epoch 69/150\n",
      "9/9 [==============================] - 39s 4s/step - loss: 0.7067 - accuracy: 0.6948 - val_loss: 0.6969 - val_accuracy: 0.7080\n",
      "Epoch 70/150\n",
      "9/9 [==============================] - 40s 4s/step - loss: 0.7065 - accuracy: 0.6962 - val_loss: 0.6816 - val_accuracy: 0.7021\n",
      "Epoch 71/150\n",
      "9/9 [==============================] - 39s 4s/step - loss: 0.7102 - accuracy: 0.6969 - val_loss: 0.6751 - val_accuracy: 0.7174\n",
      "Epoch 72/150\n",
      "9/9 [==============================] - 39s 4s/step - loss: 0.6931 - accuracy: 0.7007 - val_loss: 0.7217 - val_accuracy: 0.6948\n",
      "Epoch 73/150\n",
      "9/9 [==============================] - 39s 4s/step - loss: 0.6975 - accuracy: 0.7080 - val_loss: 0.7197 - val_accuracy: 0.6944\n",
      "Epoch 74/150\n",
      "9/9 [==============================] - 39s 4s/step - loss: 0.7084 - accuracy: 0.7014 - val_loss: 0.6683 - val_accuracy: 0.7181\n",
      "Epoch 75/150\n",
      "9/9 [==============================] - 39s 4s/step - loss: 0.6759 - accuracy: 0.7122 - val_loss: 0.6945 - val_accuracy: 0.7118\n",
      "Epoch 76/150\n",
      "9/9 [==============================] - 39s 4s/step - loss: 0.6892 - accuracy: 0.7014 - val_loss: 0.6808 - val_accuracy: 0.7077\n",
      "Epoch 77/150\n",
      "9/9 [==============================] - 39s 4s/step - loss: 0.6836 - accuracy: 0.7028 - val_loss: 0.6741 - val_accuracy: 0.7136\n",
      "Epoch 78/150\n",
      "9/9 [==============================] - 39s 4s/step - loss: 0.6855 - accuracy: 0.7066 - val_loss: 0.6577 - val_accuracy: 0.7077\n",
      "Epoch 79/150\n",
      "9/9 [==============================] - 39s 4s/step - loss: 0.6661 - accuracy: 0.7206 - val_loss: 0.6605 - val_accuracy: 0.7293\n",
      "Epoch 80/150\n",
      "9/9 [==============================] - 40s 4s/step - loss: 0.6805 - accuracy: 0.7122 - val_loss: 0.6449 - val_accuracy: 0.7209\n",
      "Epoch 81/150\n",
      "9/9 [==============================] - 39s 4s/step - loss: 0.6656 - accuracy: 0.7115 - val_loss: 0.6751 - val_accuracy: 0.7087\n",
      "Epoch 82/150\n",
      "9/9 [==============================] - 39s 4s/step - loss: 0.6622 - accuracy: 0.7195 - val_loss: 0.6548 - val_accuracy: 0.7143\n",
      "Epoch 83/150\n",
      "9/9 [==============================] - 39s 4s/step - loss: 0.6852 - accuracy: 0.7080 - val_loss: 0.6397 - val_accuracy: 0.7366\n",
      "Epoch 84/150\n",
      "9/9 [==============================] - 39s 4s/step - loss: 0.6913 - accuracy: 0.7045 - val_loss: 0.6637 - val_accuracy: 0.7118\n",
      "Epoch 85/150\n",
      "9/9 [==============================] - 39s 4s/step - loss: 0.6611 - accuracy: 0.7247 - val_loss: 0.6465 - val_accuracy: 0.7240\n",
      "Epoch 86/150\n",
      "9/9 [==============================] - 40s 4s/step - loss: 0.6406 - accuracy: 0.7307 - val_loss: 0.6350 - val_accuracy: 0.7359\n",
      "Epoch 87/150\n",
      "9/9 [==============================] - 39s 4s/step - loss: 0.6502 - accuracy: 0.7220 - val_loss: 0.6599 - val_accuracy: 0.7265\n",
      "Epoch 88/150\n",
      "9/9 [==============================] - 39s 4s/step - loss: 0.6473 - accuracy: 0.7310 - val_loss: 0.6461 - val_accuracy: 0.7303\n",
      "Epoch 89/150\n",
      "9/9 [==============================] - 39s 4s/step - loss: 0.6475 - accuracy: 0.7220 - val_loss: 0.6411 - val_accuracy: 0.7334\n",
      "Epoch 90/150\n",
      "9/9 [==============================] - 39s 4s/step - loss: 0.6358 - accuracy: 0.7338 - val_loss: 0.6516 - val_accuracy: 0.7296\n",
      "Epoch 91/150\n",
      "9/9 [==============================] - 39s 4s/step - loss: 0.6458 - accuracy: 0.7331 - val_loss: 0.6447 - val_accuracy: 0.7240\n",
      "Epoch 92/150\n",
      "9/9 [==============================] - 39s 4s/step - loss: 0.6456 - accuracy: 0.7310 - val_loss: 0.6801 - val_accuracy: 0.6976\n",
      "Epoch 93/150\n",
      "9/9 [==============================] - 39s 4s/step - loss: 0.6383 - accuracy: 0.7293 - val_loss: 0.6277 - val_accuracy: 0.7373\n",
      "Epoch 94/150\n",
      "9/9 [==============================] - 39s 4s/step - loss: 0.6350 - accuracy: 0.7436 - val_loss: 0.6407 - val_accuracy: 0.7324\n",
      "Epoch 95/150\n",
      "9/9 [==============================] - 39s 4s/step - loss: 0.6148 - accuracy: 0.7429 - val_loss: 0.6092 - val_accuracy: 0.7488\n",
      "Epoch 96/150\n",
      "9/9 [==============================] - 39s 4s/step - loss: 0.6210 - accuracy: 0.7376 - val_loss: 0.6225 - val_accuracy: 0.7495\n",
      "Epoch 97/150\n",
      "9/9 [==============================] - 39s 4s/step - loss: 0.6192 - accuracy: 0.7408 - val_loss: 0.5966 - val_accuracy: 0.7516\n",
      "Epoch 98/150\n",
      "9/9 [==============================] - 39s 4s/step - loss: 0.6414 - accuracy: 0.7369 - val_loss: 0.6269 - val_accuracy: 0.7369\n",
      "Epoch 99/150\n",
      "9/9 [==============================] - 39s 4s/step - loss: 0.6101 - accuracy: 0.7530 - val_loss: 0.5937 - val_accuracy: 0.7537\n",
      "Epoch 100/150\n",
      "9/9 [==============================] - 39s 4s/step - loss: 0.6027 - accuracy: 0.7425 - val_loss: 0.5911 - val_accuracy: 0.7624\n",
      "Epoch 101/150\n",
      "9/9 [==============================] - 39s 4s/step - loss: 0.5904 - accuracy: 0.7592 - val_loss: 0.6044 - val_accuracy: 0.7505\n",
      "Epoch 102/150\n",
      "9/9 [==============================] - 39s 4s/step - loss: 0.6001 - accuracy: 0.7537 - val_loss: 0.5795 - val_accuracy: 0.7613\n",
      "Epoch 103/150\n",
      "9/9 [==============================] - 40s 4s/step - loss: 0.5979 - accuracy: 0.7474 - val_loss: 0.5993 - val_accuracy: 0.7516\n",
      "Epoch 104/150\n",
      "9/9 [==============================] - 39s 4s/step - loss: 0.6010 - accuracy: 0.7491 - val_loss: 0.6050 - val_accuracy: 0.7415\n",
      "Epoch 105/150\n",
      "9/9 [==============================] - 40s 4s/step - loss: 0.5865 - accuracy: 0.7641 - val_loss: 0.5725 - val_accuracy: 0.7693\n",
      "Epoch 106/150\n",
      "9/9 [==============================] - 39s 4s/step - loss: 0.6184 - accuracy: 0.7401 - val_loss: 0.6997 - val_accuracy: 0.6937\n",
      "Epoch 107/150\n",
      "9/9 [==============================] - 39s 4s/step - loss: 0.6267 - accuracy: 0.7338 - val_loss: 0.5836 - val_accuracy: 0.7648\n",
      "Epoch 108/150\n",
      "9/9 [==============================] - 39s 4s/step - loss: 0.6054 - accuracy: 0.7425 - val_loss: 0.6163 - val_accuracy: 0.7401\n",
      "Epoch 109/150\n",
      "9/9 [==============================] - 39s 4s/step - loss: 0.6594 - accuracy: 0.7188 - val_loss: 0.6537 - val_accuracy: 0.7251\n",
      "Epoch 110/150\n",
      "9/9 [==============================] - 39s 4s/step - loss: 0.6114 - accuracy: 0.7401 - val_loss: 0.6309 - val_accuracy: 0.7314\n",
      "Epoch 111/150\n",
      "9/9 [==============================] - 39s 4s/step - loss: 0.5993 - accuracy: 0.7523 - val_loss: 0.5804 - val_accuracy: 0.7648\n",
      "Epoch 112/150\n",
      "9/9 [==============================] - 39s 4s/step - loss: 0.5843 - accuracy: 0.7599 - val_loss: 0.5717 - val_accuracy: 0.7714\n",
      "Epoch 113/150\n",
      "9/9 [==============================] - 39s 4s/step - loss: 0.5895 - accuracy: 0.7592 - val_loss: 0.5995 - val_accuracy: 0.7533\n",
      "Epoch 114/150\n",
      "9/9 [==============================] - 39s 4s/step - loss: 0.5985 - accuracy: 0.7411 - val_loss: 0.5729 - val_accuracy: 0.7676\n",
      "Epoch 115/150\n",
      "9/9 [==============================] - 39s 4s/step - loss: 0.5858 - accuracy: 0.7662 - val_loss: 0.5683 - val_accuracy: 0.7679\n",
      "Epoch 116/150\n",
      "9/9 [==============================] - 39s 4s/step - loss: 0.5687 - accuracy: 0.7690 - val_loss: 0.5513 - val_accuracy: 0.7756\n",
      "Epoch 117/150\n"
     ]
    },
    {
     "name": "stdout",
     "output_type": "stream",
     "text": [
      "9/9 [==============================] - 39s 4s/step - loss: 0.5954 - accuracy: 0.7481 - val_loss: 0.5678 - val_accuracy: 0.7679\n",
      "Epoch 118/150\n",
      "9/9 [==============================] - 39s 4s/step - loss: 0.5821 - accuracy: 0.7627 - val_loss: 0.5550 - val_accuracy: 0.7763\n",
      "Epoch 119/150\n",
      "9/9 [==============================] - 39s 4s/step - loss: 0.6152 - accuracy: 0.7446 - val_loss: 0.6571 - val_accuracy: 0.7321\n",
      "Epoch 120/150\n",
      "9/9 [==============================] - 39s 4s/step - loss: 0.5925 - accuracy: 0.7523 - val_loss: 0.5545 - val_accuracy: 0.7631\n",
      "Epoch 121/150\n",
      "9/9 [==============================] - 39s 4s/step - loss: 0.5556 - accuracy: 0.7735 - val_loss: 0.5707 - val_accuracy: 0.7672\n",
      "Epoch 122/150\n",
      "9/9 [==============================] - 39s 4s/step - loss: 0.5474 - accuracy: 0.7683 - val_loss: 0.5419 - val_accuracy: 0.7847\n",
      "Epoch 123/150\n",
      "9/9 [==============================] - 39s 4s/step - loss: 0.5558 - accuracy: 0.7693 - val_loss: 0.5242 - val_accuracy: 0.7927\n",
      "Epoch 124/150\n",
      "9/9 [==============================] - 39s 4s/step - loss: 0.5444 - accuracy: 0.7686 - val_loss: 0.5600 - val_accuracy: 0.7686\n",
      "Epoch 125/150\n",
      "9/9 [==============================] - 39s 4s/step - loss: 0.5459 - accuracy: 0.7777 - val_loss: 0.5595 - val_accuracy: 0.7725\n",
      "Epoch 126/150\n",
      "9/9 [==============================] - 39s 4s/step - loss: 0.5723 - accuracy: 0.7568 - val_loss: 0.6904 - val_accuracy: 0.7209\n",
      "Epoch 127/150\n",
      "9/9 [==============================] - 39s 4s/step - loss: 0.6240 - accuracy: 0.7359 - val_loss: 0.5725 - val_accuracy: 0.7707\n",
      "Epoch 128/150\n",
      "9/9 [==============================] - 39s 4s/step - loss: 0.5920 - accuracy: 0.7530 - val_loss: 0.6126 - val_accuracy: 0.7226\n",
      "Epoch 129/150\n",
      "9/9 [==============================] - 39s 4s/step - loss: 0.5705 - accuracy: 0.7589 - val_loss: 0.5546 - val_accuracy: 0.7714\n",
      "Epoch 130/150\n",
      "9/9 [==============================] - 39s 4s/step - loss: 0.5530 - accuracy: 0.7739 - val_loss: 0.5472 - val_accuracy: 0.7777\n",
      "Epoch 131/150\n",
      "9/9 [==============================] - 39s 4s/step - loss: 0.5513 - accuracy: 0.7756 - val_loss: 0.5562 - val_accuracy: 0.7711\n",
      "Epoch 132/150\n",
      "9/9 [==============================] - 39s 4s/step - loss: 0.5229 - accuracy: 0.7899 - val_loss: 0.5288 - val_accuracy: 0.7889\n",
      "Epoch 133/150\n",
      "9/9 [==============================] - 39s 4s/step - loss: 0.5273 - accuracy: 0.7840 - val_loss: 0.5375 - val_accuracy: 0.7801\n",
      "Epoch 134/150\n",
      "9/9 [==============================] - 39s 4s/step - loss: 0.5307 - accuracy: 0.7892 - val_loss: 0.5663 - val_accuracy: 0.7714\n",
      "Epoch 135/150\n",
      "9/9 [==============================] - 39s 4s/step - loss: 0.5624 - accuracy: 0.7554 - val_loss: 0.5679 - val_accuracy: 0.7544\n",
      "Epoch 136/150\n",
      "9/9 [==============================] - 39s 4s/step - loss: 0.5487 - accuracy: 0.7760 - val_loss: 0.5182 - val_accuracy: 0.7937\n",
      "Epoch 137/150\n",
      "9/9 [==============================] - 39s 4s/step - loss: 0.5266 - accuracy: 0.7850 - val_loss: 0.5440 - val_accuracy: 0.7655\n",
      "Epoch 138/150\n",
      "9/9 [==============================] - 39s 4s/step - loss: 0.5357 - accuracy: 0.7794 - val_loss: 0.5108 - val_accuracy: 0.8000\n",
      "Epoch 139/150\n",
      "9/9 [==============================] - 39s 4s/step - loss: 0.5257 - accuracy: 0.7777 - val_loss: 0.5117 - val_accuracy: 0.7913\n",
      "Epoch 140/150\n",
      "9/9 [==============================] - 39s 4s/step - loss: 0.5287 - accuracy: 0.7868 - val_loss: 0.5203 - val_accuracy: 0.7843\n",
      "Epoch 141/150\n",
      "9/9 [==============================] - 39s 4s/step - loss: 0.5551 - accuracy: 0.7707 - val_loss: 0.5373 - val_accuracy: 0.7833\n",
      "Epoch 142/150\n",
      "9/9 [==============================] - 39s 4s/step - loss: 0.5745 - accuracy: 0.7624 - val_loss: 0.5819 - val_accuracy: 0.7693\n",
      "Epoch 143/150\n",
      "9/9 [==============================] - 39s 4s/step - loss: 0.5349 - accuracy: 0.7871 - val_loss: 0.5261 - val_accuracy: 0.7878\n",
      "Epoch 144/150\n",
      "9/9 [==============================] - 39s 4s/step - loss: 0.5374 - accuracy: 0.7794 - val_loss: 0.5976 - val_accuracy: 0.7547\n",
      "Epoch 145/150\n",
      "9/9 [==============================] - 39s 4s/step - loss: 0.5450 - accuracy: 0.7798 - val_loss: 0.5311 - val_accuracy: 0.7826\n",
      "Epoch 146/150\n",
      "9/9 [==============================] - 39s 4s/step - loss: 0.5231 - accuracy: 0.7833 - val_loss: 0.5096 - val_accuracy: 0.7927\n",
      "Epoch 147/150\n",
      "9/9 [==============================] - 39s 4s/step - loss: 0.5097 - accuracy: 0.7892 - val_loss: 0.5253 - val_accuracy: 0.7899\n",
      "Epoch 148/150\n",
      "9/9 [==============================] - 39s 4s/step - loss: 0.5355 - accuracy: 0.7784 - val_loss: 0.5111 - val_accuracy: 0.7906\n",
      "Epoch 149/150\n",
      "9/9 [==============================] - 39s 4s/step - loss: 0.5479 - accuracy: 0.7756 - val_loss: 0.5395 - val_accuracy: 0.7742\n",
      "Epoch 150/150\n",
      "9/9 [==============================] - 39s 4s/step - loss: 0.5416 - accuracy: 0.7777 - val_loss: 0.5531 - val_accuracy: 0.7756\n"
     ]
    },
    {
     "data": {
      "text/plain": [
       "<tensorflow.python.keras.callbacks.History at 0x7ff74c650350>"
      ]
     },
     "execution_count": 36,
     "metadata": {},
     "output_type": "execute_result"
    }
   ],
   "source": [
    "model.fit_generator(train_generator, validation_data=test_generator, epochs=150)"
   ]
  },
  {
   "cell_type": "code",
   "execution_count": 37,
   "metadata": {},
   "outputs": [],
   "source": [
    "import pandas as pd"
   ]
  },
  {
   "cell_type": "code",
   "execution_count": 38,
   "metadata": {},
   "outputs": [
    {
     "data": {
      "text/plain": [
       "<matplotlib.axes._subplots.AxesSubplot at 0x7ff74c35bad0>"
      ]
     },
     "execution_count": 38,
     "metadata": {},
     "output_type": "execute_result"
    },
    {
     "data": {
      "image/png": "[encoded data removed]",
      "text/plain": [
       "<Figure size 1152x432 with 1 Axes>"
      ]
     },
     "metadata": {
      "needs_background": "light"
     },
     "output_type": "display_data"
    }
   ],
   "source": [
    "pd.DataFrame(model.history.history)[[\"accuracy\", \"val_accuracy\"]].plot(figsize = (16,6), marker = \"o\")"
   ]
  },
  {
   "cell_type": "code",
   "execution_count": 39,
   "metadata": {},
   "outputs": [
    {
     "data": {
      "text/plain": [
       "<matplotlib.axes._subplots.AxesSubplot at 0x7ff74c2ff8d0>"
      ]
     },
     "execution_count": 39,
     "metadata": {},
     "output_type": "execute_result"
    },
    {
     "data": {
      "image/png": "[encoded data removed]",
      "text/plain": [
       "<Figure size 1152x432 with 1 Axes>"
      ]
     },
     "metadata": {
      "needs_background": "light"
     },
     "output_type": "display_data"
    }
   ],
   "source": [
    "pd.DataFrame(model.history.history)[[\"loss\", \"val_loss\"]].plot(figsize = (16,6), marker = \"o\")"
   ]
  },
  {
   "cell_type": "markdown",
   "metadata": {},
   "source": [
    "### Saving Model "
   ]
  },
  {
   "cell_type": "code",
   "execution_count": 56,
   "metadata": {},
   "outputs": [],
   "source": [
    "model.save(\"brainTumorv1_77+.h5\")"
   ]
  },
  {
   "cell_type": "code",
   "execution_count": 57,
   "metadata": {},
   "outputs": [],
   "source": [
    "pd.DataFrame(model.history.history).to_csv(\"model_history77.csv\")"
   ]
  },
  {
   "cell_type": "markdown",
   "metadata": {},
   "source": [
    "### Model Training\n",
    "- Model reached a val accuracy of 67%, this is not too bab considering we only ran 60 epochs"
   ]
  },
  {
   "cell_type": "markdown",
   "metadata": {},
   "source": [
    "### Making Predicitons"
   ]
  },
  {
   "cell_type": "code",
   "execution_count": 42,
   "metadata": {},
   "outputs": [],
   "source": [
    "predictions = model.predict_generator(test_generator)"
   ]
  },
  {
   "cell_type": "code",
   "execution_count": 43,
   "metadata": {},
   "outputs": [
    {
     "data": {
      "text/plain": [
       "array([[5.36505938e-01, 1.58617541e-01, 1.05624475e-01, 1.99252099e-01],\n",
       "       [2.48044878e-01, 6.68743968e-01, 5.64473099e-04, 8.26466680e-02],\n",
       "       [4.87303823e-01, 4.76921499e-01, 3.59672541e-03, 3.21779437e-02],\n",
       "       ...,\n",
       "       [5.47813834e-04, 1.82533264e-02, 7.57721835e-04, 9.80441093e-01],\n",
       "       [7.36857345e-03, 7.39241466e-02, 2.13900945e-04, 9.18493330e-01],\n",
       "       [1.45932600e-01, 2.06726223e-01, 4.68644733e-03, 6.42654717e-01]],\n",
       "      dtype=float32)"
      ]
     },
     "execution_count": 43,
     "metadata": {},
     "output_type": "execute_result"
    }
   ],
   "source": [
    "predictions"
   ]
  },
  {
   "cell_type": "code",
   "execution_count": 47,
   "metadata": {},
   "outputs": [],
   "source": [
    "pd.DataFrame(predictions).to_csv(\"predicitons_v1.csv\")"
   ]
  },
  {
   "cell_type": "code",
   "execution_count": 48,
   "metadata": {},
   "outputs": [],
   "source": [
    "pred = np.argmax(predictions, axis=1)"
   ]
  },
  {
   "cell_type": "code",
   "execution_count": 49,
   "metadata": {},
   "outputs": [
    {
     "data": {
      "text/plain": [
       "array([0, 1, 0, ..., 3, 3, 3])"
      ]
     },
     "execution_count": 49,
     "metadata": {},
     "output_type": "execute_result"
    }
   ],
   "source": [
    "pred"
   ]
  },
  {
   "cell_type": "code",
   "execution_count": 51,
   "metadata": {},
   "outputs": [],
   "source": [
    "pd.DataFrame(pred).to_csv(\"prediction_classes.csv\")"
   ]
  },
  {
   "cell_type": "markdown",
   "metadata": {},
   "source": [
    "### Predictions vs Training classes"
   ]
  },
  {
   "cell_type": "code",
   "execution_count": 52,
   "metadata": {},
   "outputs": [],
   "source": [
    "from sklearn.metrics import classification_report, confusion_matrix, explained_variance_score"
   ]
  },
  {
   "cell_type": "code",
   "execution_count": 53,
   "metadata": {},
   "outputs": [
    {
     "name": "stdout",
     "output_type": "stream",
     "text": [
      "              precision    recall  f1-score   support\n",
      "\n",
      "           0       0.58      0.94      0.72       511\n",
      "           1       0.78      0.63      0.70      1026\n",
      "           2       0.82      0.80      0.81       405\n",
      "           3       0.91      0.81      0.86       928\n",
      "\n",
      "    accuracy                           0.77      2870\n",
      "   macro avg       0.78      0.80      0.77      2870\n",
      "weighted avg       0.80      0.77      0.77      2870\n",
      "\n"
     ]
    }
   ],
   "source": [
    "print(classification_report(pred, test_generator.classes))"
   ]
  },
  {
   "cell_type": "code",
   "execution_count": 54,
   "metadata": {},
   "outputs": [
    {
     "name": "stdout",
     "output_type": "stream",
     "text": [
      "[[481  16   6   8]\n",
      " [283 645  47  51]\n",
      " [  5  62 325  13]\n",
      " [ 57  99  17 755]]\n"
     ]
    }
   ],
   "source": [
    "print(confusion_matrix(pred, test_generator.classes))"
   ]
  },
  {
   "cell_type": "code",
   "execution_count": 55,
   "metadata": {},
   "outputs": [
    {
     "name": "stdout",
     "output_type": "stream",
     "text": [
      "0.5590388713739718\n"
     ]
    }
   ],
   "source": [
    "print(explained_variance_score(pred, test_generator.classes))"
   ]
  },
  {
   "cell_type": "code",
   "execution_count": null,
   "metadata": {},
   "outputs": [],
   "source": []
  }
 ],
 "metadata": {
  "kernelspec": {
   "display_name": "Python 3",
   "language": "python",
   "name": "python3"
  },
  "language_info": {
   "codemirror_mode": {
    "name": "ipython",
    "version": 3
   },
   "file_extension": ".py",
   "mimetype": "text/x-python",
   "name": "python",
   "nbconvert_exporter": "python",
   "pygments_lexer": "ipython3",
   "version": "3.8.3"
  }
 },
 "nbformat": 4,
 "nbformat_minor": 4
}
