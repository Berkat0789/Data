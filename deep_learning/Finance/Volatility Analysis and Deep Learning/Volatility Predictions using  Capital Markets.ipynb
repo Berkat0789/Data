{
 "cells": [
  {
   "cell_type": "markdown",
   "metadata": {},
   "source": [
    "### Project Overview\n",
    "- You are assigned to retrieve 5 years of data on secirities belinging to the S&P500, Nasdaq, and Russell\n",
    "- You will Use the ADJ Close and Volume(daily change)  of these companie to try to predict the value of the UVXY \n",
    "- Use feature engineering to  try to generate more features for the data set, how do these features coorelate to UVXY\n",
    "- Does these valuse have any predictive abilities on UVXY?\n",
    "- Keep in mind you will be working with alot of companies and features so consider a method to reduce these features, may be attempt a PCA and see how the results will pan out"
   ]
  },
  {
   "cell_type": "markdown",
   "metadata": {},
   "source": [
    "## Importing Libraries"
   ]
  },
  {
   "cell_type": "code",
   "execution_count": 1,
   "metadata": {},
   "outputs": [],
   "source": [
    "import pandas as pd\n",
    "import numpy as np \n",
    "import matplotlib.pyplot as plt\n",
    "import seaborn as sns\n",
    "from pandas_datareader import data as web"
   ]
  },
  {
   "cell_type": "markdown",
   "metadata": {},
   "source": [
    "## importing Tickers \n",
    "- WE will import all tickers from Nasdaq, S&P, and Russell as of 2020"
   ]
  },
  {
   "cell_type": "code",
   "execution_count": 2,
   "metadata": {},
   "outputs": [],
   "source": [
    "sandp = pd.read_csv(\"resources/companies.csv\")"
   ]
  },
  {
   "cell_type": "code",
   "execution_count": 3,
   "metadata": {},
   "outputs": [
    {
     "data": {
      "text/plain": [
       "505"
      ]
     },
     "execution_count": 3,
     "metadata": {},
     "output_type": "execute_result"
    }
   ],
   "source": [
    "len(sandp[\"Symbol\"])"
   ]
  },
  {
   "cell_type": "code",
   "execution_count": 4,
   "metadata": {},
   "outputs": [],
   "source": [
    "russell = pd.read_excel(\"resources/Russle_2000_2020.xlsx\")"
   ]
  },
  {
   "cell_type": "code",
   "execution_count": 5,
   "metadata": {},
   "outputs": [],
   "source": [
    "russell_tickers = list(russell[\"Ticker\"])"
   ]
  },
  {
   "cell_type": "code",
   "execution_count": 6,
   "metadata": {},
   "outputs": [
    {
     "data": {
      "text/plain": [
       "1999"
      ]
     },
     "execution_count": 6,
     "metadata": {},
     "output_type": "execute_result"
    }
   ],
   "source": [
    "len(russell_tickers)"
   ]
  },
  {
   "cell_type": "code",
   "execution_count": 7,
   "metadata": {},
   "outputs": [],
   "source": [
    "russell_zip = dict(zip(russell[\"Ticker\"], russell[\"Name\"]))"
   ]
  },
  {
   "cell_type": "code",
   "execution_count": 8,
   "metadata": {},
   "outputs": [],
   "source": [
    "nasdaq = pd.read_excel(\"resources/nasdaq_100_stocks.xlsx\")"
   ]
  },
  {
   "cell_type": "code",
   "execution_count": 9,
   "metadata": {},
   "outputs": [],
   "source": [
    "nasdaq_tickers = nasdaq[\"Ticker\"]"
   ]
  },
  {
   "cell_type": "code",
   "execution_count": 10,
   "metadata": {},
   "outputs": [
    {
     "data": {
      "text/plain": [
       "103"
      ]
     },
     "execution_count": 10,
     "metadata": {},
     "output_type": "execute_result"
    }
   ],
   "source": [
    "len(nasdaq_tickers)"
   ]
  },
  {
   "cell_type": "code",
   "execution_count": 11,
   "metadata": {},
   "outputs": [],
   "source": [
    "nasdaq_zipp = dict(zip(nasdaq[\"Ticker\"], nasdaq[\"Name\"]))"
   ]
  },
  {
   "cell_type": "code",
   "execution_count": null,
   "metadata": {},
   "outputs": [],
   "source": []
  },
  {
   "cell_type": "markdown",
   "metadata": {},
   "source": [
    "## Zipping\n",
    "- We will zip the ticker and the company's name together if we need to query the company's name at some point"
   ]
  },
  {
   "cell_type": "code",
   "execution_count": 12,
   "metadata": {},
   "outputs": [],
   "source": [
    "sandpZip = dict(zip(sandp[\"Symbol\"], sandp[\"Name\"]))"
   ]
  },
  {
   "cell_type": "markdown",
   "metadata": {},
   "source": [
    "## Getting Stock Data for Each ticker \n",
    "- We will begin with the adj Close"
   ]
  },
  {
   "cell_type": "markdown",
   "metadata": {},
   "source": [
    "### Saving\n",
    "- because this is a taxing task to gather a little over 4000 companies Adj Close over a 5 year period \n",
    "- once we have done it we will save the data frame to a csv file for future reference\n",
    "- WE do not want to have to fetchingthe data every time\n",
    "- We will then import the data below"
   ]
  },
  {
   "cell_type": "code",
   "execution_count": 54,
   "metadata": {},
   "outputs": [],
   "source": [
    "##failed = []\n",
    "##passed= []\n",
    "##for x in tickers:\n",
    "   ## try:\n",
    "       ## df[x] = web.DataReader(name=x, data_source=\"yahoo\", start = \"2016-1-1\")[\"Adj Close\"]\n",
    "       ## passed.append(x)\n",
    "    ##except(IOError, KeyError):\n",
    "        ##failed.append(x)"
   ]
  },
  {
   "cell_type": "code",
   "execution_count": 14,
   "metadata": {},
   "outputs": [],
   "source": [
    "##df.to_csv(\"resources/securityData.csv\")"
   ]
  },
  {
   "cell_type": "markdown",
   "metadata": {},
   "source": [
    "### Evaluating the DF"
   ]
  },
  {
   "cell_type": "code",
   "execution_count": 129,
   "metadata": {},
   "outputs": [],
   "source": [
    "##failed = []\n",
    "##passed= []\n",
    "##for x in df.columns:\n",
    "   ## try:\n",
    "      #  data[x] = web.DataReader(name=x, data_source=\"yahoo\", start = \"2019-1-1\")[\"Adj Close\"]\n",
    "      #  passed.append(x)\n",
    "   # except(IOError, KeyError):\n",
    "       # failed.append(x)"
   ]
  },
  {
   "cell_type": "code",
   "execution_count": 16,
   "metadata": {},
   "outputs": [],
   "source": [
    "data = pd.read_csv(\"resources/2019_currentData.csv\", index_col=\"Date\")"
   ]
  },
  {
   "cell_type": "code",
   "execution_count": 131,
   "metadata": {},
   "outputs": [],
   "source": [
    "##data.to_csv(\"resources/2019_currentData.csv\")"
   ]
  },
  {
   "cell_type": "code",
   "execution_count": 30,
   "metadata": {},
   "outputs": [
    {
     "data": {
      "text/plain": [
       "XOG     517\n",
       "NFX     504\n",
       "AVDR    503\n",
       "PX      497\n",
       "AI      489\n",
       "AAN     480\n",
       "CRC     460\n",
       "NWE     318\n",
       "ARNC    314\n",
       "PRMW    294\n",
       "PNTG    188\n",
       "XL      168\n",
       "CFB     156\n",
       "KRUS    146\n",
       "NOVA    141\n",
       "CSTL    141\n",
       "PROS    141\n",
       "HCAT    141\n",
       "PHR     136\n",
       "FULC    136\n",
       "PBFS    136\n",
       "AMK     136\n",
       "MIRM    136\n",
       "PRVL    131\n",
       "RMBI    125\n",
       "KRTX    123\n",
       "REAL    123\n",
       "BBIO    122\n",
       "MORF    122\n",
       "CMBM    121\n",
       "PSNL    117\n",
       "AKRO    117\n",
       "BCEL    117\n",
       "STOK    116\n",
       "KTB     100\n",
       "SONM     89\n",
       "MEC      88\n",
       "CRTX     88\n",
       "AXLA     88\n",
       "NXTC     88\n",
       "SPFI     88\n",
       "PSN      87\n",
       "RRBI     84\n",
       "TMDX     83\n",
       "MNRL     74\n",
       "GNLN     74\n",
       "HOOK     74\n",
       "TPTX     73\n",
       "PLMR     73\n",
       "NGM      64\n",
       "SILK     64\n",
       "DSSI     59\n",
       "WTRE     59\n",
       "DTIL     59\n",
       "CYCN     51\n",
       "MOBL     49\n",
       "FOX      48\n",
       "FOXA     47\n",
       "SWAV     44\n",
       "KLDO     39\n",
       "dtype: int64"
      ]
     },
     "execution_count": 30,
     "metadata": {},
     "output_type": "execute_result"
    }
   ],
   "source": [
    "data.isnull().sum().sort_values(ascending = False).head(60)"
   ]
  },
  {
   "cell_type": "markdown",
   "metadata": {},
   "source": [
    "## WE are working with over 2000 companies\n",
    "- WE will drop the companies that ave missing data in the data set\n",
    "- These could be newly listed companis or delisted companies\n",
    "- Lets check the last day of our data set"
   ]
  },
  {
   "cell_type": "code",
   "execution_count": 35,
   "metadata": {},
   "outputs": [],
   "source": [
    "recent_date = data.index.max()"
   ]
  },
  {
   "cell_type": "code",
   "execution_count": 44,
   "metadata": {},
   "outputs": [
    {
     "data": {
      "text/plain": [
       "NFX     1\n",
       "BMCH    1\n",
       "EIDX    1\n",
       "TIF     1\n",
       "ARA     1\n",
       "PX      1\n",
       "FBM     1\n",
       "MOBL    1\n",
       "RESI    1\n",
       "NGHC    1\n",
       "PDLI    1\n",
       "BDGE    1\n",
       "PRVL    1\n",
       "CAR     0\n",
       "CASI    0\n",
       "CARA    0\n",
       "CARE    0\n",
       "CAMP    0\n",
       "CARG    0\n",
       "CALX    0\n",
       "dtype: int64"
      ]
     },
     "execution_count": 44,
     "metadata": {},
     "output_type": "execute_result"
    }
   ],
   "source": [
    "pd.DataFrame(data.loc[recent_date]).transpose().isnull().sum().sort_values(ascending = False).head(20)"
   ]
  },
  {
   "cell_type": "markdown",
   "metadata": {},
   "source": [
    "## Missing values \n",
    "- ok so we have the companies that are missing alot of values for  the beginning of the period \n",
    "- We will drop the securities that are missing values \n",
    "- The models we will not recoginze n/a values \n",
    "- We should not average stock data because these values are so unpredictable "
   ]
  },
  {
   "cell_type": "code",
   "execution_count": 126,
   "metadata": {},
   "outputs": [],
   "source": [
    "data = pd.DataFrame()"
   ]
  },
  {
   "cell_type": "code",
   "execution_count": null,
   "metadata": {},
   "outputs": [],
   "source": []
  },
  {
   "cell_type": "markdown",
   "metadata": {},
   "source": [
    "### Getting Penny Stocks\n",
    "- We will look at 200 stocks \n",
    "- WE are looking for stocks that are under 10 dollars\n",
    "- What we will do is later optimize a portfolio that will consist of the top 10 companies \n",
    "- Using this idea we will make a portfolio that will consist of just these 10 companies weighed, with optimized weights for a max return"
   ]
  },
  {
   "cell_type": "code",
   "execution_count": 76,
   "metadata": {},
   "outputs": [],
   "source": [
    "penny_frame = pd.DataFrame(data.loc[recent_date].sort_values().head(200)).transpose()"
   ]
  },
  {
   "cell_type": "code",
   "execution_count": 78,
   "metadata": {},
   "outputs": [],
   "source": [
    "##penny_frame.to_csv(\"resources/1_15_2021_pennyDf_200companies.csv\")"
   ]
  },
  {
   "cell_type": "code",
   "execution_count": null,
   "metadata": {},
   "outputs": [],
   "source": []
  },
  {
   "cell_type": "code",
   "execution_count": null,
   "metadata": {},
   "outputs": [],
   "source": []
  },
  {
   "cell_type": "code",
   "execution_count": 32,
   "metadata": {},
   "outputs": [
    {
     "data": {
      "text/plain": [
       "2314"
      ]
     },
     "execution_count": 32,
     "metadata": {},
     "output_type": "execute_result"
    }
   ],
   "source": [
    "len(data.columns)"
   ]
  },
  {
   "cell_type": "markdown",
   "metadata": {},
   "source": [
    "## Dropping Columns\n",
    "- We will remove columns that have missing data"
   ]
  },
  {
   "cell_type": "code",
   "execution_count": null,
   "metadata": {},
   "outputs": [],
   "source": []
  },
  {
   "cell_type": "code",
   "execution_count": 89,
   "metadata": {},
   "outputs": [],
   "source": [
    "data.drop(data.isnull().sum().sort_values(ascending = False).head(70).index, axis=1, inplace=True)"
   ]
  },
  {
   "cell_type": "markdown",
   "metadata": {},
   "source": [
    "## There are a few more items \n",
    "- Seems that these are not missing too many values\n",
    "- Unfortunately if we are to drop the na values we will lose the mose recent data\n",
    "- Since we have alot of stocks to work with lets just get rid of these"
   ]
  },
  {
   "cell_type": "code",
   "execution_count": 102,
   "metadata": {},
   "outputs": [],
   "source": [
    "data.drop(data.isnull().sum().sort_values(ascending = False).head(10).index, axis=1, inplace=True)"
   ]
  },
  {
   "cell_type": "code",
   "execution_count": 107,
   "metadata": {},
   "outputs": [
    {
     "data": {
      "text/plain": [
       "2234"
      ]
     },
     "execution_count": 107,
     "metadata": {},
     "output_type": "execute_result"
    }
   ],
   "source": [
    "len(data.columns)"
   ]
  },
  {
   "cell_type": "markdown",
   "metadata": {},
   "source": [
    "## Checking coorelation to UVXY"
   ]
  },
  {
   "cell_type": "code",
   "execution_count": 108,
   "metadata": {},
   "outputs": [
    {
     "data": {
      "text/plain": [
       "UVXY    1.000000\n",
       "LQDA    0.602154\n",
       "ATNI    0.539364\n",
       "CTMX    0.515501\n",
       "ACOR    0.512119\n",
       "PTE     0.506559\n",
       "TRXC    0.494054\n",
       "KZR     0.490322\n",
       "INGN    0.474015\n",
       "TUSK    0.468482\n",
       "dtype: float64"
      ]
     },
     "execution_count": 108,
     "metadata": {},
     "output_type": "execute_result"
    }
   ],
   "source": [
    "data.corrwith(data[\"UVXY\"]).sort_values(ascending = False).head(10)"
   ]
  },
  {
   "cell_type": "code",
   "execution_count": 109,
   "metadata": {},
   "outputs": [
    {
     "data": {
      "text/plain": [
       "ZBH    -0.914188\n",
       "DOV    -0.903480\n",
       "EGP    -0.900747\n",
       "FR     -0.899048\n",
       "SWK    -0.887789\n",
       "MHO    -0.885906\n",
       "TDG    -0.882084\n",
       "STAG   -0.877921\n",
       "KBR    -0.874970\n",
       "KBH    -0.869689\n",
       "dtype: float64"
      ]
     },
     "execution_count": 109,
     "metadata": {},
     "output_type": "execute_result"
    }
   ],
   "source": [
    "data.corrwith(data[\"UVXY\"]).sort_values(ascending = True).head(10)"
   ]
  },
  {
   "cell_type": "code",
   "execution_count": 126,
   "metadata": {},
   "outputs": [
    {
     "data": {
      "text/plain": [
       "<matplotlib.axes._subplots.AxesSubplot at 0x1835a1e90>"
      ]
     },
     "execution_count": 126,
     "metadata": {},
     "output_type": "execute_result"
    },
    {
     "data": {
      "image/png": "[encoded data removed]",
      "text/plain": [
       "<Figure size 1152x432 with 1 Axes>"
      ]
     },
     "metadata": {
      "needs_background": "light"
     },
     "output_type": "display_data"
    }
   ],
   "source": [
    "plt.figure(figsize=(16,6))\n",
    "sns.scatterplot(data[\"ZBH\"], data[\"UVXY\"])"
   ]
  },
  {
   "cell_type": "markdown",
   "metadata": {},
   "source": [
    "## Now that we have the data cleaned\n",
    "- Lets see if the prices of 2000 stocks can predict the value of UVXY \n",
    "- We will use a Linear regression model first and will build a Deep learning model there after "
   ]
  },
  {
   "cell_type": "code",
   "execution_count": 130,
   "metadata": {},
   "outputs": [],
   "source": [
    "from sklearn.linear_model import LinearRegression\n",
    "from sklearn.model_selection import train_test_split\n",
    "from sklearn.preprocessing import MinMaxScaler"
   ]
  },
  {
   "cell_type": "code",
   "execution_count": 131,
   "metadata": {},
   "outputs": [],
   "source": [
    "X = data.drop(\"UVXY\", axis=1)\n",
    "y = data[\"UVXY\"]"
   ]
  },
  {
   "cell_type": "code",
   "execution_count": 133,
   "metadata": {},
   "outputs": [],
   "source": [
    "X_train, X_test, y_train, y_test = train_test_split(X, y, test_size=0.20, random_state=42)"
   ]
  },
  {
   "cell_type": "code",
   "execution_count": 134,
   "metadata": {},
   "outputs": [
    {
     "data": {
      "text/plain": [
       "(427, 2233)"
      ]
     },
     "execution_count": 134,
     "metadata": {},
     "output_type": "execute_result"
    }
   ],
   "source": [
    "X_train.shape"
   ]
  },
  {
   "cell_type": "code",
   "execution_count": 135,
   "metadata": {},
   "outputs": [
    {
     "data": {
      "text/plain": [
       "(107, 2233)"
      ]
     },
     "execution_count": 135,
     "metadata": {},
     "output_type": "execute_result"
    }
   ],
   "source": [
    "X_test.shape"
   ]
  },
  {
   "cell_type": "markdown",
   "metadata": {},
   "source": [
    "## Scaling the data "
   ]
  },
  {
   "cell_type": "code",
   "execution_count": 136,
   "metadata": {},
   "outputs": [],
   "source": [
    "scalar = MinMaxScaler()"
   ]
  },
  {
   "cell_type": "code",
   "execution_count": 137,
   "metadata": {},
   "outputs": [],
   "source": [
    "X_train = scalar.fit_transform(X_train)"
   ]
  },
  {
   "cell_type": "code",
   "execution_count": 138,
   "metadata": {},
   "outputs": [],
   "source": [
    "X_test = scalar.transform(X_test)"
   ]
  },
  {
   "cell_type": "markdown",
   "metadata": {},
   "source": [
    "## Creating Model"
   ]
  },
  {
   "cell_type": "code",
   "execution_count": 140,
   "metadata": {},
   "outputs": [],
   "source": [
    "model = LinearRegression()"
   ]
  },
  {
   "cell_type": "code",
   "execution_count": 141,
   "metadata": {},
   "outputs": [
    {
     "data": {
      "text/plain": [
       "LinearRegression(copy_X=True, fit_intercept=True, n_jobs=None, normalize=False)"
      ]
     },
     "execution_count": 141,
     "metadata": {},
     "output_type": "execute_result"
    }
   ],
   "source": [
    "model.fit(X_train,y_train)"
   ]
  },
  {
   "cell_type": "code",
   "execution_count": 142,
   "metadata": {},
   "outputs": [
    {
     "data": {
      "text/plain": [
       "87.4229692158056"
      ]
     },
     "execution_count": 142,
     "metadata": {},
     "output_type": "execute_result"
    }
   ],
   "source": [
    "model.intercept_"
   ]
  },
  {
   "cell_type": "code",
   "execution_count": 149,
   "metadata": {},
   "outputs": [
    {
     "data": {
      "text/html": [
       "<div>\n",
       "<style scoped>\n",
       "    .dataframe tbody tr th:only-of-type {\n",
       "        vertical-align: middle;\n",
       "    }\n",
       "\n",
       "    .dataframe tbody tr th {\n",
       "        vertical-align: top;\n",
       "    }\n",
       "\n",
       "    .dataframe thead th {\n",
       "        text-align: right;\n",
       "    }\n",
       "</style>\n",
       "<table border=\"1\" class=\"dataframe\">\n",
       "  <thead>\n",
       "    <tr style=\"text-align: right;\">\n",
       "      <th></th>\n",
       "      <th>coeff</th>\n",
       "    </tr>\n",
       "  </thead>\n",
       "  <tbody>\n",
       "    <tr>\n",
       "      <td>FFG</td>\n",
       "      <td>-3.088609</td>\n",
       "    </tr>\n",
       "    <tr>\n",
       "      <td>ALBO</td>\n",
       "      <td>-2.447757</td>\n",
       "    </tr>\n",
       "    <tr>\n",
       "      <td>IRMD</td>\n",
       "      <td>-2.335016</td>\n",
       "    </tr>\n",
       "    <tr>\n",
       "      <td>NAV</td>\n",
       "      <td>-2.169914</td>\n",
       "    </tr>\n",
       "    <tr>\n",
       "      <td>HLI</td>\n",
       "      <td>-2.086882</td>\n",
       "    </tr>\n",
       "    <tr>\n",
       "      <td>...</td>\n",
       "      <td>...</td>\n",
       "    </tr>\n",
       "    <tr>\n",
       "      <td>LJPC</td>\n",
       "      <td>1.845504</td>\n",
       "    </tr>\n",
       "    <tr>\n",
       "      <td>GCBC</td>\n",
       "      <td>1.926174</td>\n",
       "    </tr>\n",
       "    <tr>\n",
       "      <td>WNEB</td>\n",
       "      <td>2.334294</td>\n",
       "    </tr>\n",
       "    <tr>\n",
       "      <td>EVFM</td>\n",
       "      <td>2.478855</td>\n",
       "    </tr>\n",
       "    <tr>\n",
       "      <td>AVCO</td>\n",
       "      <td>2.559181</td>\n",
       "    </tr>\n",
       "  </tbody>\n",
       "</table>\n",
       "<p>2233 rows × 1 columns</p>\n",
       "</div>"
      ],
      "text/plain": [
       "         coeff\n",
       "FFG  -3.088609\n",
       "ALBO -2.447757\n",
       "IRMD -2.335016\n",
       "NAV  -2.169914\n",
       "HLI  -2.086882\n",
       "...        ...\n",
       "LJPC  1.845504\n",
       "GCBC  1.926174\n",
       "WNEB  2.334294\n",
       "EVFM  2.478855\n",
       "AVCO  2.559181\n",
       "\n",
       "[2233 rows x 1 columns]"
      ]
     },
     "execution_count": 149,
     "metadata": {},
     "output_type": "execute_result"
    }
   ],
   "source": [
    "pd.DataFrame(model.coef_, columns=[\"coeff\"], index= X.columns).sort_values(\"coeff\")"
   ]
  },
  {
   "cell_type": "code",
   "execution_count": 150,
   "metadata": {},
   "outputs": [],
   "source": [
    "predictions = model.predict(X_test)"
   ]
  },
  {
   "cell_type": "markdown",
   "metadata": {},
   "source": [
    "## Putting predictions against true values"
   ]
  },
  {
   "cell_type": "code",
   "execution_count": 151,
   "metadata": {},
   "outputs": [
    {
     "data": {
      "text/plain": [
       "<matplotlib.collections.PathCollection at 0x1844e2f10>"
      ]
     },
     "execution_count": 151,
     "metadata": {},
     "output_type": "execute_result"
    },
    {
     "data": {
      "image/png": "[encoded data removed]",
      "text/plain": [
       "<Figure size 432x288 with 1 Axes>"
      ]
     },
     "metadata": {
      "needs_background": "light"
     },
     "output_type": "display_data"
    }
   ],
   "source": [
    "plt.scatter(y_test, predictions)"
   ]
  },
  {
   "cell_type": "markdown",
   "metadata": {},
   "source": [
    "### Cecking random predicitons\n",
    "- will use the model to try to predict the price of  UVXY "
   ]
  },
  {
   "cell_type": "code",
   "execution_count": 234,
   "metadata": {},
   "outputs": [],
   "source": [
    "from random import randint\n",
    "random_index = randint(0 , len(data))\n",
    "random_day = data.drop(\"UVXY\", axis=1).iloc[random_index]"
   ]
  },
  {
   "cell_type": "code",
   "execution_count": 235,
   "metadata": {},
   "outputs": [
    {
     "data": {
      "text/plain": [
       "(427, 2233)"
      ]
     },
     "execution_count": 235,
     "metadata": {},
     "output_type": "execute_result"
    }
   ],
   "source": [
    "X_train.shape"
   ]
  },
  {
   "cell_type": "code",
   "execution_count": 236,
   "metadata": {},
   "outputs": [],
   "source": [
    "random_day = scalar.transform(random_day.values.reshape(1,2233))"
   ]
  },
  {
   "cell_type": "code",
   "execution_count": 237,
   "metadata": {},
   "outputs": [
    {
     "data": {
      "text/plain": [
       "array([37.72000122])"
      ]
     },
     "execution_count": 237,
     "metadata": {},
     "output_type": "execute_result"
    }
   ],
   "source": [
    "model.predict(random_day)"
   ]
  },
  {
   "cell_type": "markdown",
   "metadata": {},
   "source": [
    "## Lets check the true Value \n",
    "- We will check the true value in the data"
   ]
  },
  {
   "cell_type": "code",
   "execution_count": 238,
   "metadata": {},
   "outputs": [
    {
     "data": {
      "text/plain": [
       "37.72000122070313"
      ]
     },
     "execution_count": 238,
     "metadata": {},
     "output_type": "execute_result"
    }
   ],
   "source": [
    "data.iloc[random_index][\"UVXY\"]"
   ]
  },
  {
   "cell_type": "code",
   "execution_count": 239,
   "metadata": {},
   "outputs": [],
   "source": [
    "import joblib"
   ]
  },
  {
   "cell_type": "markdown",
   "metadata": {},
   "source": [
    "### Saving model"
   ]
  },
  {
   "cell_type": "code",
   "execution_count": 240,
   "metadata": {},
   "outputs": [],
   "source": [
    "#joblib.dump(model, \"uvxy_predictor.pk1\", compress=9)"
   ]
  },
  {
   "cell_type": "code",
   "execution_count": 241,
   "metadata": {},
   "outputs": [],
   "source": [
    "uv_model = joblib.load(\"uvxy_predictor.pk1\")"
   ]
  },
  {
   "cell_type": "code",
   "execution_count": 242,
   "metadata": {},
   "outputs": [
    {
     "data": {
      "text/plain": [
       "array([37.72000122])"
      ]
     },
     "execution_count": 242,
     "metadata": {},
     "output_type": "execute_result"
    }
   ],
   "source": [
    "uv_model.predict(random_day)"
   ]
  },
  {
   "cell_type": "markdown",
   "metadata": {},
   "source": [
    "## Daily Returns\n",
    "- Lets get the daily returns for the data "
   ]
  },
  {
   "cell_type": "code",
   "execution_count": 244,
   "metadata": {},
   "outputs": [],
   "source": [
    "daily_returns = data.pct_change().dropna()"
   ]
  },
  {
   "cell_type": "code",
   "execution_count": 247,
   "metadata": {},
   "outputs": [
    {
     "data": {
      "text/html": [
       "<div>\n",
       "<style scoped>\n",
       "    .dataframe tbody tr th:only-of-type {\n",
       "        vertical-align: middle;\n",
       "    }\n",
       "\n",
       "    .dataframe tbody tr th {\n",
       "        vertical-align: top;\n",
       "    }\n",
       "\n",
       "    .dataframe thead th {\n",
       "        text-align: right;\n",
       "    }\n",
       "</style>\n",
       "<table border=\"1\" class=\"dataframe\">\n",
       "  <thead>\n",
       "    <tr style=\"text-align: right;\">\n",
       "      <th></th>\n",
       "      <th>MMM</th>\n",
       "      <th>AOS</th>\n",
       "      <th>ABT</th>\n",
       "      <th>ABBV</th>\n",
       "      <th>ACN</th>\n",
       "      <th>ATVI</th>\n",
       "      <th>AYI</th>\n",
       "      <th>ADBE</th>\n",
       "      <th>AAP</th>\n",
       "      <th>AMD</th>\n",
       "      <th>...</th>\n",
       "      <th>ZAGG</th>\n",
       "      <th>ZEUS</th>\n",
       "      <th>ZGNX</th>\n",
       "      <th>ZIOP</th>\n",
       "      <th>ZIXI</th>\n",
       "      <th>ZUMZ</th>\n",
       "      <th>ZUO</th>\n",
       "      <th>ZYNE</th>\n",
       "      <th>ZYXI</th>\n",
       "      <th>UVXY</th>\n",
       "    </tr>\n",
       "    <tr>\n",
       "      <th>Date</th>\n",
       "      <th></th>\n",
       "      <th></th>\n",
       "      <th></th>\n",
       "      <th></th>\n",
       "      <th></th>\n",
       "      <th></th>\n",
       "      <th></th>\n",
       "      <th></th>\n",
       "      <th></th>\n",
       "      <th></th>\n",
       "      <th></th>\n",
       "      <th></th>\n",
       "      <th></th>\n",
       "      <th></th>\n",
       "      <th></th>\n",
       "      <th></th>\n",
       "      <th></th>\n",
       "      <th></th>\n",
       "      <th></th>\n",
       "      <th></th>\n",
       "      <th></th>\n",
       "    </tr>\n",
       "  </thead>\n",
       "  <tbody>\n",
       "    <tr>\n",
       "      <td>2019-01-03</td>\n",
       "      <td>-0.037654</td>\n",
       "      <td>-0.024155</td>\n",
       "      <td>-0.047194</td>\n",
       "      <td>-0.032948</td>\n",
       "      <td>-0.034142</td>\n",
       "      <td>-0.035509</td>\n",
       "      <td>-0.032804</td>\n",
       "      <td>-0.039498</td>\n",
       "      <td>0.031218</td>\n",
       "      <td>-0.094530</td>\n",
       "      <td>...</td>\n",
       "      <td>-0.055664</td>\n",
       "      <td>0.005232</td>\n",
       "      <td>0.000000</td>\n",
       "      <td>-0.027149</td>\n",
       "      <td>0.008562</td>\n",
       "      <td>-0.013252</td>\n",
       "      <td>-0.028571</td>\n",
       "      <td>-0.013441</td>\n",
       "      <td>-0.024222</td>\n",
       "      <td>0.069045</td>\n",
       "    </tr>\n",
       "    <tr>\n",
       "      <td>2019-01-04</td>\n",
       "      <td>0.041141</td>\n",
       "      <td>0.040075</td>\n",
       "      <td>0.028541</td>\n",
       "      <td>0.032217</td>\n",
       "      <td>0.038884</td>\n",
       "      <td>0.039903</td>\n",
       "      <td>0.046837</td>\n",
       "      <td>0.048632</td>\n",
       "      <td>-0.024808</td>\n",
       "      <td>0.114370</td>\n",
       "      <td>...</td>\n",
       "      <td>0.071355</td>\n",
       "      <td>0.070267</td>\n",
       "      <td>0.078113</td>\n",
       "      <td>0.041860</td>\n",
       "      <td>0.011885</td>\n",
       "      <td>0.025310</td>\n",
       "      <td>0.049208</td>\n",
       "      <td>0.089918</td>\n",
       "      <td>0.046099</td>\n",
       "      <td>-0.117167</td>\n",
       "    </tr>\n",
       "    <tr>\n",
       "      <td>2019-01-07</td>\n",
       "      <td>-0.002300</td>\n",
       "      <td>0.017906</td>\n",
       "      <td>0.014976</td>\n",
       "      <td>0.014595</td>\n",
       "      <td>0.003474</td>\n",
       "      <td>0.028196</td>\n",
       "      <td>0.014914</td>\n",
       "      <td>0.013573</td>\n",
       "      <td>0.014672</td>\n",
       "      <td>0.082632</td>\n",
       "      <td>...</td>\n",
       "      <td>0.037645</td>\n",
       "      <td>0.037082</td>\n",
       "      <td>0.051058</td>\n",
       "      <td>0.013393</td>\n",
       "      <td>0.010067</td>\n",
       "      <td>0.047355</td>\n",
       "      <td>0.050674</td>\n",
       "      <td>0.000000</td>\n",
       "      <td>0.003390</td>\n",
       "      <td>-0.035219</td>\n",
       "    </tr>\n",
       "    <tr>\n",
       "      <td>2019-01-08</td>\n",
       "      <td>0.004191</td>\n",
       "      <td>0.024493</td>\n",
       "      <td>-0.012006</td>\n",
       "      <td>0.004647</td>\n",
       "      <td>0.025290</td>\n",
       "      <td>0.030309</td>\n",
       "      <td>0.017988</td>\n",
       "      <td>0.014918</td>\n",
       "      <td>-0.006950</td>\n",
       "      <td>0.008751</td>\n",
       "      <td>...</td>\n",
       "      <td>0.000930</td>\n",
       "      <td>0.008792</td>\n",
       "      <td>0.026602</td>\n",
       "      <td>-0.035242</td>\n",
       "      <td>0.053156</td>\n",
       "      <td>0.014430</td>\n",
       "      <td>0.012827</td>\n",
       "      <td>0.030000</td>\n",
       "      <td>-0.006757</td>\n",
       "      <td>-0.030303</td>\n",
       "    </tr>\n",
       "    <tr>\n",
       "      <td>2019-01-09</td>\n",
       "      <td>0.003235</td>\n",
       "      <td>0.013910</td>\n",
       "      <td>0.016691</td>\n",
       "      <td>-0.032823</td>\n",
       "      <td>0.005029</td>\n",
       "      <td>0.017210</td>\n",
       "      <td>-0.028206</td>\n",
       "      <td>0.011819</td>\n",
       "      <td>0.027559</td>\n",
       "      <td>-0.026988</td>\n",
       "      <td>...</td>\n",
       "      <td>0.072491</td>\n",
       "      <td>0.019756</td>\n",
       "      <td>-0.001803</td>\n",
       "      <td>0.031963</td>\n",
       "      <td>-0.022082</td>\n",
       "      <td>0.008535</td>\n",
       "      <td>0.007092</td>\n",
       "      <td>0.036408</td>\n",
       "      <td>0.020408</td>\n",
       "      <td>-0.033140</td>\n",
       "    </tr>\n",
       "    <tr>\n",
       "      <td>...</td>\n",
       "      <td>...</td>\n",
       "      <td>...</td>\n",
       "      <td>...</td>\n",
       "      <td>...</td>\n",
       "      <td>...</td>\n",
       "      <td>...</td>\n",
       "      <td>...</td>\n",
       "      <td>...</td>\n",
       "      <td>...</td>\n",
       "      <td>...</td>\n",
       "      <td>...</td>\n",
       "      <td>...</td>\n",
       "      <td>...</td>\n",
       "      <td>...</td>\n",
       "      <td>...</td>\n",
       "      <td>...</td>\n",
       "      <td>...</td>\n",
       "      <td>...</td>\n",
       "      <td>...</td>\n",
       "      <td>...</td>\n",
       "      <td>...</td>\n",
       "    </tr>\n",
       "    <tr>\n",
       "      <td>2021-02-08</td>\n",
       "      <td>0.009776</td>\n",
       "      <td>0.023000</td>\n",
       "      <td>0.003789</td>\n",
       "      <td>-0.017383</td>\n",
       "      <td>0.014869</td>\n",
       "      <td>-0.004133</td>\n",
       "      <td>0.031134</td>\n",
       "      <td>0.003333</td>\n",
       "      <td>0.007375</td>\n",
       "      <td>0.040614</td>\n",
       "      <td>...</td>\n",
       "      <td>0.014218</td>\n",
       "      <td>-0.010289</td>\n",
       "      <td>0.057509</td>\n",
       "      <td>0.066667</td>\n",
       "      <td>0.019447</td>\n",
       "      <td>0.036309</td>\n",
       "      <td>0.023676</td>\n",
       "      <td>0.129921</td>\n",
       "      <td>0.052105</td>\n",
       "      <td>-0.006965</td>\n",
       "    </tr>\n",
       "    <tr>\n",
       "      <td>2021-02-09</td>\n",
       "      <td>0.000996</td>\n",
       "      <td>-0.000978</td>\n",
       "      <td>0.005221</td>\n",
       "      <td>-0.013478</td>\n",
       "      <td>0.001438</td>\n",
       "      <td>0.015219</td>\n",
       "      <td>-0.007608</td>\n",
       "      <td>0.004638</td>\n",
       "      <td>0.014075</td>\n",
       "      <td>-0.006122</td>\n",
       "      <td>...</td>\n",
       "      <td>-0.014019</td>\n",
       "      <td>0.003899</td>\n",
       "      <td>0.007191</td>\n",
       "      <td>-0.003571</td>\n",
       "      <td>0.013052</td>\n",
       "      <td>-0.016684</td>\n",
       "      <td>0.008521</td>\n",
       "      <td>0.037456</td>\n",
       "      <td>0.000000</td>\n",
       "      <td>0.003006</td>\n",
       "    </tr>\n",
       "    <tr>\n",
       "      <td>2021-02-10</td>\n",
       "      <td>0.000774</td>\n",
       "      <td>-0.001631</td>\n",
       "      <td>0.001119</td>\n",
       "      <td>-0.012808</td>\n",
       "      <td>-0.002872</td>\n",
       "      <td>0.000292</td>\n",
       "      <td>-0.010976</td>\n",
       "      <td>-0.006814</td>\n",
       "      <td>0.007407</td>\n",
       "      <td>0.015840</td>\n",
       "      <td>...</td>\n",
       "      <td>-0.002370</td>\n",
       "      <td>-0.027184</td>\n",
       "      <td>0.017849</td>\n",
       "      <td>-0.012545</td>\n",
       "      <td>-0.008920</td>\n",
       "      <td>-0.007847</td>\n",
       "      <td>-0.017501</td>\n",
       "      <td>0.471033</td>\n",
       "      <td>-0.024012</td>\n",
       "      <td>0.023976</td>\n",
       "    </tr>\n",
       "    <tr>\n",
       "      <td>2021-02-11</td>\n",
       "      <td>-0.013307</td>\n",
       "      <td>-0.002124</td>\n",
       "      <td>0.012371</td>\n",
       "      <td>-0.002883</td>\n",
       "      <td>0.007901</td>\n",
       "      <td>0.004671</td>\n",
       "      <td>0.018360</td>\n",
       "      <td>0.008017</td>\n",
       "      <td>-0.045718</td>\n",
       "      <td>0.003357</td>\n",
       "      <td>...</td>\n",
       "      <td>0.002375</td>\n",
       "      <td>0.037924</td>\n",
       "      <td>-0.017098</td>\n",
       "      <td>-0.112523</td>\n",
       "      <td>-0.012000</td>\n",
       "      <td>0.023514</td>\n",
       "      <td>0.016585</td>\n",
       "      <td>-0.302511</td>\n",
       "      <td>-0.011789</td>\n",
       "      <td>-0.033171</td>\n",
       "    </tr>\n",
       "    <tr>\n",
       "      <td>2021-02-12</td>\n",
       "      <td>0.008408</td>\n",
       "      <td>-0.011786</td>\n",
       "      <td>0.010959</td>\n",
       "      <td>0.006651</td>\n",
       "      <td>-0.005792</td>\n",
       "      <td>0.005521</td>\n",
       "      <td>0.006490</td>\n",
       "      <td>0.004470</td>\n",
       "      <td>-0.010682</td>\n",
       "      <td>0.011979</td>\n",
       "      <td>...</td>\n",
       "      <td>0.009479</td>\n",
       "      <td>0.010897</td>\n",
       "      <td>0.004906</td>\n",
       "      <td>-0.010225</td>\n",
       "      <td>0.014170</td>\n",
       "      <td>-0.021094</td>\n",
       "      <td>0.015106</td>\n",
       "      <td>-0.077741</td>\n",
       "      <td>0.008817</td>\n",
       "      <td>-0.049445</td>\n",
       "    </tr>\n",
       "  </tbody>\n",
       "</table>\n",
       "<p>533 rows × 2234 columns</p>\n",
       "</div>"
      ],
      "text/plain": [
       "                 MMM       AOS       ABT      ABBV       ACN      ATVI  \\\n",
       "Date                                                                     \n",
       "2019-01-03 -0.037654 -0.024155 -0.047194 -0.032948 -0.034142 -0.035509   \n",
       "2019-01-04  0.041141  0.040075  0.028541  0.032217  0.038884  0.039903   \n",
       "2019-01-07 -0.002300  0.017906  0.014976  0.014595  0.003474  0.028196   \n",
       "2019-01-08  0.004191  0.024493 -0.012006  0.004647  0.025290  0.030309   \n",
       "2019-01-09  0.003235  0.013910  0.016691 -0.032823  0.005029  0.017210   \n",
       "...              ...       ...       ...       ...       ...       ...   \n",
       "2021-02-08  0.009776  0.023000  0.003789 -0.017383  0.014869 -0.004133   \n",
       "2021-02-09  0.000996 -0.000978  0.005221 -0.013478  0.001438  0.015219   \n",
       "2021-02-10  0.000774 -0.001631  0.001119 -0.012808 -0.002872  0.000292   \n",
       "2021-02-11 -0.013307 -0.002124  0.012371 -0.002883  0.007901  0.004671   \n",
       "2021-02-12  0.008408 -0.011786  0.010959  0.006651 -0.005792  0.005521   \n",
       "\n",
       "                 AYI      ADBE       AAP       AMD  ...      ZAGG      ZEUS  \\\n",
       "Date                                                ...                       \n",
       "2019-01-03 -0.032804 -0.039498  0.031218 -0.094530  ... -0.055664  0.005232   \n",
       "2019-01-04  0.046837  0.048632 -0.024808  0.114370  ...  0.071355  0.070267   \n",
       "2019-01-07  0.014914  0.013573  0.014672  0.082632  ...  0.037645  0.037082   \n",
       "2019-01-08  0.017988  0.014918 -0.006950  0.008751  ...  0.000930  0.008792   \n",
       "2019-01-09 -0.028206  0.011819  0.027559 -0.026988  ...  0.072491  0.019756   \n",
       "...              ...       ...       ...       ...  ...       ...       ...   \n",
       "2021-02-08  0.031134  0.003333  0.007375  0.040614  ...  0.014218 -0.010289   \n",
       "2021-02-09 -0.007608  0.004638  0.014075 -0.006122  ... -0.014019  0.003899   \n",
       "2021-02-10 -0.010976 -0.006814  0.007407  0.015840  ... -0.002370 -0.027184   \n",
       "2021-02-11  0.018360  0.008017 -0.045718  0.003357  ...  0.002375  0.037924   \n",
       "2021-02-12  0.006490  0.004470 -0.010682  0.011979  ...  0.009479  0.010897   \n",
       "\n",
       "                ZGNX      ZIOP      ZIXI      ZUMZ       ZUO      ZYNE  \\\n",
       "Date                                                                     \n",
       "2019-01-03  0.000000 -0.027149  0.008562 -0.013252 -0.028571 -0.013441   \n",
       "2019-01-04  0.078113  0.041860  0.011885  0.025310  0.049208  0.089918   \n",
       "2019-01-07  0.051058  0.013393  0.010067  0.047355  0.050674  0.000000   \n",
       "2019-01-08  0.026602 -0.035242  0.053156  0.014430  0.012827  0.030000   \n",
       "2019-01-09 -0.001803  0.031963 -0.022082  0.008535  0.007092  0.036408   \n",
       "...              ...       ...       ...       ...       ...       ...   \n",
       "2021-02-08  0.057509  0.066667  0.019447  0.036309  0.023676  0.129921   \n",
       "2021-02-09  0.007191 -0.003571  0.013052 -0.016684  0.008521  0.037456   \n",
       "2021-02-10  0.017849 -0.012545 -0.008920 -0.007847 -0.017501  0.471033   \n",
       "2021-02-11 -0.017098 -0.112523 -0.012000  0.023514  0.016585 -0.302511   \n",
       "2021-02-12  0.004906 -0.010225  0.014170 -0.021094  0.015106 -0.077741   \n",
       "\n",
       "                ZYXI      UVXY  \n",
       "Date                            \n",
       "2019-01-03 -0.024222  0.069045  \n",
       "2019-01-04  0.046099 -0.117167  \n",
       "2019-01-07  0.003390 -0.035219  \n",
       "2019-01-08 -0.006757 -0.030303  \n",
       "2019-01-09  0.020408 -0.033140  \n",
       "...              ...       ...  \n",
       "2021-02-08  0.052105 -0.006965  \n",
       "2021-02-09  0.000000  0.003006  \n",
       "2021-02-10 -0.024012  0.023976  \n",
       "2021-02-11 -0.011789 -0.033171  \n",
       "2021-02-12  0.008817 -0.049445  \n",
       "\n",
       "[533 rows x 2234 columns]"
      ]
     },
     "execution_count": 247,
     "metadata": {},
     "output_type": "execute_result"
    }
   ],
   "source": [
    "daily_returns"
   ]
  },
  {
   "cell_type": "code",
   "execution_count": 254,
   "metadata": {},
   "outputs": [
    {
     "data": {
      "text/plain": [
       "534"
      ]
     },
     "execution_count": 254,
     "metadata": {},
     "output_type": "execute_result"
    }
   ],
   "source": [
    "len(data)"
   ]
  },
  {
   "cell_type": "code",
   "execution_count": 255,
   "metadata": {},
   "outputs": [
    {
     "data": {
      "text/plain": [
       "533"
      ]
     },
     "execution_count": 255,
     "metadata": {},
     "output_type": "execute_result"
    }
   ],
   "source": [
    "len(daily_returns)"
   ]
  },
  {
   "cell_type": "markdown",
   "metadata": {},
   "source": [
    "### Lets see if we can generate a model to predict the daily returns for UVXY\n",
    "- we will need to drop NA values as well as even out the dfs"
   ]
  },
  {
   "cell_type": "code",
   "execution_count": 259,
   "metadata": {},
   "outputs": [],
   "source": [
    "dd = data.drop(\"2019-01-02\")"
   ]
  },
  {
   "cell_type": "code",
   "execution_count": 260,
   "metadata": {},
   "outputs": [],
   "source": [
    "X = dd.drop(\"UVXY\", axis=1)\n",
    "y = daily_returns[\"UVXY\"]"
   ]
  },
  {
   "cell_type": "code",
   "execution_count": 261,
   "metadata": {},
   "outputs": [],
   "source": [
    " X_train, X_test, y_train, y_test = train_test_split(X, y, test_size=0.20, random_state=42)"
   ]
  },
  {
   "cell_type": "code",
   "execution_count": 262,
   "metadata": {},
   "outputs": [],
   "source": [
    "X_train = scalar.fit_transform(X_train)"
   ]
  },
  {
   "cell_type": "code",
   "execution_count": 263,
   "metadata": {},
   "outputs": [],
   "source": [
    "X_test = scalar.transform(X_test)"
   ]
  },
  {
   "cell_type": "code",
   "execution_count": 264,
   "metadata": {},
   "outputs": [],
   "source": [
    "mode = LinearRegression()"
   ]
  },
  {
   "cell_type": "code",
   "execution_count": 265,
   "metadata": {},
   "outputs": [
    {
     "data": {
      "text/plain": [
       "LinearRegression(copy_X=True, fit_intercept=True, n_jobs=None, normalize=False)"
      ]
     },
     "execution_count": 265,
     "metadata": {},
     "output_type": "execute_result"
    }
   ],
   "source": [
    "mode.fit(X_train, y_train)"
   ]
  },
  {
   "cell_type": "code",
   "execution_count": 266,
   "metadata": {},
   "outputs": [
    {
     "data": {
      "text/plain": [
       "0.6124086283181216"
      ]
     },
     "execution_count": 266,
     "metadata": {},
     "output_type": "execute_result"
    }
   ],
   "source": [
    "mode.intercept_"
   ]
  },
  {
   "cell_type": "code",
   "execution_count": 275,
   "metadata": {},
   "outputs": [
    {
     "data": {
      "text/html": [
       "<div>\n",
       "<style scoped>\n",
       "    .dataframe tbody tr th:only-of-type {\n",
       "        vertical-align: middle;\n",
       "    }\n",
       "\n",
       "    .dataframe tbody tr th {\n",
       "        vertical-align: top;\n",
       "    }\n",
       "\n",
       "    .dataframe thead th {\n",
       "        text-align: right;\n",
       "    }\n",
       "</style>\n",
       "<table border=\"1\" class=\"dataframe\">\n",
       "  <thead>\n",
       "    <tr style=\"text-align: right;\">\n",
       "      <th></th>\n",
       "      <th>coeff</th>\n",
       "    </tr>\n",
       "  </thead>\n",
       "  <tbody>\n",
       "    <tr>\n",
       "      <td>OSMT</td>\n",
       "      <td>0.119849</td>\n",
       "    </tr>\n",
       "    <tr>\n",
       "      <td>ANGO</td>\n",
       "      <td>0.117118</td>\n",
       "    </tr>\n",
       "    <tr>\n",
       "      <td>LEVL</td>\n",
       "      <td>0.116399</td>\n",
       "    </tr>\n",
       "    <tr>\n",
       "      <td>BRID</td>\n",
       "      <td>0.112031</td>\n",
       "    </tr>\n",
       "    <tr>\n",
       "      <td>INOV</td>\n",
       "      <td>0.109194</td>\n",
       "    </tr>\n",
       "    <tr>\n",
       "      <td>...</td>\n",
       "      <td>...</td>\n",
       "    </tr>\n",
       "    <tr>\n",
       "      <td>PWOD</td>\n",
       "      <td>-0.106415</td>\n",
       "    </tr>\n",
       "    <tr>\n",
       "      <td>ANDE</td>\n",
       "      <td>-0.109026</td>\n",
       "    </tr>\n",
       "    <tr>\n",
       "      <td>RIGL</td>\n",
       "      <td>-0.122150</td>\n",
       "    </tr>\n",
       "    <tr>\n",
       "      <td>RGCO</td>\n",
       "      <td>-0.140726</td>\n",
       "    </tr>\n",
       "    <tr>\n",
       "      <td>FFG</td>\n",
       "      <td>-0.185928</td>\n",
       "    </tr>\n",
       "  </tbody>\n",
       "</table>\n",
       "<p>2233 rows × 1 columns</p>\n",
       "</div>"
      ],
      "text/plain": [
       "         coeff\n",
       "OSMT  0.119849\n",
       "ANGO  0.117118\n",
       "LEVL  0.116399\n",
       "BRID  0.112031\n",
       "INOV  0.109194\n",
       "...        ...\n",
       "PWOD -0.106415\n",
       "ANDE -0.109026\n",
       "RIGL -0.122150\n",
       "RGCO -0.140726\n",
       "FFG  -0.185928\n",
       "\n",
       "[2233 rows x 1 columns]"
      ]
     },
     "execution_count": 275,
     "metadata": {},
     "output_type": "execute_result"
    }
   ],
   "source": [
    "pd.DataFrame(mode.coef_, columns=[\"coeff\"], index=X.columns).sort_values(\"coeff\", ascending = False)"
   ]
  },
  {
   "cell_type": "markdown",
   "metadata": {},
   "source": [
    "## There is a very low coorelation \n",
    "- THe Prices of all the stocks has very low predictibility to the dily return of UVXY"
   ]
  },
  {
   "cell_type": "code",
   "execution_count": 276,
   "metadata": {},
   "outputs": [],
   "source": [
    "predictions = mode.predict(X_test)"
   ]
  },
  {
   "cell_type": "code",
   "execution_count": 277,
   "metadata": {},
   "outputs": [
    {
     "data": {
      "text/plain": [
       "<matplotlib.collections.PathCollection at 0x1897bf510>"
      ]
     },
     "execution_count": 277,
     "metadata": {},
     "output_type": "execute_result"
    },
    {
     "data": {
      "image/png": "[encoded data removed]",
      "text/plain": [
       "<Figure size 432x288 with 1 Axes>"
      ]
     },
     "metadata": {
      "needs_background": "light"
     },
     "output_type": "display_data"
    }
   ],
   "source": [
    "plt.scatter(predictions, y_test)"
   ]
  },
  {
   "cell_type": "markdown",
   "metadata": {},
   "source": [
    "## Optimization \n",
    "- WE will optimize the penny stocks we collected earlier for this portfolio"
   ]
  },
  {
   "cell_type": "code",
   "execution_count": 281,
   "metadata": {},
   "outputs": [],
   "source": [
    "penny_stocks = pd.read_csv(\"resources/1_15_2021_pennyDf_200companies.csv\", index_col=\"Unnamed: 0\")"
   ]
  },
  {
   "cell_type": "code",
   "execution_count": null,
   "metadata": {},
   "outputs": [],
   "source": []
  },
  {
   "cell_type": "code",
   "execution_count": 290,
   "metadata": {},
   "outputs": [],
   "source": [
    "penny_stocks = data[penny_stocks.drop(['SCG', 'CYCN', 'YGYI', 'SONM'], axis=1).columns]"
   ]
  },
  {
   "cell_type": "code",
   "execution_count": 292,
   "metadata": {},
   "outputs": [],
   "source": [
    "penny_stocks_returns = penny_stocks.pct_change()"
   ]
  },
  {
   "cell_type": "markdown",
   "metadata": {},
   "source": [
    "### Checing volatility for each penny stock\n",
    "- Appears that that there are a few highly volitile companies in the penny list\n",
    "- Lets take a look at these below\n",
    "- WE will sort the vol values "
   ]
  },
  {
   "cell_type": "code",
   "execution_count": 293,
   "metadata": {},
   "outputs": [],
   "source": [
    "penny_vol = []\n",
    "for x in penny_stocks_returns.columns:\n",
    "    penny_vol.append(penny_stocks_returns[f\"{x}\"].std() * 252)"
   ]
  },
  {
   "cell_type": "code",
   "execution_count": 298,
   "metadata": {},
   "outputs": [],
   "source": [
    "vol_df = pd.DataFrame(penny_vol, columns=[\"vol\"], index=penny_stocks_returns.columns)"
   ]
  },
  {
   "cell_type": "code",
   "execution_count": 304,
   "metadata": {},
   "outputs": [
    {
     "data": {
      "image/png": "[encoded data removed]",
      "text/plain": [
       "<Figure size 1152x432 with 1 Axes>"
      ]
     },
     "metadata": {
      "needs_background": "light"
     },
     "output_type": "display_data"
    }
   ],
   "source": [
    "vol_df.plot(figsize = (16,6), kind = \"bar\")\n",
    "plt.tight_layout()"
   ]
  },
  {
   "cell_type": "code",
   "execution_count": 312,
   "metadata": {},
   "outputs": [
    {
     "data": {
      "text/html": [
       "<div>\n",
       "<style scoped>\n",
       "    .dataframe tbody tr th:only-of-type {\n",
       "        vertical-align: middle;\n",
       "    }\n",
       "\n",
       "    .dataframe tbody tr th {\n",
       "        vertical-align: top;\n",
       "    }\n",
       "\n",
       "    .dataframe thead th {\n",
       "        text-align: right;\n",
       "    }\n",
       "</style>\n",
       "<table border=\"1\" class=\"dataframe\">\n",
       "  <thead>\n",
       "    <tr style=\"text-align: right;\">\n",
       "      <th></th>\n",
       "      <th>vol</th>\n",
       "    </tr>\n",
       "  </thead>\n",
       "  <tbody>\n",
       "    <tr>\n",
       "      <td>PHUN</td>\n",
       "      <td>38.838279</td>\n",
       "    </tr>\n",
       "    <tr>\n",
       "      <td>AMC</td>\n",
       "      <td>38.348290</td>\n",
       "    </tr>\n",
       "    <tr>\n",
       "      <td>AHT</td>\n",
       "      <td>35.675467</td>\n",
       "    </tr>\n",
       "    <tr>\n",
       "      <td>EXPR</td>\n",
       "      <td>33.492049</td>\n",
       "    </tr>\n",
       "    <tr>\n",
       "      <td>ECOR</td>\n",
       "      <td>32.119352</td>\n",
       "    </tr>\n",
       "    <tr>\n",
       "      <td>OCX</td>\n",
       "      <td>29.348249</td>\n",
       "    </tr>\n",
       "    <tr>\n",
       "      <td>XELA</td>\n",
       "      <td>28.717814</td>\n",
       "    </tr>\n",
       "    <tr>\n",
       "      <td>AGE</td>\n",
       "      <td>27.964451</td>\n",
       "    </tr>\n",
       "    <tr>\n",
       "      <td>ICD</td>\n",
       "      <td>27.910214</td>\n",
       "    </tr>\n",
       "    <tr>\n",
       "      <td>WTRH</td>\n",
       "      <td>27.894564</td>\n",
       "    </tr>\n",
       "    <tr>\n",
       "      <td>SVRA</td>\n",
       "      <td>26.005321</td>\n",
       "    </tr>\n",
       "    <tr>\n",
       "      <td>IDEX</td>\n",
       "      <td>25.611288</td>\n",
       "    </tr>\n",
       "    <tr>\n",
       "      <td>USWS</td>\n",
       "      <td>23.365240</td>\n",
       "    </tr>\n",
       "    <tr>\n",
       "      <td>NINE</td>\n",
       "      <td>23.252300</td>\n",
       "    </tr>\n",
       "    <tr>\n",
       "      <td>WATT</td>\n",
       "      <td>22.916924</td>\n",
       "    </tr>\n",
       "    <tr>\n",
       "      <td>AXAS</td>\n",
       "      <td>22.595462</td>\n",
       "    </tr>\n",
       "    <tr>\n",
       "      <td>AVCO</td>\n",
       "      <td>22.556104</td>\n",
       "    </tr>\n",
       "    <tr>\n",
       "      <td>QEP</td>\n",
       "      <td>21.250876</td>\n",
       "    </tr>\n",
       "    <tr>\n",
       "      <td>MITT</td>\n",
       "      <td>21.146358</td>\n",
       "    </tr>\n",
       "    <tr>\n",
       "      <td>TEUM</td>\n",
       "      <td>21.070830</td>\n",
       "    </tr>\n",
       "    <tr>\n",
       "      <td>TUSK</td>\n",
       "      <td>21.041027</td>\n",
       "    </tr>\n",
       "    <tr>\n",
       "      <td>CBAY</td>\n",
       "      <td>20.507537</td>\n",
       "    </tr>\n",
       "    <tr>\n",
       "      <td>GCI</td>\n",
       "      <td>20.233400</td>\n",
       "    </tr>\n",
       "    <tr>\n",
       "      <td>JILL</td>\n",
       "      <td>19.967004</td>\n",
       "    </tr>\n",
       "    <tr>\n",
       "      <td>ABEO</td>\n",
       "      <td>19.442501</td>\n",
       "    </tr>\n",
       "    <tr>\n",
       "      <td>NEXT</td>\n",
       "      <td>19.391163</td>\n",
       "    </tr>\n",
       "    <tr>\n",
       "      <td>PEI</td>\n",
       "      <td>18.878903</td>\n",
       "    </tr>\n",
       "    <tr>\n",
       "      <td>PTE</td>\n",
       "      <td>18.681569</td>\n",
       "    </tr>\n",
       "    <tr>\n",
       "      <td>TYME</td>\n",
       "      <td>18.670514</td>\n",
       "    </tr>\n",
       "    <tr>\n",
       "      <td>SIEB</td>\n",
       "      <td>18.648402</td>\n",
       "    </tr>\n",
       "    <tr>\n",
       "      <td>TELL</td>\n",
       "      <td>18.646398</td>\n",
       "    </tr>\n",
       "    <tr>\n",
       "      <td>MBIO</td>\n",
       "      <td>18.613220</td>\n",
       "    </tr>\n",
       "    <tr>\n",
       "      <td>SENS</td>\n",
       "      <td>18.550725</td>\n",
       "    </tr>\n",
       "    <tr>\n",
       "      <td>ACER</td>\n",
       "      <td>18.542633</td>\n",
       "    </tr>\n",
       "    <tr>\n",
       "      <td>ELOX</td>\n",
       "      <td>18.464540</td>\n",
       "    </tr>\n",
       "    <tr>\n",
       "      <td>TTI</td>\n",
       "      <td>18.462668</td>\n",
       "    </tr>\n",
       "    <tr>\n",
       "      <td>YRCW</td>\n",
       "      <td>18.371665</td>\n",
       "    </tr>\n",
       "    <tr>\n",
       "      <td>VBIV</td>\n",
       "      <td>18.357434</td>\n",
       "    </tr>\n",
       "    <tr>\n",
       "      <td>PHAS</td>\n",
       "      <td>18.330048</td>\n",
       "    </tr>\n",
       "    <tr>\n",
       "      <td>XAN</td>\n",
       "      <td>17.967017</td>\n",
       "    </tr>\n",
       "    <tr>\n",
       "      <td>BTU</td>\n",
       "      <td>17.709673</td>\n",
       "    </tr>\n",
       "    <tr>\n",
       "      <td>ASRT</td>\n",
       "      <td>17.690996</td>\n",
       "    </tr>\n",
       "    <tr>\n",
       "      <td>FLDM</td>\n",
       "      <td>17.618112</td>\n",
       "    </tr>\n",
       "    <tr>\n",
       "      <td>FTK</td>\n",
       "      <td>17.605482</td>\n",
       "    </tr>\n",
       "    <tr>\n",
       "      <td>LTRPA</td>\n",
       "      <td>17.533821</td>\n",
       "    </tr>\n",
       "    <tr>\n",
       "      <td>YCBD</td>\n",
       "      <td>17.484301</td>\n",
       "    </tr>\n",
       "    <tr>\n",
       "      <td>BHR</td>\n",
       "      <td>17.344575</td>\n",
       "    </tr>\n",
       "    <tr>\n",
       "      <td>SD</td>\n",
       "      <td>17.111813</td>\n",
       "    </tr>\n",
       "    <tr>\n",
       "      <td>LQDA</td>\n",
       "      <td>17.039078</td>\n",
       "    </tr>\n",
       "    <tr>\n",
       "      <td>REI</td>\n",
       "      <td>17.030409</td>\n",
       "    </tr>\n",
       "  </tbody>\n",
       "</table>\n",
       "</div>"
      ],
      "text/plain": [
       "             vol\n",
       "PHUN   38.838279\n",
       "AMC    38.348290\n",
       "AHT    35.675467\n",
       "EXPR   33.492049\n",
       "ECOR   32.119352\n",
       "OCX    29.348249\n",
       "XELA   28.717814\n",
       "AGE    27.964451\n",
       "ICD    27.910214\n",
       "WTRH   27.894564\n",
       "SVRA   26.005321\n",
       "IDEX   25.611288\n",
       "USWS   23.365240\n",
       "NINE   23.252300\n",
       "WATT   22.916924\n",
       "AXAS   22.595462\n",
       "AVCO   22.556104\n",
       "QEP    21.250876\n",
       "MITT   21.146358\n",
       "TEUM   21.070830\n",
       "TUSK   21.041027\n",
       "CBAY   20.507537\n",
       "GCI    20.233400\n",
       "JILL   19.967004\n",
       "ABEO   19.442501\n",
       "NEXT   19.391163\n",
       "PEI    18.878903\n",
       "PTE    18.681569\n",
       "TYME   18.670514\n",
       "SIEB   18.648402\n",
       "TELL   18.646398\n",
       "MBIO   18.613220\n",
       "SENS   18.550725\n",
       "ACER   18.542633\n",
       "ELOX   18.464540\n",
       "TTI    18.462668\n",
       "YRCW   18.371665\n",
       "VBIV   18.357434\n",
       "PHAS   18.330048\n",
       "XAN    17.967017\n",
       "BTU    17.709673\n",
       "ASRT   17.690996\n",
       "FLDM   17.618112\n",
       "FTK    17.605482\n",
       "LTRPA  17.533821\n",
       "YCBD   17.484301\n",
       "BHR    17.344575\n",
       "SD     17.111813\n",
       "LQDA   17.039078\n",
       "REI    17.030409"
      ]
     },
     "execution_count": 312,
     "metadata": {},
     "output_type": "execute_result"
    }
   ],
   "source": [
    "vol_df.sort_values(\"vol\", ascending=False).head(50)"
   ]
  },
  {
   "cell_type": "code",
   "execution_count": 396,
   "metadata": {},
   "outputs": [
    {
     "data": {
      "text/plain": [
       "196"
      ]
     },
     "execution_count": 396,
     "metadata": {},
     "output_type": "execute_result"
    }
   ],
   "source": [
    "len(penny_stocks.columns)"
   ]
  },
  {
   "cell_type": "markdown",
   "metadata": {},
   "source": [
    "### Lets optimize a portfolio\n",
    "- We will us all the penny stocks and nrrow it down to the top 10 by weight based on highest returns"
   ]
  },
  {
   "cell_type": "code",
   "execution_count": 315,
   "metadata": {},
   "outputs": [],
   "source": [
    "n_portfolios = 1000\n",
    "all_weights = np.zeros((n_portfolios, len(penny_stocks.columns)))\n",
    "all_Sharps = np.zeros(n_portfolios)\n",
    "all_vol = np.zeros(n_portfolios)\n",
    "all_returns = np.zeros(n_portfolios)\n",
    "\n",
    "for ind in range(n_portfolios):\n",
    "    weights = np.array(np.random.random(len(penny_stocks.columns)))\n",
    "    weights = weights/weights.sum()\n",
    "    all_weights[ind,:] = weights\n",
    "    \n",
    "    all_returns[ind] = np.sum(penny_stocks_returns.mean() * weights * 252)\n",
    "    all_vol[ind] = np.sqrt(np.dot(weights.T, np.dot(penny_stocks_returns.cov() * 252, weights)))\n",
    "    all_Sharps[ind] = all_returns[ind]/all_vol[ind]"
   ]
  },
  {
   "cell_type": "markdown",
   "metadata": {},
   "source": [
    "### Evaluating the portfolio\n",
    "- Max sharp\n",
    "- Max returns\n",
    "- min vol\n",
    "- again we are fetching the max return(focus) for a portfolio containing 10 companies in 2020"
   ]
  },
  {
   "cell_type": "code",
   "execution_count": 316,
   "metadata": {},
   "outputs": [],
   "source": [
    "max_sharp = all_Sharps.argmax()"
   ]
  },
  {
   "cell_type": "code",
   "execution_count": 317,
   "metadata": {},
   "outputs": [],
   "source": [
    "max_return = all_returns.argmax()"
   ]
  },
  {
   "cell_type": "code",
   "execution_count": 318,
   "metadata": {},
   "outputs": [],
   "source": [
    "low_vol = all_vol.argmin()"
   ]
  },
  {
   "cell_type": "code",
   "execution_count": 322,
   "metadata": {},
   "outputs": [
    {
     "data": {
      "text/plain": [
       "<matplotlib.collections.PathCollection at 0x1889b4090>"
      ]
     },
     "execution_count": 322,
     "metadata": {},
     "output_type": "execute_result"
    },
    {
     "data": {
      "image/png": "[encoded data removed]",
      "text/plain": [
       "<Figure size 1152x432 with 2 Axes>"
      ]
     },
     "metadata": {
      "needs_background": "light"
     },
     "output_type": "display_data"
    }
   ],
   "source": [
    "plt.figure(figsize=(16,6))\n",
    "plt.scatter(all_vol, all_returns, c=all_Sharps)\n",
    "plt.colorbar(label = \"Sharp\")\n",
    "plt.scatter(all_vol[max_sharp], all_returns[max_sharp], c=\"red\", s = 80)\n",
    "plt.scatter(all_vol[low_vol], all_returns[low_vol], c=\"red\", s = 40)\n",
    "plt.scatter(all_vol[max_return], all_returns[max_return], c=\"orange\", s = 180)"
   ]
  },
  {
   "cell_type": "markdown",
   "metadata": {},
   "source": [
    "## Setting up Frontier Data \n",
    "- We will combine all the data into a frame to find the portfolio we need"
   ]
  },
  {
   "cell_type": "code",
   "execution_count": 325,
   "metadata": {},
   "outputs": [],
   "source": [
    "weights_frame = pd.DataFrame(all_weights, columns=penny_stocks.columns)"
   ]
  },
  {
   "cell_type": "code",
   "execution_count": 336,
   "metadata": {},
   "outputs": [],
   "source": [
    "returns_frame = pd.DataFrame(all_returns, columns=[\"returns\"])"
   ]
  },
  {
   "cell_type": "code",
   "execution_count": 332,
   "metadata": {},
   "outputs": [],
   "source": [
    "sharp_frame = pd.DataFrame(all_Sharps, columns=[\"Sharp\"])"
   ]
  },
  {
   "cell_type": "code",
   "execution_count": 334,
   "metadata": {},
   "outputs": [],
   "source": [
    "vol_frame = pd.DataFrame(all_vol, columns=[\"Vol\"])"
   ]
  },
  {
   "cell_type": "code",
   "execution_count": 337,
   "metadata": {},
   "outputs": [],
   "source": [
    "frontier_df = pd.concat([returns_frame,sharp_frame,vol_frame,weights_frame], axis=1)"
   ]
  },
  {
   "cell_type": "markdown",
   "metadata": {},
   "source": [
    "### Below is the highest sharp portfolio\n",
    "- Also the highest returning portfolio and appears to be the highest vol portfolio\n",
    "- We will take the top 10 companies in this portfolio by weight and convert them into a portfolio of their own"
   ]
  },
  {
   "cell_type": "code",
   "execution_count": 341,
   "metadata": {},
   "outputs": [
    {
     "data": {
      "text/html": [
       "<div>\n",
       "<style scoped>\n",
       "    .dataframe tbody tr th:only-of-type {\n",
       "        vertical-align: middle;\n",
       "    }\n",
       "\n",
       "    .dataframe tbody tr th {\n",
       "        vertical-align: top;\n",
       "    }\n",
       "\n",
       "    .dataframe thead th {\n",
       "        text-align: right;\n",
       "    }\n",
       "</style>\n",
       "<table border=\"1\" class=\"dataframe\">\n",
       "  <thead>\n",
       "    <tr style=\"text-align: right;\">\n",
       "      <th></th>\n",
       "      <th>returns</th>\n",
       "      <th>Sharp</th>\n",
       "      <th>Vol</th>\n",
       "      <th>TEUM</th>\n",
       "      <th>GEN</th>\n",
       "      <th>CFMS</th>\n",
       "      <th>ASRT</th>\n",
       "      <th>PTN</th>\n",
       "      <th>AVCO</th>\n",
       "      <th>USWS</th>\n",
       "      <th>...</th>\n",
       "      <th>DHT</th>\n",
       "      <th>KZR</th>\n",
       "      <th>UIHC</th>\n",
       "      <th>SXC</th>\n",
       "      <th>SIRI</th>\n",
       "      <th>AFMD</th>\n",
       "      <th>CIA</th>\n",
       "      <th>ITI</th>\n",
       "      <th>YRCW</th>\n",
       "      <th>HL</th>\n",
       "    </tr>\n",
       "  </thead>\n",
       "  <tbody>\n",
       "    <tr>\n",
       "      <td>787</td>\n",
       "      <td>0.365745</td>\n",
       "      <td>0.905253</td>\n",
       "      <td>0.404025</td>\n",
       "      <td>0.00753</td>\n",
       "      <td>0.002389</td>\n",
       "      <td>0.007358</td>\n",
       "      <td>0.003932</td>\n",
       "      <td>0.009326</td>\n",
       "      <td>0.008086</td>\n",
       "      <td>0.006454</td>\n",
       "      <td>...</td>\n",
       "      <td>0.000186</td>\n",
       "      <td>0.001025</td>\n",
       "      <td>0.004724</td>\n",
       "      <td>0.006977</td>\n",
       "      <td>0.006608</td>\n",
       "      <td>0.000002</td>\n",
       "      <td>0.002709</td>\n",
       "      <td>0.002557</td>\n",
       "      <td>0.005608</td>\n",
       "      <td>0.005881</td>\n",
       "    </tr>\n",
       "  </tbody>\n",
       "</table>\n",
       "<p>1 rows × 199 columns</p>\n",
       "</div>"
      ],
      "text/plain": [
       "      returns     Sharp       Vol     TEUM       GEN      CFMS      ASRT  \\\n",
       "787  0.365745  0.905253  0.404025  0.00753  0.002389  0.007358  0.003932   \n",
       "\n",
       "          PTN      AVCO      USWS  ...       DHT       KZR      UIHC  \\\n",
       "787  0.009326  0.008086  0.006454  ...  0.000186  0.001025  0.004724   \n",
       "\n",
       "          SXC      SIRI      AFMD       CIA       ITI      YRCW        HL  \n",
       "787  0.006977  0.006608  0.000002  0.002709  0.002557  0.005608  0.005881  \n",
       "\n",
       "[1 rows x 199 columns]"
      ]
     },
     "execution_count": 341,
     "metadata": {},
     "output_type": "execute_result"
    }
   ],
   "source": [
    "frontier_df[frontier_df[\"returns\"] == frontier_df[\"returns\"].max()]"
   ]
  },
  {
   "cell_type": "code",
   "execution_count": 352,
   "metadata": {},
   "outputs": [],
   "source": [
    "top_10_weighted = frontier_df[frontier_df[\"returns\"] == frontier_df[\"returns\"].max()].drop([\"returns\"\n",
    "                                ,\"Sharp\",\"Vol\"], axis = 1).transpose().sort_values(787, ascending = False).head(10)"
   ]
  },
  {
   "cell_type": "code",
   "execution_count": 354,
   "metadata": {},
   "outputs": [],
   "source": [
    "top_10_weighted_tickers = top_10_weighted.index"
   ]
  },
  {
   "cell_type": "code",
   "execution_count": 358,
   "metadata": {},
   "outputs": [],
   "source": [
    "top_10_df = penny_stocks[top_10_weighted_tickers]"
   ]
  },
  {
   "cell_type": "code",
   "execution_count": 362,
   "metadata": {},
   "outputs": [
    {
     "data": {
      "text/html": [
       "<div>\n",
       "<style scoped>\n",
       "    .dataframe tbody tr th:only-of-type {\n",
       "        vertical-align: middle;\n",
       "    }\n",
       "\n",
       "    .dataframe tbody tr th {\n",
       "        vertical-align: top;\n",
       "    }\n",
       "\n",
       "    .dataframe thead th {\n",
       "        text-align: right;\n",
       "    }\n",
       "</style>\n",
       "<table border=\"1\" class=\"dataframe\">\n",
       "  <thead>\n",
       "    <tr style=\"text-align: right;\">\n",
       "      <th></th>\n",
       "      <th>LCTX</th>\n",
       "      <th>CALA</th>\n",
       "      <th>NERV</th>\n",
       "      <th>HLX</th>\n",
       "      <th>VBIV</th>\n",
       "      <th>CDXC</th>\n",
       "      <th>ECOR</th>\n",
       "      <th>JILL</th>\n",
       "      <th>WTTR</th>\n",
       "      <th>CHRA</th>\n",
       "    </tr>\n",
       "    <tr>\n",
       "      <th>Date</th>\n",
       "      <th></th>\n",
       "      <th></th>\n",
       "      <th></th>\n",
       "      <th></th>\n",
       "      <th></th>\n",
       "      <th></th>\n",
       "      <th></th>\n",
       "      <th></th>\n",
       "      <th></th>\n",
       "      <th></th>\n",
       "    </tr>\n",
       "  </thead>\n",
       "  <tbody>\n",
       "    <tr>\n",
       "      <td>2019-01-02</td>\n",
       "      <td>1.04</td>\n",
       "      <td>4.23</td>\n",
       "      <td>6.92</td>\n",
       "      <td>5.71</td>\n",
       "      <td>1.65</td>\n",
       "      <td>3.41</td>\n",
       "      <td>7.11</td>\n",
       "      <td>20.953659</td>\n",
       "      <td>6.80</td>\n",
       "      <td>8.10</td>\n",
       "    </tr>\n",
       "    <tr>\n",
       "      <td>2019-01-03</td>\n",
       "      <td>0.96</td>\n",
       "      <td>4.15</td>\n",
       "      <td>6.64</td>\n",
       "      <td>5.70</td>\n",
       "      <td>1.62</td>\n",
       "      <td>3.23</td>\n",
       "      <td>7.60</td>\n",
       "      <td>20.307688</td>\n",
       "      <td>6.98</td>\n",
       "      <td>7.66</td>\n",
       "    </tr>\n",
       "    <tr>\n",
       "      <td>2019-01-04</td>\n",
       "      <td>1.02</td>\n",
       "      <td>4.38</td>\n",
       "      <td>6.81</td>\n",
       "      <td>6.14</td>\n",
       "      <td>1.63</td>\n",
       "      <td>3.39</td>\n",
       "      <td>8.36</td>\n",
       "      <td>21.034403</td>\n",
       "      <td>7.08</td>\n",
       "      <td>8.07</td>\n",
       "    </tr>\n",
       "    <tr>\n",
       "      <td>2019-01-07</td>\n",
       "      <td>1.08</td>\n",
       "      <td>4.43</td>\n",
       "      <td>7.01</td>\n",
       "      <td>6.54</td>\n",
       "      <td>1.68</td>\n",
       "      <td>3.41</td>\n",
       "      <td>7.28</td>\n",
       "      <td>21.962986</td>\n",
       "      <td>7.17</td>\n",
       "      <td>8.17</td>\n",
       "    </tr>\n",
       "    <tr>\n",
       "      <td>2019-01-08</td>\n",
       "      <td>1.15</td>\n",
       "      <td>4.51</td>\n",
       "      <td>7.47</td>\n",
       "      <td>6.66</td>\n",
       "      <td>1.58</td>\n",
       "      <td>3.49</td>\n",
       "      <td>5.89</td>\n",
       "      <td>21.599628</td>\n",
       "      <td>7.31</td>\n",
       "      <td>7.92</td>\n",
       "    </tr>\n",
       "    <tr>\n",
       "      <td>...</td>\n",
       "      <td>...</td>\n",
       "      <td>...</td>\n",
       "      <td>...</td>\n",
       "      <td>...</td>\n",
       "      <td>...</td>\n",
       "      <td>...</td>\n",
       "      <td>...</td>\n",
       "      <td>...</td>\n",
       "      <td>...</td>\n",
       "      <td>...</td>\n",
       "    </tr>\n",
       "    <tr>\n",
       "      <td>2021-02-08</td>\n",
       "      <td>2.83</td>\n",
       "      <td>3.29</td>\n",
       "      <td>3.53</td>\n",
       "      <td>4.79</td>\n",
       "      <td>4.30</td>\n",
       "      <td>5.75</td>\n",
       "      <td>2.72</td>\n",
       "      <td>4.550000</td>\n",
       "      <td>6.31</td>\n",
       "      <td>3.67</td>\n",
       "    </tr>\n",
       "    <tr>\n",
       "      <td>2021-02-09</td>\n",
       "      <td>2.92</td>\n",
       "      <td>3.22</td>\n",
       "      <td>3.49</td>\n",
       "      <td>4.73</td>\n",
       "      <td>4.32</td>\n",
       "      <td>6.27</td>\n",
       "      <td>2.83</td>\n",
       "      <td>4.530000</td>\n",
       "      <td>5.99</td>\n",
       "      <td>3.69</td>\n",
       "    </tr>\n",
       "    <tr>\n",
       "      <td>2021-02-10</td>\n",
       "      <td>2.89</td>\n",
       "      <td>3.20</td>\n",
       "      <td>3.35</td>\n",
       "      <td>4.81</td>\n",
       "      <td>4.14</td>\n",
       "      <td>6.09</td>\n",
       "      <td>2.91</td>\n",
       "      <td>5.460000</td>\n",
       "      <td>5.99</td>\n",
       "      <td>3.85</td>\n",
       "    </tr>\n",
       "    <tr>\n",
       "      <td>2021-02-11</td>\n",
       "      <td>2.83</td>\n",
       "      <td>3.11</td>\n",
       "      <td>3.55</td>\n",
       "      <td>4.68</td>\n",
       "      <td>4.06</td>\n",
       "      <td>6.04</td>\n",
       "      <td>2.76</td>\n",
       "      <td>5.100000</td>\n",
       "      <td>5.67</td>\n",
       "      <td>3.98</td>\n",
       "    </tr>\n",
       "    <tr>\n",
       "      <td>2021-02-12</td>\n",
       "      <td>3.00</td>\n",
       "      <td>3.11</td>\n",
       "      <td>3.52</td>\n",
       "      <td>4.61</td>\n",
       "      <td>3.89</td>\n",
       "      <td>5.41</td>\n",
       "      <td>2.86</td>\n",
       "      <td>4.830000</td>\n",
       "      <td>5.82</td>\n",
       "      <td>4.01</td>\n",
       "    </tr>\n",
       "  </tbody>\n",
       "</table>\n",
       "<p>534 rows × 10 columns</p>\n",
       "</div>"
      ],
      "text/plain": [
       "            LCTX  CALA  NERV   HLX  VBIV  CDXC  ECOR       JILL  WTTR  CHRA\n",
       "Date                                                                       \n",
       "2019-01-02  1.04  4.23  6.92  5.71  1.65  3.41  7.11  20.953659  6.80  8.10\n",
       "2019-01-03  0.96  4.15  6.64  5.70  1.62  3.23  7.60  20.307688  6.98  7.66\n",
       "2019-01-04  1.02  4.38  6.81  6.14  1.63  3.39  8.36  21.034403  7.08  8.07\n",
       "2019-01-07  1.08  4.43  7.01  6.54  1.68  3.41  7.28  21.962986  7.17  8.17\n",
       "2019-01-08  1.15  4.51  7.47  6.66  1.58  3.49  5.89  21.599628  7.31  7.92\n",
       "...          ...   ...   ...   ...   ...   ...   ...        ...   ...   ...\n",
       "2021-02-08  2.83  3.29  3.53  4.79  4.30  5.75  2.72   4.550000  6.31  3.67\n",
       "2021-02-09  2.92  3.22  3.49  4.73  4.32  6.27  2.83   4.530000  5.99  3.69\n",
       "2021-02-10  2.89  3.20  3.35  4.81  4.14  6.09  2.91   5.460000  5.99  3.85\n",
       "2021-02-11  2.83  3.11  3.55  4.68  4.06  6.04  2.76   5.100000  5.67  3.98\n",
       "2021-02-12  3.00  3.11  3.52  4.61  3.89  5.41  2.86   4.830000  5.82  4.01\n",
       "\n",
       "[534 rows x 10 columns]"
      ]
     },
     "execution_count": 362,
     "metadata": {},
     "output_type": "execute_result"
    }
   ],
   "source": [
    "top_10_df"
   ]
  },
  {
   "cell_type": "code",
   "execution_count": 361,
   "metadata": {},
   "outputs": [
    {
     "data": {
      "text/plain": [
       "<matplotlib.axes._subplots.AxesSubplot at 0x195e55210>"
      ]
     },
     "execution_count": 361,
     "metadata": {},
     "output_type": "execute_result"
    },
    {
     "data": {
      "image/png": "[encoded data removed]",
      "text/plain": [
       "<Figure size 1152x432 with 1 Axes>"
      ]
     },
     "metadata": {
      "needs_background": "light"
     },
     "output_type": "display_data"
    }
   ],
   "source": [
    "top_10_df.plot(figsize = (16,6))"
   ]
  },
  {
   "cell_type": "markdown",
   "metadata": {},
   "source": [
    "## Returns for top 10"
   ]
  },
  {
   "cell_type": "code",
   "execution_count": 364,
   "metadata": {},
   "outputs": [],
   "source": [
    "top_10_returns = penny_stocks_returns[top_10_weighted_tickers]"
   ]
  },
  {
   "cell_type": "code",
   "execution_count": 365,
   "metadata": {},
   "outputs": [],
   "source": [
    "n_portfolios = 2000\n",
    "all_weights = np.zeros((n_portfolios, len(top_10_df.columns)))\n",
    "all_Sharps = np.zeros(n_portfolios)\n",
    "all_vol = np.zeros(n_portfolios)\n",
    "all_returns = np.zeros(n_portfolios)\n",
    "\n",
    "for ind in range(n_portfolios):\n",
    "    weights = np.array(np.random.random(len(top_10_df.columns)))\n",
    "    weights = weights/weights.sum()\n",
    "    all_weights[ind,:] = weights\n",
    "    \n",
    "    all_returns[ind] = np.sum(top_10_returns.mean() * weights * 252)\n",
    "    all_vol[ind] = np.sqrt(np.dot(weights.T, np.dot(top_10_returns.cov() * 252, weights)))\n",
    "    all_Sharps[ind] = all_returns[ind]/all_vol[ind]"
   ]
  },
  {
   "cell_type": "markdown",
   "metadata": {},
   "source": [
    "## Getting the max sharp and the max returns and max vol"
   ]
  },
  {
   "cell_type": "code",
   "execution_count": 366,
   "metadata": {},
   "outputs": [],
   "source": [
    "max_shp = all_Sharps.argmax()"
   ]
  },
  {
   "cell_type": "code",
   "execution_count": 367,
   "metadata": {},
   "outputs": [
    {
     "data": {
      "text/plain": [
       "787"
      ]
     },
     "execution_count": 367,
     "metadata": {},
     "output_type": "execute_result"
    }
   ],
   "source": [
    "max_sharp"
   ]
  },
  {
   "cell_type": "code",
   "execution_count": 368,
   "metadata": {},
   "outputs": [],
   "source": [
    "max_re = all_returns.argmax()"
   ]
  },
  {
   "cell_type": "code",
   "execution_count": 369,
   "metadata": {},
   "outputs": [
    {
     "data": {
      "text/plain": [
       "1517"
      ]
     },
     "execution_count": 369,
     "metadata": {},
     "output_type": "execute_result"
    }
   ],
   "source": [
    "max_re"
   ]
  },
  {
   "cell_type": "code",
   "execution_count": 370,
   "metadata": {},
   "outputs": [],
   "source": [
    "low_vol = all_vol.argmin()"
   ]
  },
  {
   "cell_type": "code",
   "execution_count": 371,
   "metadata": {},
   "outputs": [
    {
     "data": {
      "text/plain": [
       "719"
      ]
     },
     "execution_count": 371,
     "metadata": {},
     "output_type": "execute_result"
    }
   ],
   "source": [
    "low_vol"
   ]
  },
  {
   "cell_type": "code",
   "execution_count": 395,
   "metadata": {},
   "outputs": [
    {
     "data": {
      "image/png": "[encoded data removed]",
      "text/plain": [
       "<Figure size 1152x432 with 2 Axes>"
      ]
     },
     "metadata": {
      "needs_background": "light"
     },
     "output_type": "display_data"
    }
   ],
   "source": [
    "plt.figure(figsize=(16,6))\n",
    "plt.scatter(all_vol, all_returns, c=all_Sharps)\n",
    "plt.colorbar(label = \"Sharp\")\n",
    "plt.scatter(all_vol[max_shp], all_returns[max_shp], c=\"red\", s = 80)\n",
    "plt.scatter(all_vol[low_vol], all_returns[low_vol], c=\"red\", s = 40)\n",
    "plt.scatter(all_vol[max_re], all_returns[max_re], c=\"orange\", s = 180)\n",
    "plt.ylabel(\"Portfolio Returns\")\n",
    "plt.xlabel(\"Vol\")\n",
    "plt.title(\"Optimized portfolio stocks < $6 \")\n",
    "plt.savefig(\"resources/penny_frontier.png\", dpi = 300)"
   ]
  },
  {
   "cell_type": "code",
   "execution_count": null,
   "metadata": {},
   "outputs": [],
   "source": []
  },
  {
   "cell_type": "markdown",
   "metadata": {},
   "source": [
    "### Penny Frontier"
   ]
  },
  {
   "cell_type": "code",
   "execution_count": 379,
   "metadata": {},
   "outputs": [],
   "source": [
    "penny_weights = pd.DataFrame(all_weights, columns=top_10_df.columns)"
   ]
  },
  {
   "cell_type": "code",
   "execution_count": 382,
   "metadata": {},
   "outputs": [],
   "source": [
    "sharp_df = pd.DataFrame(all_Sharps, columns=[\"sharp\"])"
   ]
  },
  {
   "cell_type": "code",
   "execution_count": 385,
   "metadata": {},
   "outputs": [],
   "source": [
    "penny_vol = pd.DataFrame(all_vol, columns=[\"vol\"])"
   ]
  },
  {
   "cell_type": "code",
   "execution_count": 386,
   "metadata": {},
   "outputs": [],
   "source": [
    "penny_returns = pd.DataFrame(all_returns, columns = [\"returns\"])"
   ]
  },
  {
   "cell_type": "code",
   "execution_count": 387,
   "metadata": {},
   "outputs": [],
   "source": [
    "penny_frontier = pd.concat([penny_returns, penny_vol, sharp_df, penny_weights], axis=1)"
   ]
  },
  {
   "cell_type": "code",
   "execution_count": 393,
   "metadata": {},
   "outputs": [
    {
     "data": {
      "text/html": [
       "<div>\n",
       "<style scoped>\n",
       "    .dataframe tbody tr th:only-of-type {\n",
       "        vertical-align: middle;\n",
       "    }\n",
       "\n",
       "    .dataframe tbody tr th {\n",
       "        vertical-align: top;\n",
       "    }\n",
       "\n",
       "    .dataframe thead th {\n",
       "        text-align: right;\n",
       "    }\n",
       "</style>\n",
       "<table border=\"1\" class=\"dataframe\">\n",
       "  <thead>\n",
       "    <tr style=\"text-align: right;\">\n",
       "      <th></th>\n",
       "      <th>returns</th>\n",
       "      <th>vol</th>\n",
       "      <th>sharp</th>\n",
       "      <th>LCTX</th>\n",
       "      <th>CALA</th>\n",
       "      <th>NERV</th>\n",
       "      <th>HLX</th>\n",
       "      <th>VBIV</th>\n",
       "      <th>CDXC</th>\n",
       "      <th>ECOR</th>\n",
       "      <th>JILL</th>\n",
       "      <th>WTTR</th>\n",
       "      <th>CHRA</th>\n",
       "    </tr>\n",
       "  </thead>\n",
       "  <tbody>\n",
       "    <tr>\n",
       "      <td>1517</td>\n",
       "      <td>0.799389</td>\n",
       "      <td>0.753133</td>\n",
       "      <td>1.061418</td>\n",
       "      <td>0.038385</td>\n",
       "      <td>0.087930</td>\n",
       "      <td>0.025500</td>\n",
       "      <td>0.089923</td>\n",
       "      <td>0.363321</td>\n",
       "      <td>0.015370</td>\n",
       "      <td>0.254110</td>\n",
       "      <td>0.029711</td>\n",
       "      <td>0.079943</td>\n",
       "      <td>0.015808</td>\n",
       "    </tr>\n",
       "    <tr>\n",
       "      <td>1949</td>\n",
       "      <td>0.756908</td>\n",
       "      <td>0.605444</td>\n",
       "      <td>1.250171</td>\n",
       "      <td>0.250612</td>\n",
       "      <td>0.074760</td>\n",
       "      <td>0.052013</td>\n",
       "      <td>0.093788</td>\n",
       "      <td>0.221586</td>\n",
       "      <td>0.078903</td>\n",
       "      <td>0.153018</td>\n",
       "      <td>0.022550</td>\n",
       "      <td>0.045240</td>\n",
       "      <td>0.007531</td>\n",
       "    </tr>\n",
       "    <tr>\n",
       "      <td>1694</td>\n",
       "      <td>0.724360</td>\n",
       "      <td>0.695092</td>\n",
       "      <td>1.042108</td>\n",
       "      <td>0.169239</td>\n",
       "      <td>0.014613</td>\n",
       "      <td>0.024582</td>\n",
       "      <td>0.072230</td>\n",
       "      <td>0.171616</td>\n",
       "      <td>0.075684</td>\n",
       "      <td>0.252401</td>\n",
       "      <td>0.008027</td>\n",
       "      <td>0.144724</td>\n",
       "      <td>0.066886</td>\n",
       "    </tr>\n",
       "    <tr>\n",
       "      <td>1333</td>\n",
       "      <td>0.723168</td>\n",
       "      <td>0.581184</td>\n",
       "      <td>1.244302</td>\n",
       "      <td>0.253569</td>\n",
       "      <td>0.071265</td>\n",
       "      <td>0.021444</td>\n",
       "      <td>0.075764</td>\n",
       "      <td>0.208716</td>\n",
       "      <td>0.062211</td>\n",
       "      <td>0.129249</td>\n",
       "      <td>0.022389</td>\n",
       "      <td>0.096332</td>\n",
       "      <td>0.059060</td>\n",
       "    </tr>\n",
       "    <tr>\n",
       "      <td>162</td>\n",
       "      <td>0.719615</td>\n",
       "      <td>0.692719</td>\n",
       "      <td>1.038827</td>\n",
       "      <td>0.115233</td>\n",
       "      <td>0.129823</td>\n",
       "      <td>0.080801</td>\n",
       "      <td>0.044595</td>\n",
       "      <td>0.207720</td>\n",
       "      <td>0.101986</td>\n",
       "      <td>0.254012</td>\n",
       "      <td>0.010893</td>\n",
       "      <td>0.040527</td>\n",
       "      <td>0.014407</td>\n",
       "    </tr>\n",
       "    <tr>\n",
       "      <td>...</td>\n",
       "      <td>...</td>\n",
       "      <td>...</td>\n",
       "      <td>...</td>\n",
       "      <td>...</td>\n",
       "      <td>...</td>\n",
       "      <td>...</td>\n",
       "      <td>...</td>\n",
       "      <td>...</td>\n",
       "      <td>...</td>\n",
       "      <td>...</td>\n",
       "      <td>...</td>\n",
       "      <td>...</td>\n",
       "      <td>...</td>\n",
       "    </tr>\n",
       "    <tr>\n",
       "      <td>6</td>\n",
       "      <td>0.301078</td>\n",
       "      <td>0.533372</td>\n",
       "      <td>0.564480</td>\n",
       "      <td>0.014379</td>\n",
       "      <td>0.114477</td>\n",
       "      <td>0.143848</td>\n",
       "      <td>0.176333</td>\n",
       "      <td>0.010891</td>\n",
       "      <td>0.196789</td>\n",
       "      <td>0.008022</td>\n",
       "      <td>0.197731</td>\n",
       "      <td>0.067471</td>\n",
       "      <td>0.070060</td>\n",
       "    </tr>\n",
       "    <tr>\n",
       "      <td>1863</td>\n",
       "      <td>0.296545</td>\n",
       "      <td>0.541925</td>\n",
       "      <td>0.547206</td>\n",
       "      <td>0.078373</td>\n",
       "      <td>0.198312</td>\n",
       "      <td>0.207625</td>\n",
       "      <td>0.012399</td>\n",
       "      <td>0.016743</td>\n",
       "      <td>0.075436</td>\n",
       "      <td>0.002219</td>\n",
       "      <td>0.193333</td>\n",
       "      <td>0.051733</td>\n",
       "      <td>0.163827</td>\n",
       "    </tr>\n",
       "    <tr>\n",
       "      <td>979</td>\n",
       "      <td>0.293388</td>\n",
       "      <td>0.535302</td>\n",
       "      <td>0.548081</td>\n",
       "      <td>0.011223</td>\n",
       "      <td>0.123323</td>\n",
       "      <td>0.118942</td>\n",
       "      <td>0.041341</td>\n",
       "      <td>0.032217</td>\n",
       "      <td>0.107282</td>\n",
       "      <td>0.025756</td>\n",
       "      <td>0.201903</td>\n",
       "      <td>0.172400</td>\n",
       "      <td>0.165615</td>\n",
       "    </tr>\n",
       "    <tr>\n",
       "      <td>419</td>\n",
       "      <td>0.292394</td>\n",
       "      <td>0.596498</td>\n",
       "      <td>0.490184</td>\n",
       "      <td>0.011112</td>\n",
       "      <td>0.077165</td>\n",
       "      <td>0.089447</td>\n",
       "      <td>0.202341</td>\n",
       "      <td>0.020713</td>\n",
       "      <td>0.005720</td>\n",
       "      <td>0.015128</td>\n",
       "      <td>0.157926</td>\n",
       "      <td>0.235522</td>\n",
       "      <td>0.184925</td>\n",
       "    </tr>\n",
       "    <tr>\n",
       "      <td>466</td>\n",
       "      <td>0.289034</td>\n",
       "      <td>0.536764</td>\n",
       "      <td>0.538475</td>\n",
       "      <td>0.006996</td>\n",
       "      <td>0.157480</td>\n",
       "      <td>0.109943</td>\n",
       "      <td>0.103359</td>\n",
       "      <td>0.034466</td>\n",
       "      <td>0.080627</td>\n",
       "      <td>0.007904</td>\n",
       "      <td>0.167781</td>\n",
       "      <td>0.160260</td>\n",
       "      <td>0.171183</td>\n",
       "    </tr>\n",
       "  </tbody>\n",
       "</table>\n",
       "<p>2000 rows × 13 columns</p>\n",
       "</div>"
      ],
      "text/plain": [
       "       returns       vol     sharp      LCTX      CALA      NERV       HLX  \\\n",
       "1517  0.799389  0.753133  1.061418  0.038385  0.087930  0.025500  0.089923   \n",
       "1949  0.756908  0.605444  1.250171  0.250612  0.074760  0.052013  0.093788   \n",
       "1694  0.724360  0.695092  1.042108  0.169239  0.014613  0.024582  0.072230   \n",
       "1333  0.723168  0.581184  1.244302  0.253569  0.071265  0.021444  0.075764   \n",
       "162   0.719615  0.692719  1.038827  0.115233  0.129823  0.080801  0.044595   \n",
       "...        ...       ...       ...       ...       ...       ...       ...   \n",
       "6     0.301078  0.533372  0.564480  0.014379  0.114477  0.143848  0.176333   \n",
       "1863  0.296545  0.541925  0.547206  0.078373  0.198312  0.207625  0.012399   \n",
       "979   0.293388  0.535302  0.548081  0.011223  0.123323  0.118942  0.041341   \n",
       "419   0.292394  0.596498  0.490184  0.011112  0.077165  0.089447  0.202341   \n",
       "466   0.289034  0.536764  0.538475  0.006996  0.157480  0.109943  0.103359   \n",
       "\n",
       "          VBIV      CDXC      ECOR      JILL      WTTR      CHRA  \n",
       "1517  0.363321  0.015370  0.254110  0.029711  0.079943  0.015808  \n",
       "1949  0.221586  0.078903  0.153018  0.022550  0.045240  0.007531  \n",
       "1694  0.171616  0.075684  0.252401  0.008027  0.144724  0.066886  \n",
       "1333  0.208716  0.062211  0.129249  0.022389  0.096332  0.059060  \n",
       "162   0.207720  0.101986  0.254012  0.010893  0.040527  0.014407  \n",
       "...        ...       ...       ...       ...       ...       ...  \n",
       "6     0.010891  0.196789  0.008022  0.197731  0.067471  0.070060  \n",
       "1863  0.016743  0.075436  0.002219  0.193333  0.051733  0.163827  \n",
       "979   0.032217  0.107282  0.025756  0.201903  0.172400  0.165615  \n",
       "419   0.020713  0.005720  0.015128  0.157926  0.235522  0.184925  \n",
       "466   0.034466  0.080627  0.007904  0.167781  0.160260  0.171183  \n",
       "\n",
       "[2000 rows x 13 columns]"
      ]
     },
     "execution_count": 393,
     "metadata": {},
     "output_type": "execute_result"
    }
   ],
   "source": [
    "penny_frontier.sort_values(\"returns\", ascending=False)"
   ]
  },
  {
   "cell_type": "code",
   "execution_count": null,
   "metadata": {},
   "outputs": [],
   "source": []
  }
 ],
 "metadata": {
  "kernelspec": {
   "display_name": "Python 3",
   "language": "python",
   "name": "python3"
  },
  "language_info": {
   "codemirror_mode": {
    "name": "ipython",
    "version": 3
   },
   "file_extension": ".py",
   "mimetype": "text/x-python",
   "name": "python",
   "nbconvert_exporter": "python",
   "pygments_lexer": "ipython3",
   "version": "3.7.4"
  }
 },
 "nbformat": 4,
 "nbformat_minor": 4
}
